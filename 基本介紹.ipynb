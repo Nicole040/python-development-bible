{
  "nbformat": 4,
  "nbformat_minor": 0,
  "metadata": {
    "colab": {
      "provenance": [],
      "collapsed_sections": [
        "lAdsRPqN_KXJ",
        "BnBLSf7pE_Br",
        "5tl3Ew4-GxM8"
      ],
      "toc_visible": true,
      "gpuType": "T4",
      "authorship_tag": "ABX9TyMhuvJELJFaNLue6oUG2LVB",
      "include_colab_link": true
    },
    "kernelspec": {
      "name": "python3",
      "display_name": "Python 3"
    },
    "language_info": {
      "name": "python"
    },
    "accelerator": "GPU"
  },
  "cells": [
    {
      "cell_type": "markdown",
      "metadata": {
        "id": "view-in-github",
        "colab_type": "text"
      },
      "source": [
        "<a href=\"https://colab.research.google.com/github/Nicole040/python-development-bible/blob/main/%E5%9F%BA%E6%9C%AC%E4%BB%8B%E7%B4%B9.ipynb\" target=\"_parent\"><img src=\"https://colab.research.google.com/assets/colab-badge.svg\" alt=\"Open In Colab\"/></a>"
      ]
    },
    {
      "cell_type": "markdown",
      "source": [
        "\n",
        "# 基本操作"
      ],
      "metadata": {
        "id": "lAdsRPqN_KXJ"
      }
    },
    {
      "cell_type": "markdown",
      "source": [
        "\n",
        "\n",
        "*   使用GPU模式\n",
        "*   虛擬機器啟動/重整\n",
        "\n"
      ],
      "metadata": {
        "id": "x-YrlAcgEmPP"
      }
    },
    {
      "cell_type": "markdown",
      "source": [
        "# 虛擬機器的檔案管理"
      ],
      "metadata": {
        "id": "BnBLSf7pE_Br"
      }
    },
    {
      "cell_type": "markdown",
      "source": [
        "\n",
        "\n",
        "*   預設資料夾\n",
        "*   上傳檔案\n",
        " *   虛擬機器重啟，執行階段上傳或生成的檔案都會刪除還原\n",
        "*   檔案管理\n",
        "*   檔案瀏覽\n",
        "\n"
      ],
      "metadata": {
        "id": "3PFJVQs1FZBD"
      }
    },
    {
      "cell_type": "markdown",
      "source": [
        "# 執行Shell命令：「！」\n",
        "\n",
        "\n",
        "*   格式：!shell指令\n",
        "\n"
      ],
      "metadata": {
        "id": "5tl3Ew4-GxM8"
      }
    },
    {
      "cell_type": "code",
      "execution_count": null,
      "metadata": {
        "id": "zCJlhUU10pwv"
      },
      "outputs": [],
      "source": [
        "# 安裝用於下載YouTube影片的pytube模組\n",
        "!pip install pytube\n",
        "\n",
        "# 查看已安裝模組\n",
        "!pip list\n",
        "\n",
        "# 查看現在目錄\n",
        "!pwd"
      ]
    },
    {
      "cell_type": "markdown",
      "source": [
        "# 魔術指令：「%」\n",
        "\n",
        "\n",
        "*   行魔術指令(Line Magic)以「%」開頭，適用單行命令\n",
        "*   儲存格魔術指令(Cell Magic)以「%%」開頭，適用多行命令\n",
        "\n"
      ],
      "metadata": {
        "id": "onaqDQ5tIEIt"
      }
    },
    {
      "cell_type": "code",
      "source": [
        "# 顯示所有可用的魔術指令\n",
        "%Ismagic\n",
        "\n",
        "# 切換目錄\n",
        "%cd\n",
        "\n",
        "# 計算程式執行時間\n",
        "%timeit\n",
        "%%timeit\n",
        "\n",
        "# 新增文字檔內容\n",
        "%%writefile\n",
        "\n",
        "# 執行檔案\n",
        "%run\n",
        "\n",
        "# 查看目前存在的所有變數、類型\n",
        "% whos"
      ],
      "metadata": {
        "id": "FWvOwFBPItHc"
      },
      "execution_count": null,
      "outputs": []
    },
    {
      "cell_type": "markdown",
      "source": [
        "# 表單互動"
      ],
      "metadata": {
        "id": "ItSQCkewL6gV"
      }
    },
    {
      "cell_type": "code",
      "source": [
        "# @title 表單-文字欄位\n",
        "password = \"123456\" # @param {type:\"string\"}\n",
        "if password == '1234':\n",
        "  print('welcome')\n",
        "else:\n",
        "  print('error')"
      ],
      "metadata": {
        "colab": {
          "base_uri": "https://localhost:8080/"
        },
        "id": "1DUPhGZ9MMlK",
        "outputId": "c5d4f945-f64a-4bfe-ca69-1a181f07ce30"
      },
      "execution_count": 3,
      "outputs": [
        {
          "output_type": "stream",
          "name": "stdout",
          "text": [
            "welcome\n"
          ]
        }
      ]
    },
    {
      "cell_type": "code",
      "source": [
        "# @title 表單-整數欄位\n",
        "height_cm = 170 # @param {type:\"integer\"}\n",
        "weight_kg = 60 # @param {type:\"integer\"}\n",
        "bmi = weight_kg/(height_cm*0.01)**2\n",
        "print('BMI為{:1f}'.format(bmi))"
      ],
      "metadata": {
        "colab": {
          "base_uri": "https://localhost:8080/"
        },
        "id": "ZFKcdVj-NpF5",
        "outputId": "fcc45fda-6824-49b4-d939-296cd30c3baa"
      },
      "execution_count": 4,
      "outputs": [
        {
          "output_type": "stream",
          "name": "stdout",
          "text": [
            "BMI為20.761246\n"
          ]
        }
      ]
    },
    {
      "cell_type": "code",
      "source": [
        "# @title 表單-浮點數欄位\n",
        "radium = 6.0 # @param {type:\"number\"}\n",
        "area = 3.14 * radium**2\n",
        "print('圓面積為{:.2f}'.format(area))"
      ],
      "metadata": {
        "colab": {
          "base_uri": "https://localhost:8080/"
        },
        "id": "TRpY44vlOujz",
        "outputId": "faefca62-b63a-4e28-9594-794d97705c70"
      },
      "execution_count": 5,
      "outputs": [
        {
          "output_type": "stream",
          "name": "stdout",
          "text": [
            "圓面積為113.04\n"
          ]
        }
      ]
    },
    {
      "cell_type": "code",
      "source": [
        "# @title 表單-整數滑桿\n",
        "height_cm = 170 # @param {type:\"slider\", min:130, max:200, step:1}\n",
        "weight_kg = 60 # @param {type:\"slider\", min:30, max:150, step:1}\n",
        "bmi = weight_kg/(height_cm*0.01)**2\n",
        "print('BMI為{:1f}'.format(bmi))"
      ],
      "metadata": {
        "colab": {
          "base_uri": "https://localhost:8080/"
        },
        "id": "rVyhlAd5P42w",
        "outputId": "65296fce-55ed-4748-f4d3-5bbe04442788"
      },
      "execution_count": 6,
      "outputs": [
        {
          "output_type": "stream",
          "name": "stdout",
          "text": [
            "BMI為20.761246\n"
          ]
        }
      ]
    },
    {
      "cell_type": "code",
      "source": [
        "# @title 表單-浮點數滑桿\n",
        "radium = 6.0 # @param {type:\"slider\", min:3.0, max:20.0, step:0.5}\n",
        "area = 3.14 * radium**2\n",
        "print('圓面積為{:.2f}'.format(area))"
      ],
      "metadata": {
        "colab": {
          "base_uri": "https://localhost:8080/"
        },
        "id": "NPAna5oUQoaJ",
        "outputId": "9727f30b-eeec-4a67-8df0-4a0b7b6e572a"
      },
      "execution_count": 7,
      "outputs": [
        {
          "output_type": "stream",
          "name": "stdout",
          "text": [
            "圓面積為113.04\n"
          ]
        }
      ]
    },
    {
      "cell_type": "code",
      "source": [
        "# @title 表單-下拉選單、日期及布林欄位\n",
        "sport = \"籃球\" # @param [\"籃球\", \"棒球\", \"足球\", \"其他\"]\n",
        "indate = \"2024-06-02\" # @param {type:\"date\"}\n",
        "male = False # @param {type:\"boolean\"}\n",
        "\n",
        "print('比賽項目：{}'.format(sport))\n",
        "print('比賽日期：{}'.format(indate))\n",
        "if male:\n",
        "  print('組別：男子組')\n",
        "else:\n",
        "  print('組別：女子組')\n"
      ],
      "metadata": {
        "colab": {
          "base_uri": "https://localhost:8080/"
        },
        "id": "xczSi_LtQ2-D",
        "outputId": "8b6d87e1-c6a4-409a-cf3a-09c035c0ff8a"
      },
      "execution_count": 11,
      "outputs": [
        {
          "output_type": "stream",
          "name": "stdout",
          "text": [
            "比賽項目：籃球\n",
            "比賽日期：2024-06-02\n",
            "組別：女子組\n"
          ]
        }
      ]
    }
  ]
}