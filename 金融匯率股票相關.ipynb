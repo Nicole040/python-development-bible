{
  "nbformat": 4,
  "nbformat_minor": 0,
  "metadata": {
    "colab": {
      "provenance": [],
      "toc_visible": true,
      "authorship_tag": "ABX9TyNreSePLX9smQemI9kiGX/D",
      "include_colab_link": true
    },
    "kernelspec": {
      "name": "python3",
      "display_name": "Python 3"
    },
    "language_info": {
      "name": "python"
    }
  },
  "cells": [
    {
      "cell_type": "markdown",
      "metadata": {
        "id": "view-in-github",
        "colab_type": "text"
      },
      "source": [
        "<a href=\"https://colab.research.google.com/github/Nicole040/python-development-bible/blob/main/%E9%87%91%E8%9E%8D%E5%8C%AF%E7%8E%87%E8%82%A1%E7%A5%A8%E7%9B%B8%E9%97%9C.ipynb\" target=\"_parent\"><img src=\"https://colab.research.google.com/assets/colab-badge.svg\" alt=\"Open In Colab\"/></a>"
      ]
    },
    {
      "cell_type": "markdown",
      "source": [
        "# 匯率相關模組"
      ],
      "metadata": {
        "id": "LLsu35ncGWGo"
      }
    },
    {
      "cell_type": "markdown",
      "source": [
        "## twder模組：新台幣匯率擷取"
      ],
      "metadata": {
        "id": "Z8E1acvPGbta"
      }
    },
    {
      "cell_type": "code",
      "source": [
        "!pip install twder"
      ],
      "metadata": {
        "id": "H5mgu4X6HgTU",
        "colab": {
          "base_uri": "https://localhost:8080/"
        },
        "outputId": "e737f8b3-ce79-41ce-819a-62ea56bff150"
      },
      "execution_count": 1,
      "outputs": [
        {
          "output_type": "stream",
          "name": "stdout",
          "text": [
            "Collecting twder\n",
            "  Downloading twder-0.2.2-py3-none-any.whl (4.5 kB)\n",
            "Requirement already satisfied: lxml in /usr/local/lib/python3.10/dist-packages (from twder) (4.9.4)\n",
            "Installing collected packages: twder\n",
            "Successfully installed twder-0.2.2\n"
          ]
        }
      ]
    },
    {
      "cell_type": "code",
      "execution_count": 5,
      "metadata": {
        "id": "pcEQ9PUqGSL5",
        "colab": {
          "base_uri": "https://localhost:8080/"
        },
        "outputId": "7a1484b1-7b79-4b16-d310-1c19f897c7db"
      },
      "outputs": [
        {
          "output_type": "execute_result",
          "data": {
            "text/plain": [
              "['USD',\n",
              " 'HKD',\n",
              " 'GBP',\n",
              " 'AUD',\n",
              " 'CAD',\n",
              " 'SGD',\n",
              " 'CHF',\n",
              " 'JPY',\n",
              " 'ZAR',\n",
              " 'SEK',\n",
              " 'NZD',\n",
              " 'THB',\n",
              " 'PHP',\n",
              " 'IDR',\n",
              " 'EUR',\n",
              " 'KRW',\n",
              " 'VND',\n",
              " 'MYR',\n",
              " 'CNY']"
            ]
          },
          "metadata": {},
          "execution_count": 5
        }
      ],
      "source": [
        "import twder\n",
        "twder.currencies() # 取得貨幣代碼"
      ]
    },
    {
      "cell_type": "code",
      "source": [
        "print(twder.currency_name_dict()) # 以字典格式傳回"
      ],
      "metadata": {
        "colab": {
          "base_uri": "https://localhost:8080/"
        },
        "id": "4yW0EuZjl8DG",
        "outputId": "48b657d9-67b1-455e-8107-9b1b9cc6b0d4"
      },
      "execution_count": 8,
      "outputs": [
        {
          "output_type": "stream",
          "name": "stdout",
          "text": [
            "{'USD': '美金 (USD)', 'HKD': '港幣 (HKD)', 'GBP': '英鎊 (GBP)', 'AUD': '澳幣 (AUD)', 'CAD': '加拿大幣 (CAD)', 'SGD': '新加坡幣 (SGD)', 'CHF': '瑞士法郎 (CHF)', 'JPY': '日圓 (JPY)', 'ZAR': '南非幣 (ZAR)', 'SEK': '瑞典幣 (SEK)', 'NZD': '紐元 (NZD)', 'THB': '泰幣 (THB)', 'PHP': '菲國比索 (PHP)', 'IDR': '印尼幣 (IDR)', 'EUR': '歐元 (EUR)', 'KRW': '韓元 (KRW)', 'VND': '越南盾 (VND)', 'MYR': '馬來幣 (MYR)', 'CNY': '人民幣 (CNY)'}\n"
          ]
        }
      ]
    },
    {
      "cell_type": "code",
      "source": [
        "print(twder.now_all()) # 取得所有貨幣匯率(時間,現金買入,現金賣出,即期買入,即期賣出)"
      ],
      "metadata": {
        "colab": {
          "base_uri": "https://localhost:8080/"
        },
        "id": "pWwp5aFSmQRy",
        "outputId": "3b4c1b1e-8d34-42e6-abeb-341e45815a06"
      },
      "execution_count": 9,
      "outputs": [
        {
          "output_type": "stream",
          "name": "stdout",
          "text": [
            "{'USD': ('2024/07/11 14:59', '32.12', '32.79', '32.47', '32.57'), 'HKD': ('2024/07/11 14:59', '4.008', '4.212', '4.134', '4.194'), 'GBP': ('2024/07/11 14:59', '40.62', '42.74', '41.63', '42.03'), 'AUD': ('2024/07/11 14:59', '21.58', '22.36', '21.87', '22.07'), 'CAD': ('2024/07/11 14:59', '23.37', '24.28', '23.77', '23.97'), 'SGD': ('2024/07/11 14:59', '23.54', '24.45', '24.03', '24.21'), 'CHF': ('2024/07/11 14:59', '35.33', '36.53', '36.01', '36.26'), 'JPY': ('2024/07/11 14:59', '0.1918', '0.2046', '0.1991', '0.2031'), 'ZAR': ('2024/07/11 14:59', '-', '-', '1.755', '1.835'), 'SEK': ('2024/07/11 14:59', '2.7', '3.22', '3.04', '3.14'), 'NZD': ('2024/07/11 14:59', '19.34', '20.19', '19.72', '19.92'), 'THB': ('2024/07/11 14:59', '0.7683', '0.9583', '0.8817', '0.9217'), 'PHP': ('2024/07/11 14:59', '0.4918', '0.6238', '-', '-'), 'IDR': ('2024/07/11 14:59', '0.00168', '0.00238', '-', '-'), 'EUR': ('2024/07/11 14:59', '34.42', '35.76', '35.04', '35.44'), 'KRW': ('2024/07/11 14:59', '0.02184', '0.02574', '-', '-'), 'VND': ('2024/07/11 14:59', '0.00105', '0.00146', '-', '-'), 'MYR': ('2024/07/11 14:59', '5.909', '7.434', '-', '-'), 'CNY': ('2024/07/11 14:59', '4.366', '4.528', '4.438', '4.488')}\n"
          ]
        }
      ]
    },
    {
      "cell_type": "code",
      "source": [
        "print(twder.now('USD')) # 取得特定貨幣匯率(時間,現金買入,現金賣出,即期買入,即期賣出)"
      ],
      "metadata": {
        "colab": {
          "base_uri": "https://localhost:8080/"
        },
        "id": "1jsQ7b4EmpmJ",
        "outputId": "dd61f024-777f-48e5-e2da-328453b69b07"
      },
      "execution_count": 13,
      "outputs": [
        {
          "output_type": "stream",
          "name": "stdout",
          "text": [
            "('2024/07/11 14:59', '32.12', '32.79', '32.47', '32.57')\n"
          ]
        }
      ]
    },
    {
      "cell_type": "code",
      "source": [
        "print(twder.past_day('USD')) # 取得特定貨幣今天目前匯率記錄(時間,現金買入,現金賣出,即期買入,即期賣出)"
      ],
      "metadata": {
        "colab": {
          "base_uri": "https://localhost:8080/"
        },
        "id": "iaH3Ivp_nNdB",
        "outputId": "98a78eae-239e-472a-a8bb-627c0537b72a"
      },
      "execution_count": 14,
      "outputs": [
        {
          "output_type": "stream",
          "name": "stdout",
          "text": [
            "[('2024/07/11 09:01:58', '32.17', '32.84', '32.52', '32.62'), ('2024/07/11 09:05:55', '32.175', '32.845', '32.525', '32.625'), ('2024/07/11 09:07:22', '32.175', '32.845', '32.525', '32.625'), ('2024/07/11 09:13:04', '32.18', '32.85', '32.53', '32.63'), ('2024/07/11 09:16:35', '32.185', '32.855', '32.535', '32.635'), ('2024/07/11 09:18:08', '32.19', '32.86', '32.54', '32.64'), ('2024/07/11 09:19:32', '32.195', '32.865', '32.545', '32.645'), ('2024/07/11 09:25:31', '32.195', '32.865', '32.545', '32.645'), ('2024/07/11 09:25:57', '32.19', '32.86', '32.54', '32.64'), ('2024/07/11 09:28:52', '32.185', '32.855', '32.535', '32.635'), ('2024/07/11 09:30:24', '32.18', '32.85', '32.53', '32.63'), ('2024/07/11 09:33:11', '32.18', '32.85', '32.53', '32.63'), ('2024/07/11 09:33:20', '32.175', '32.845', '32.525', '32.625'), ('2024/07/11 09:33:55', '32.165', '32.835', '32.515', '32.615'), ('2024/07/11 09:39:18', '32.165', '32.835', '32.515', '32.615'), ('2024/07/11 09:47:50', '32.165', '32.835', '32.515', '32.615'), ('2024/07/11 09:48:50', '32.165', '32.835', '32.515', '32.615'), ('2024/07/11 09:49:21', '32.16', '32.83', '32.51', '32.61'), ('2024/07/11 09:52:13', '32.16', '32.83', '32.51', '32.61'), ('2024/07/11 09:52:59', '32.15', '32.82', '32.5', '32.6'), ('2024/07/11 09:57:31', '32.155', '32.825', '32.505', '32.605'), ('2024/07/11 10:00:03', '32.155', '32.825', '32.505', '32.605'), ('2024/07/11 10:01:00', '32.16', '32.83', '32.51', '32.61'), ('2024/07/11 10:01:46', '32.165', '32.835', '32.515', '32.615'), ('2024/07/11 10:03:30', '32.17', '32.84', '32.52', '32.62'), ('2024/07/11 10:04:30', '32.17', '32.84', '32.52', '32.62'), ('2024/07/11 10:10:59', '32.17', '32.84', '32.52', '32.62'), ('2024/07/11 10:15:32', '32.165', '32.835', '32.515', '32.615'), ('2024/07/11 10:25:23', '32.165', '32.835', '32.515', '32.615'), ('2024/07/11 10:29:01', '32.165', '32.835', '32.515', '32.615'), ('2024/07/11 10:31:18', '32.16', '32.83', '32.51', '32.61'), ('2024/07/11 10:39:10', '32.16', '32.83', '32.51', '32.61'), ('2024/07/11 10:47:13', '32.155', '32.825', '32.505', '32.605'), ('2024/07/11 10:58:15', '32.155', '32.825', '32.505', '32.605'), ('2024/07/11 10:59:53', '32.155', '32.825', '32.505', '32.605'), ('2024/07/11 11:01:13', '32.15', '32.82', '32.5', '32.6'), ('2024/07/11 11:05:19', '32.145', '32.815', '32.495', '32.595'), ('2024/07/11 11:06:10', '32.14', '32.81', '32.49', '32.59'), ('2024/07/11 11:12:49', '32.14', '32.81', '32.49', '32.59'), ('2024/07/11 11:20:13', '32.135', '32.805', '32.485', '32.585'), ('2024/07/11 11:26:41', '32.135', '32.805', '32.485', '32.585'), ('2024/07/11 11:46:51', '32.13', '32.8', '32.48', '32.58'), ('2024/07/11 11:49:53', '32.125', '32.795', '32.475', '32.575'), ('2024/07/11 11:57:39', '32.12', '32.79', '32.47', '32.57'), ('2024/07/11 12:01:16', '32.115', '32.785', '32.465', '32.565'), ('2024/07/11 12:04:13', '32.115', '32.785', '32.465', '32.565'), ('2024/07/11 12:09:36', '32.115', '32.785', '32.465', '32.565'), ('2024/07/11 12:21:33', '32.115', '32.785', '32.465', '32.565'), ('2024/07/11 12:34:25', '32.115', '32.785', '32.465', '32.565'), ('2024/07/11 12:47:07', '32.115', '32.785', '32.465', '32.565'), ('2024/07/11 12:57:00', '32.115', '32.785', '32.465', '32.565'), ('2024/07/11 12:59:36', '32.115', '32.785', '32.465', '32.565'), ('2024/07/11 13:11:07', '32.115', '32.785', '32.465', '32.565'), ('2024/07/11 13:23:19', '32.115', '32.785', '32.465', '32.565'), ('2024/07/11 13:29:52', '32.115', '32.785', '32.465', '32.565'), ('2024/07/11 13:44:04', '32.115', '32.785', '32.465', '32.565'), ('2024/07/11 13:51:48', '32.115', '32.785', '32.465', '32.565'), ('2024/07/11 14:00:23', '32.12', '32.79', '32.47', '32.57'), ('2024/07/11 14:01:37', '32.13', '32.8', '32.48', '32.58'), ('2024/07/11 14:07:11', '32.13', '32.8', '32.48', '32.58'), ('2024/07/11 14:07:38', '32.12', '32.79', '32.47', '32.57'), ('2024/07/11 14:07:55', '32.125', '32.795', '32.475', '32.575'), ('2024/07/11 14:12:01', '32.12', '32.79', '32.47', '32.57'), ('2024/07/11 14:16:56', '32.125', '32.795', '32.475', '32.575'), ('2024/07/11 14:21:17', '32.13', '32.8', '32.48', '32.58'), ('2024/07/11 14:23:28', '32.135', '32.805', '32.485', '32.585'), ('2024/07/11 14:30:43', '32.13', '32.8', '32.48', '32.58'), ('2024/07/11 14:36:01', '32.135', '32.805', '32.485', '32.585'), ('2024/07/11 14:42:59', '32.13', '32.8', '32.48', '32.58'), ('2024/07/11 14:45:01', '32.13', '32.8', '32.48', '32.58'), ('2024/07/11 14:54:52', '32.13', '32.8', '32.48', '32.58'), ('2024/07/11 14:59:01', '32.125', '32.795', '32.475', '32.575'), ('2024/07/11 14:59:30', '32.12', '32.79', '32.47', '32.57')]\n"
          ]
        }
      ]
    },
    {
      "cell_type": "code",
      "source": [
        "print(twder.past_six_month('USD')) # 取得特定貨幣過去六個月匯率記錄，每天一筆(時間,現金買入,現金賣出,即期買入,即期賣出)"
      ],
      "metadata": {
        "colab": {
          "base_uri": "https://localhost:8080/"
        },
        "id": "HjQkR2QZnoHG",
        "outputId": "bc9f8d3f-9e82-40b0-a96a-a565ba219adc"
      },
      "execution_count": 15,
      "outputs": [
        {
          "output_type": "stream",
          "name": "stdout",
          "text": [
            "[('2024/07/11', '32.12', '32.79', '32.47', '32.57'), ('2024/07/10', '32.185', '32.855', '32.535', '32.635'), ('2024/07/09', '32.15', '32.82', '32.5', '32.6'), ('2024/07/08', '32.095', '32.765', '32.445', '32.545'), ('2024/07/05', '32.075', '32.745', '32.425', '32.525'), ('2024/07/04', '32.075', '32.745', '32.425', '32.525'), ('2024/07/03', '32.23', '32.9', '32.58', '32.68'), ('2024/07/02', '32.22', '32.89', '32.57', '32.67'), ('2024/07/01', '32.145', '32.815', '32.495', '32.595'), ('2024/06/28', '32.05', '32.72', '32.4', '32.5'), ('2024/06/27', '32.13', '32.8', '32.48', '32.58'), ('2024/06/26', '32.15', '32.82', '32.5', '32.6'), ('2024/06/25', '32.045', '32.715', '32.395', '32.495'), ('2024/06/24', '31.99', '32.66', '32.34', '32.44'), ('2024/06/21', '31.97', '32.64', '32.32', '32.42'), ('2024/06/20', '31.925', '32.595', '32.275', '32.375'), ('2024/06/19', '31.955', '32.625', '32.305', '32.405'), ('2024/06/18', '31.995', '32.665', '32.345', '32.445'), ('2024/06/17', '31.985', '32.655', '32.335', '32.435'), ('2024/06/14', '31.945', '32.615', '32.295', '32.395'), ('2024/06/13', '31.93', '32.6', '32.28', '32.38'), ('2024/06/12', '31.985', '32.655', '32.335', '32.435'), ('2024/06/11', '31.995', '32.665', '32.345', '32.445'), ('2024/06/07', '31.85', '32.52', '32.2', '32.3'), ('2024/06/06', '31.87', '32.54', '32.22', '32.32'), ('2024/06/05', '31.94', '32.61', '32.29', '32.39'), ('2024/06/04', '31.995', '32.665', '32.345', '32.445'), ('2024/06/03', '31.995', '32.665', '32.345', '32.445'), ('2024/05/31', '32', '32.67', '32.35', '32.45'), ('2024/05/30', '32.04', '32.71', '32.39', '32.49'), ('2024/05/29', '31.895', '32.565', '32.245', '32.345'), ('2024/05/28', '31.77', '32.44', '32.12', '32.22'), ('2024/05/27', '31.78', '32.45', '32.13', '32.23'), ('2024/05/24', '31.865', '32.535', '32.215', '32.315'), ('2024/05/23', '31.84', '32.51', '32.19', '32.29'), ('2024/05/22', '31.875', '32.545', '32.225', '32.325'), ('2024/05/21', '31.89', '32.56', '32.24', '32.34'), ('2024/05/20', '31.835', '32.505', '32.185', '32.285'), ('2024/05/17', '31.81', '32.48', '32.16', '32.26'), ('2024/05/16', '31.705', '32.375', '32.055', '32.155'), ('2024/05/15', '31.905', '32.575', '32.255', '32.355'), ('2024/05/14', '32.015', '32.685', '32.365', '32.465'), ('2024/05/13', '32.015', '32.685', '32.365', '32.465'), ('2024/05/10', '32.015', '32.685', '32.365', '32.465'), ('2024/05/09', '32.055', '32.725', '32.405', '32.505'), ('2024/05/08', '32.01', '32.68', '32.36', '32.46'), ('2024/05/07', '31.97', '32.64', '32.32', '32.42'), ('2024/05/06', '31.95', '32.62', '32.3', '32.4'), ('2024/05/03', '31.975', '32.645', '32.325', '32.425'), ('2024/05/02', '32.1', '32.77', '32.45', '32.55'), ('2024/04/30', '32.145', '32.815', '32.495', '32.595'), ('2024/04/29', '32.16', '32.83', '32.51', '32.61'), ('2024/04/26', '32.17', '32.84', '32.52', '32.62'), ('2024/04/25', '32.18', '32.85', '32.53', '32.63'), ('2024/04/24', '32.135', '32.805', '32.485', '32.585'), ('2024/04/23', '32.195', '32.865', '32.545', '32.645'), ('2024/04/22', '32.24', '32.91', '32.59', '32.69'), ('2024/04/19', '32.115', '32.785', '32.465', '32.565'), ('2024/04/18', '31.975', '32.645', '32.325', '32.425'), ('2024/04/17', '32.09', '32.76', '32.44', '32.54'), ('2024/04/16', '32.095', '32.765', '32.445', '32.545'), ('2024/04/15', '31.98', '32.65', '32.33', '32.43'), ('2024/04/12', '31.895', '32.565', '32.245', '32.345'), ('2024/04/11', '31.83', '32.5', '32.18', '32.28'), ('2024/04/10', '31.61', '32.28', '31.96', '32.06'), ('2024/04/09', '31.705', '32.375', '32.055', '32.155'), ('2024/04/08', '31.7', '32.37', '32.05', '32.15'), ('2024/04/03', '31.66', '32.33', '32.01', '32.11'), ('2024/04/02', '31.675', '32.345', '32.025', '32.125'), ('2024/04/01', '31.58', '32.25', '31.93', '32.03'), ('2024/03/29', '31.6', '32.27', '31.95', '32.05'), ('2024/03/28', '31.59', '32.26', '31.94', '32.04'), ('2024/03/27', '31.6', '32.27', '31.95', '32.05'), ('2024/03/26', '31.505', '32.175', '31.855', '31.955'), ('2024/03/25', '31.465', '32.135', '31.815', '31.915'), ('2024/03/22', '31.56', '32.23', '31.91', '32.01'), ('2024/03/21', '31.435', '32.105', '31.785', '31.885'), ('2024/03/20', '31.47', '32.14', '31.82', '31.92'), ('2024/03/19', '31.38', '32.05', '31.73', '31.83'), ('2024/03/18', '31.26', '31.93', '31.61', '31.71'), ('2024/03/15', '31.2', '31.87', '31.55', '31.65'), ('2024/03/14', '31.1', '31.77', '31.45', '31.55'), ('2024/03/13', '31.065', '31.735', '31.415', '31.515'), ('2024/03/12', '31.02', '31.69', '31.37', '31.47'), ('2024/03/11', '31.02', '31.69', '31.37', '31.47'), ('2024/03/08', '31.03', '31.7', '31.38', '31.48'), ('2024/03/07', '31.14', '31.81', '31.49', '31.59'), ('2024/03/06', '31.175', '31.845', '31.525', '31.625'), ('2024/03/05', '31.165', '31.835', '31.515', '31.615'), ('2024/03/04', '31.125', '31.795', '31.475', '31.575'), ('2024/03/01', '31.21', '31.88', '31.56', '31.66'), ('2024/02/29', '31.18', '31.85', '31.53', '31.63'), ('2024/02/27', '31.17', '31.84', '31.52', '31.62'), ('2024/02/26', '31.15', '31.82', '31.5', '31.6'), ('2024/02/23', '31.155', '31.825', '31.505', '31.605'), ('2024/02/22', '31.11', '31.78', '31.46', '31.56'), ('2024/02/21', '31.13', '31.8', '31.48', '31.58'), ('2024/02/20', '31.1', '31.77', '31.45', '31.55'), ('2024/02/19', '31', '31.67', '31.35', '31.45'), ('2024/02/17', '30.985', '31.655', '31.335', '31.435'), ('2024/02/16', '30.96', '31.63', '31.31', '31.41'), ('2024/02/15', '31.03', '31.7', '31.38', '31.48'), ('2024/02/07', '30.95', '31.62', '31.3', '31.4'), ('2024/02/06', '30.93', '31.6', '31.28', '31.38'), ('2024/02/05', '30.97', '31.64', '31.32', '31.42'), ('2024/02/02', '30.835', '31.505', '31.185', '31.285'), ('2024/02/01', '30.93', '31.6', '31.28', '31.38'), ('2024/01/31', '30.89', '31.56', '31.24', '31.34'), ('2024/01/30', '30.74', '31.41', '31.09', '31.19'), ('2024/01/29', '30.85', '31.52', '31.2', '31.3'), ('2024/01/26', '30.89', '31.56', '31.24', '31.34'), ('2024/01/25', '30.91', '31.58', '31.26', '31.36'), ('2024/01/24', '30.94', '31.61', '31.29', '31.39'), ('2024/01/23', '30.925', '31.595', '31.275', '31.375'), ('2024/01/22', '30.94', '31.61', '31.29', '31.39'), ('2024/01/19', '31.035', '31.705', '31.385', '31.485'), ('2024/01/18', '31.175', '31.845', '31.525', '31.625'), ('2024/01/17', '31.19', '31.86', '31.54', '31.64'), ('2024/01/16', '30.995', '31.665', '31.345', '31.445'), ('2024/01/15', '30.82', '31.49', '31.17', '31.27'), ('2024/01/12', '30.725', '31.395', '31.075', '31.175')]\n"
          ]
        }
      ]
    },
    {
      "cell_type": "code",
      "source": [
        "print(twder.specify_month('USD', 2024, 5)) # 取得特定貨幣特定月份匯率記錄，只能查今年與去年(時間,現金買入,現金賣出,即期買入,即期賣出)"
      ],
      "metadata": {
        "colab": {
          "base_uri": "https://localhost:8080/"
        },
        "id": "wfPR6QK0nk63",
        "outputId": "7dac14e1-f1e4-471f-90c0-2f8168696dd7"
      },
      "execution_count": 18,
      "outputs": [
        {
          "output_type": "stream",
          "name": "stdout",
          "text": [
            "[('2024/05/31', '32', '32.67', '32.35', '32.45'), ('2024/05/30', '32.04', '32.71', '32.39', '32.49'), ('2024/05/29', '31.895', '32.565', '32.245', '32.345'), ('2024/05/28', '31.77', '32.44', '32.12', '32.22'), ('2024/05/27', '31.78', '32.45', '32.13', '32.23'), ('2024/05/24', '31.865', '32.535', '32.215', '32.315'), ('2024/05/23', '31.84', '32.51', '32.19', '32.29'), ('2024/05/22', '31.875', '32.545', '32.225', '32.325'), ('2024/05/21', '31.89', '32.56', '32.24', '32.34'), ('2024/05/20', '31.835', '32.505', '32.185', '32.285'), ('2024/05/17', '31.81', '32.48', '32.16', '32.26'), ('2024/05/16', '31.705', '32.375', '32.055', '32.155'), ('2024/05/15', '31.905', '32.575', '32.255', '32.355'), ('2024/05/14', '32.015', '32.685', '32.365', '32.465'), ('2024/05/13', '32.015', '32.685', '32.365', '32.465'), ('2024/05/10', '32.015', '32.685', '32.365', '32.465'), ('2024/05/09', '32.055', '32.725', '32.405', '32.505'), ('2024/05/08', '32.01', '32.68', '32.36', '32.46'), ('2024/05/07', '31.97', '32.64', '32.32', '32.42'), ('2024/05/06', '31.95', '32.62', '32.3', '32.4'), ('2024/05/03', '31.975', '32.645', '32.325', '32.425'), ('2024/05/02', '32.1', '32.77', '32.45', '32.55')]\n"
          ]
        }
      ]
    },
    {
      "cell_type": "markdown",
      "source": [
        "## 應用：新台幣國際匯率查詢"
      ],
      "metadata": {
        "id": "66aiRbTVGirm"
      }
    },
    {
      "cell_type": "code",
      "source": [
        "import twder\n",
        "currencies = {'美金':'USD', '港幣':'HKD', '英鎊':'GBP', '澳幣':'AUD', '加拿大幣':'CAD', '新加坡幣':'SGD',\n",
        "              '瑞士法郎':'CHF', '日圓':'JPY', '南非幣':'ZAR', '瑞典幣':'SEK', '紐元':'NZD',\n",
        "              '泰幣':'THB', '菲國比索':'PHP', '印尼幣':'IDR', '歐元':'EUR', '韓元':'KRW',\n",
        "              '越南盾':'VND', '馬來幣':'MYR', '人民幣':'CNY'}\n",
        "keys = currencies.keys()\n",
        "tlist = ['現金買入', '現金賣出', '即期買入', '即期賣出']\n",
        "# 建立下拉選項，預設美金\n",
        "currency = '美金' #@param ['美金', '港幣', '英鎊', '澳幣', '加拿大幣', '新加坡幣', '瑞士法郎', '日圓', '南非幣', '瑞典幣', '紐元', '泰幣', '菲國比索', '印尼幣', '歐元', '韓元', '越南盾', '馬來幣', '人民幣']\n",
        "show = currency + '匯率：\\n'\n",
        "if currency in keys:\n",
        "  for i in range(4):\n",
        "    exchange = twder.now(currencies[currency])[i+1]\n",
        "    show = show + tlist[i] + ':' + str(exchange) + '\\n'\n",
        "  print(show)\n",
        "else:\n",
        "  print('查無此貨幣資料!')"
      ],
      "metadata": {
        "colab": {
          "base_uri": "https://localhost:8080/"
        },
        "id": "vW4uJMr3oXp3",
        "outputId": "0806a411-35c3-4cd4-965f-18e54982e571"
      },
      "execution_count": 23,
      "outputs": [
        {
          "output_type": "stream",
          "name": "stdout",
          "text": [
            "美金匯率：\n",
            "現金買入:32.11\n",
            "現金賣出:32.78\n",
            "即期買入:32.46\n",
            "即期賣出:32.56\n",
            "\n"
          ]
        }
      ]
    },
    {
      "cell_type": "markdown",
      "source": [
        "## google-currency模組：不同幣值換算"
      ],
      "metadata": {
        "id": "r5bl3am6Gnvb"
      }
    },
    {
      "cell_type": "code",
      "source": [
        "!pip install google-currency"
      ],
      "metadata": {
        "colab": {
          "base_uri": "https://localhost:8080/"
        },
        "id": "q3nTbPievRFC",
        "outputId": "4d7dcdcd-71f2-4c23-aa9b-c58f207dc10b"
      },
      "execution_count": 24,
      "outputs": [
        {
          "output_type": "stream",
          "name": "stdout",
          "text": [
            "Collecting google-currency\n",
            "  Downloading google_currency-1.0.10.tar.gz (5.8 kB)\n",
            "  Preparing metadata (setup.py) ... \u001b[?25l\u001b[?25hdone\n",
            "Requirement already satisfied: requests in /usr/local/lib/python3.10/dist-packages (from google-currency) (2.31.0)\n",
            "Requirement already satisfied: charset-normalizer<4,>=2 in /usr/local/lib/python3.10/dist-packages (from requests->google-currency) (3.3.2)\n",
            "Requirement already satisfied: idna<4,>=2.5 in /usr/local/lib/python3.10/dist-packages (from requests->google-currency) (3.7)\n",
            "Requirement already satisfied: urllib3<3,>=1.21.1 in /usr/local/lib/python3.10/dist-packages (from requests->google-currency) (2.0.7)\n",
            "Requirement already satisfied: certifi>=2017.4.17 in /usr/local/lib/python3.10/dist-packages (from requests->google-currency) (2024.6.2)\n",
            "Building wheels for collected packages: google-currency\n",
            "  Building wheel for google-currency (setup.py) ... \u001b[?25l\u001b[?25hdone\n",
            "  Created wheel for google-currency: filename=google_currency-1.0.10-py3-none-any.whl size=6068 sha256=0c5d85f495ed0052f1d13ab922eaa025254965fceb94f61f121e1dd958a7ae4c\n",
            "  Stored in directory: /root/.cache/pip/wheels/7c/4a/b2/ee2e586902413c2c6336f4f47ad54a516a369ff1aa96c9f2dc\n",
            "Successfully built google-currency\n",
            "Installing collected packages: google-currency\n",
            "Successfully installed google-currency-1.0.10\n"
          ]
        }
      ]
    },
    {
      "cell_type": "code",
      "source": [
        "from google_currency import convert"
      ],
      "metadata": {
        "id": "nduiQt8ovYUo"
      },
      "execution_count": 25,
      "outputs": []
    },
    {
      "cell_type": "code",
      "source": [
        "convert('USD', 'JPY' ,230)"
      ],
      "metadata": {
        "colab": {
          "base_uri": "https://localhost:8080/",
          "height": 35
        },
        "id": "2vjZdFd2vj3e",
        "outputId": "3b789a3c-3661-4967-ada5-b687b4f1c1d8"
      },
      "execution_count": 26,
      "outputs": [
        {
          "output_type": "execute_result",
          "data": {
            "text/plain": [
              "'{\"from\": \"USD\", \"to\": \"JPY\", \"amount\": \"37164.32\", \"converted\": true}'"
            ],
            "application/vnd.google.colaboratory.intrinsic+json": {
              "type": "string"
            }
          },
          "metadata": {},
          "execution_count": 26
        }
      ]
    },
    {
      "cell_type": "markdown",
      "source": [
        "## 應用：幣值計算器\n",
        "\n",
        "> 調整書籍應用，原書籍為「美元日圓幣值計算器」，以此合併上個應用，改為多幣別轉換\n",
        "\n"
      ],
      "metadata": {
        "id": "lVKnhj7vGv5a"
      }
    },
    {
      "cell_type": "code",
      "source": [
        "from google_currency import convert\n",
        "import json\n",
        "# 建立下拉選項，預設美金\n",
        "curr_from = 'USD' #@param ['USD','HKD','GBP','AUD','CAD','SGD','CHF','JPY','ZAR','SEK','NZD','THB','PHP','IDR','EUR','KRW','VND','MYR','CNY']\n",
        "curr_to = 'KRW' #@param ['USD','HKD','GBP','AUD','CAD','SGD','CHF','JPY','ZAR','SEK','NZD','THB','PHP','IDR','EUR','KRW','VND','MYR','CNY']\n",
        "samount = 1000 #@param {type:'integer'}\n",
        "damount = convert(curr_from, curr_to, samount)\n",
        "retdict = json.loads(damount)\n",
        "print('{} {} = {} {}'.format(samount,curr_from,retdict['amount'],curr_to))\n"
      ],
      "metadata": {
        "colab": {
          "base_uri": "https://localhost:8080/"
        },
        "id": "gb_bGHLmv11W",
        "outputId": "6a2bea1b-cefa-4246-b847-28db95733c14"
      },
      "execution_count": 32,
      "outputs": [
        {
          "output_type": "stream",
          "name": "stdout",
          "text": [
            "1000 USD = 1379530.00 KRW\n"
          ]
        }
      ]
    },
    {
      "cell_type": "markdown",
      "source": [
        "# twstock模組：台灣股市資訊"
      ],
      "metadata": {
        "id": "kcGobrtDG0P6"
      }
    },
    {
      "cell_type": "code",
      "source": [
        "!pip install twstock"
      ],
      "metadata": {
        "colab": {
          "base_uri": "https://localhost:8080/"
        },
        "id": "32UkEPE80L0E",
        "outputId": "bdc2bf07-36c8-4dd8-dfb8-c4845a42fc18"
      },
      "execution_count": 33,
      "outputs": [
        {
          "output_type": "stream",
          "name": "stdout",
          "text": [
            "Collecting twstock\n",
            "  Downloading twstock-1.4.0-py3-none-any.whl (626 kB)\n",
            "\u001b[2K     \u001b[90m━━━━━━━━━━━━━━━━━━━━━━━━━━━━━━━━━━━━━━━━\u001b[0m \u001b[32m626.1/626.1 kB\u001b[0m \u001b[31m5.0 MB/s\u001b[0m eta \u001b[36m0:00:00\u001b[0m\n",
            "\u001b[?25hRequirement already satisfied: requests in /usr/local/lib/python3.10/dist-packages (from twstock) (2.31.0)\n",
            "Requirement already satisfied: charset-normalizer<4,>=2 in /usr/local/lib/python3.10/dist-packages (from requests->twstock) (3.3.2)\n",
            "Requirement already satisfied: idna<4,>=2.5 in /usr/local/lib/python3.10/dist-packages (from requests->twstock) (3.7)\n",
            "Requirement already satisfied: urllib3<3,>=1.21.1 in /usr/local/lib/python3.10/dist-packages (from requests->twstock) (2.0.7)\n",
            "Requirement already satisfied: certifi>=2017.4.17 in /usr/local/lib/python3.10/dist-packages (from requests->twstock) (2024.6.2)\n",
            "Installing collected packages: twstock\n",
            "Successfully installed twstock-1.4.0\n"
          ]
        }
      ]
    },
    {
      "cell_type": "markdown",
      "source": [
        "## 查詢歷史股票資料"
      ],
      "metadata": {
        "id": "t7DTK-qIG9rL"
      }
    },
    {
      "cell_type": "code",
      "source": [
        "import twstock\n",
        "stock = twstock.Stock('2330') # 預設會取最近的31天\n",
        "\n",
        "# 查最近一日\n",
        "print('日期：',stock.date[-1])\n",
        "print('開盤價：',stock.open[-1])\n",
        "print('最高價：',stock.high[-1])\n",
        "print('最低價：',stock.low[-1])\n",
        "print('收盤價：',stock.price[-1])"
      ],
      "metadata": {
        "colab": {
          "base_uri": "https://localhost:8080/"
        },
        "id": "PfGjcH_W5RS7",
        "outputId": "5e04689c-9b22-4938-986e-b51ece7bab15"
      },
      "execution_count": 38,
      "outputs": [
        {
          "output_type": "stream",
          "name": "stdout",
          "text": [
            "日期： 2024-07-11 00:00:00\n",
            "開盤價： 1065.0\n",
            "最高價： 1080.0\n",
            "最低價： 1055.0\n",
            "收盤價： 1080.0\n"
          ]
        }
      ]
    },
    {
      "cell_type": "markdown",
      "source": [
        "> Stock可用屬性：date日期, capacity總成交股數(股), turnover總成交金額(元), open收盤價, high最高價, low最低價, price收盤價, change漲跌價差, transaction成交筆數\n",
        "\n"
      ],
      "metadata": {
        "id": "1S6tg47I--6e"
      }
    },
    {
      "cell_type": "code",
      "source": [
        "# 查指定時間區間\n",
        "stock.fetch(2024,7) # 查2024年7月\n",
        "# stock.fetch_31() # 查最近31天\n",
        "# stock.fetch_from(2024,7) # 查2024年7月之後"
      ],
      "metadata": {
        "colab": {
          "base_uri": "https://localhost:8080/"
        },
        "id": "Sc3rUBxz8Zsj",
        "outputId": "52a50626-8ea5-4fd5-8b48-f57c054c7f12"
      },
      "execution_count": 41,
      "outputs": [
        {
          "output_type": "execute_result",
          "data": {
            "text/plain": [
              "[Data(date=datetime.datetime(2024, 7, 1, 0, 0), capacity=20936005, turnover=20320957284, open=968.0, high=977.0, low=965.0, close=968.0, change=2.0, transaction=38293),\n",
              " Data(date=datetime.datetime(2024, 7, 2, 0, 0), capacity=27992930, turnover=26971516491, open=967.0, high=971.0, low=959.0, close=960.0, change=-8.0, transaction=38928),\n",
              " Data(date=datetime.datetime(2024, 7, 3, 0, 0), capacity=25022531, turnover=24386705873, open=976.0, high=979.0, low=967.0, close=979.0, change=19.0, transaction=36096),\n",
              " Data(date=datetime.datetime(2024, 7, 4, 0, 0), capacity=47251502, turnover=47347126144, open=1000.0, high=1010.0, low=997.0, close=1005.0, change=26.0, transaction=92002),\n",
              " Data(date=datetime.datetime(2024, 7, 5, 0, 0), capacity=21735614, turnover=21827958195, open=1005.0, high=1010.0, low=1000.0, close=1005.0, change=0.0, transaction=35802),\n",
              " Data(date=datetime.datetime(2024, 7, 8, 0, 0), capacity=45678332, turnover=47210175550, open=1005.0, high=1050.0, low=1000.0, close=1035.0, change=30.0, transaction=74909),\n",
              " Data(date=datetime.datetime(2024, 7, 9, 0, 0), capacity=54339957, turnover=56382512235, open=1030.0, high=1055.0, low=1025.0, close=1040.0, change=5.0, transaction=74954),\n",
              " Data(date=datetime.datetime(2024, 7, 10, 0, 0), capacity=51810372, turnover=53308027550, open=1020.0, high=1050.0, low=1015.0, close=1045.0, change=5.0, transaction=61199),\n",
              " Data(date=datetime.datetime(2024, 7, 11, 0, 0), capacity=43240453, turnover=46279281905, open=1065.0, high=1080.0, low=1055.0, close=1080.0, change=35.0, transaction=64987)]"
            ]
          },
          "metadata": {},
          "execution_count": 41
        }
      ]
    },
    {
      "cell_type": "markdown",
      "source": [
        "## 查詢股票即時交易資訊"
      ],
      "metadata": {
        "id": "imm6fl9zHAlf"
      }
    },
    {
      "cell_type": "code",
      "source": [
        "real = twstock.realtime.get('2330') # 查即時交易資訊\n",
        "print(real)"
      ],
      "metadata": {
        "colab": {
          "base_uri": "https://localhost:8080/"
        },
        "id": "mzl23lEG9daA",
        "outputId": "e3350d37-5a7d-4972-fef7-53692f2232e4"
      },
      "execution_count": 43,
      "outputs": [
        {
          "output_type": "stream",
          "name": "stdout",
          "text": [
            "{'timestamp': 1720679400.0, 'info': {'code': '2330', 'channel': '2330.tw', 'name': '台積電', 'fullname': '台灣積體電路製造股份有限公司', 'time': '2024-07-11 06:30:00'}, 'realtime': {'latest_trade_price': '1080.0000', 'trade_volume': '4323', 'accumulate_trade_volume': '41431', 'best_bid_price': ['1075.0000', '1070.0000', '1065.0000', '1060.0000', '1055.0000'], 'best_bid_volume': ['302', '721', '1225', '1216', '808'], 'best_ask_price': ['1080.0000', '1085.0000', '1090.0000', '1095.0000', '1100.0000'], 'best_ask_volume': ['2549', '2331', '2360', '1318', '1433'], 'open': '1065.0000', 'high': '1080.0000', 'low': '1055.0000'}, 'success': True}\n"
          ]
        }
      ]
    },
    {
      "cell_type": "markdown",
      "source": [
        "> 主要股票資料都在realtime欄位\n",
        "* latest_trade_price：即時股價\n",
        "* trade_volume： 成交量\n",
        "* accumulate_trade_volume：累積成交量\n",
        "* 委買及委賣資料\n",
        "* open：開盤價\n",
        "* high：盤中最高\n",
        "* low：最低價\n",
        "\n"
      ],
      "metadata": {
        "id": "gkvcyOlh-AET"
      }
    },
    {
      "cell_type": "code",
      "source": [
        "# 最後的success傳回True代表傳回資訊正確，傳回False代表有發生錯誤，錯誤訊息會存在rtmessage欄位\n",
        "if real['success']:\n",
        "  print('【即時交易股票資料】')\n",
        "  print('股票名稱：',real['info']['name'])\n",
        "  print('開盤價：',real['realtime']['open'])\n",
        "  print('最高價：',real['realtime']['high'])\n",
        "  print('最低價：',real['realtime']['low'])\n",
        "  print('目前股價：',real['realtime']['latest_trade_price'])\n",
        "else:\n",
        "  print(real['rtmessage'])"
      ],
      "metadata": {
        "colab": {
          "base_uri": "https://localhost:8080/"
        },
        "id": "OE5AO9Ds_WS2",
        "outputId": "79193ffd-b109-495d-fc39-5bac8572390a"
      },
      "execution_count": 44,
      "outputs": [
        {
          "output_type": "stream",
          "name": "stdout",
          "text": [
            "【即時交易股票資料】\n",
            "股票名稱： 台積電\n",
            "開盤價： 1065.0000\n",
            "最高價： 1080.0000\n",
            "最低價： 1055.0000\n",
            "目前股價： 1080.0000\n"
          ]
        }
      ]
    },
    {
      "cell_type": "markdown",
      "source": [
        "## 免費的通知利器：LINE Notify"
      ],
      "metadata": {
        "id": "dG0NPH6rHD5n"
      }
    },
    {
      "cell_type": "markdown",
      "source": [
        "> 申請LINE Notify權杖\n",
        "\n"
      ],
      "metadata": {
        "id": "ucdiuUWJA1WR"
      }
    },
    {
      "cell_type": "code",
      "source": [
        "import requests\n",
        "msg = '這是LINE Notify發送的訊息'\n",
        "token = '你的LINE Notify權杖' # LINE Notify權杖\n",
        "headers = {\n",
        "    \"Authorization\": \"Bearer \" + token,\n",
        "    \"Content-Type\": \"application/x-www-form-urlencoded\"\n",
        "}\n",
        "payload = {'message': msg}\n",
        "notify = requests.post(\"https://notify-api.line.me/api/notify\",\n",
        "        headers = headers, params = payload)\n",
        "if notify.status_code ==200:\n",
        "  print('LINE Notify發送成功！')\n",
        "else:\n",
        "  print('LINE Notify發送失敗！')\n"
      ],
      "metadata": {
        "colab": {
          "base_uri": "https://localhost:8080/"
        },
        "id": "WtYog3AT_Ssj",
        "outputId": "48e2ced1-c82e-4ef8-f682-5429af2276d9"
      },
      "execution_count": 48,
      "outputs": [
        {
          "output_type": "stream",
          "name": "stdout",
          "text": [
            "LINE Notify發送成功！\n"
          ]
        }
      ]
    },
    {
      "cell_type": "markdown",
      "source": [
        "## 應用：使用LINE監控即時股價"
      ],
      "metadata": {
        "id": "I-_a6U5VHOd_"
      }
    },
    {
      "cell_type": "code",
      "source": [
        "import twstock\n",
        "import time\n",
        "import requests\n",
        "\n",
        "# ---自訂LINE Notify發送通知函式---\n",
        "def lineNotify(token, msg):\n",
        "    headers = {\n",
        "        \"Authorization\": \"Bearer \" + token,\n",
        "        \"Content-Type\" : \"application/x-www-form-urlencoded\"\n",
        "    }\n",
        "\n",
        "    payload = {'message': msg}\n",
        "    notify = requests.post(\"https://notify-api.line.me/api/notify\", headers = headers, params = payload)\n",
        "    return notify.status_code\n",
        "# ---自訂LINE Notify發送通知函式---\n",
        "\n",
        "# ---依不同股價設定發送通知內容的函式---\n",
        "def sendline(mode, realprice, counterLine, token):\n",
        "    print('台積電目前股價：' + str(realprice))\n",
        "    if mode == 1:\n",
        "        message = '現在台積電股價為 ' + str(realprice) + '元，可以賣出股票了！'\n",
        "    else:\n",
        "        message = '現在台積電股價為 ' + str(realprice) + '元，可以買入股票了！'\n",
        "    code = lineNotify(token, message)\n",
        "    if code == 200:\n",
        "        counterLine = counterLine + 1\n",
        "        print('第 ' + str(counterLine) + ' 次發送 LINE 訊息。')\n",
        "    else:\n",
        "        print('發送 LINE 訊息失敗！')\n",
        "    return counterLine\n",
        "# ---依不同股價設定發送通知內容的函式---\n",
        "\n",
        "token = '你的LINE Notify權杖'  #權杖\n",
        "counterLine = 0  #儲存發送次數\n",
        "counterError = 0  #儲存錯誤次數\n",
        "\n",
        "print('程式開始執行！')\n",
        "while True:\n",
        "    realdata = twstock.realtime.get('2330')  #即時資料\n",
        "    if realdata['success']:\n",
        "        realprice = realdata['realtime']['latest_trade_price']  #目前股價\n",
        "        if realprice != '-':\n",
        "          if float(realprice) >= 1050:\n",
        "              counterLine = sendline(1, realprice, counterLine, token)\n",
        "          elif float(realprice) <= 1000:\n",
        "              counterLine = sendline(2, realprice, counterLine, token)\n",
        "          if counterLine >= 3:  #最多發送3次就結束程式\n",
        "              print('程式結束！')\n",
        "              break\n",
        "    else:\n",
        "        print('twstock 讀取錯誤，錯誤原因：' + realdata['rtmessage'])\n",
        "        counterError = counterError + 1\n",
        "        if counterError >= 3:  #最多錯誤3次\n",
        "            print('程式結束！')\n",
        "            break\n",
        "    for i in range(10):  #每10秒讀一次(練習用，縮短時間)\n",
        "        time.sleep(1)"
      ],
      "metadata": {
        "colab": {
          "base_uri": "https://localhost:8080/"
        },
        "id": "p3VDKEeHNN8m",
        "outputId": "58512b6e-7778-42d6-bf08-75f191a08605"
      },
      "execution_count": 53,
      "outputs": [
        {
          "output_type": "stream",
          "name": "stdout",
          "text": [
            "程式開始執行！\n",
            "台積電目前股價：1080.0000\n",
            "第 1 次發送 LINE 訊息。\n",
            "台積電目前股價：1080.0000\n",
            "第 2 次發送 LINE 訊息。\n",
            "台積電目前股價：1080.0000\n",
            "第 3 次發送 LINE 訊息。\n",
            "程式結束！\n"
          ]
        }
      ]
    },
    {
      "cell_type": "markdown",
      "source": [
        "# 中央銀行統計資料庫"
      ],
      "metadata": {
        "id": "SORavBOAHWdd"
      }
    },
    {
      "cell_type": "markdown",
      "source": [
        "## 中央銀行統計資料庫網頁\n",
        "* 網址：https://cpx.cbc.gov.tw/Tree/TreeSelect\n",
        "\n"
      ],
      "metadata": {
        "id": "k1QYZEdcHY4k"
      }
    },
    {
      "cell_type": "markdown",
      "source": [
        "## TWCB模組：下載中央銀行資料庫"
      ],
      "metadata": {
        "id": "fPBXKhnoHbgO"
      }
    },
    {
      "cell_type": "code",
      "source": [
        "!pip install TWCB"
      ],
      "metadata": {
        "colab": {
          "base_uri": "https://localhost:8080/"
        },
        "id": "ZsEsNthhvQpU",
        "outputId": "4675d6c0-3195-41b9-ecba-674a505c8275"
      },
      "execution_count": 60,
      "outputs": [
        {
          "output_type": "stream",
          "name": "stdout",
          "text": [
            "Requirement already satisfied: TWCB in /usr/local/lib/python3.10/dist-packages (0.1.2)\n",
            "Requirement already satisfied: pandas>=0.25.3 in /usr/local/lib/python3.10/dist-packages (from TWCB) (2.0.3)\n",
            "Requirement already satisfied: urllib3>=1.25.8 in /usr/local/lib/python3.10/dist-packages (from TWCB) (2.0.7)\n",
            "Requirement already satisfied: requests>=2.22.0 in /usr/local/lib/python3.10/dist-packages (from TWCB) (2.31.0)\n",
            "Requirement already satisfied: beautifulsoup4>=4.9.1 in /usr/local/lib/python3.10/dist-packages (from TWCB) (4.12.3)\n",
            "Requirement already satisfied: soupsieve>1.2 in /usr/local/lib/python3.10/dist-packages (from beautifulsoup4>=4.9.1->TWCB) (2.5)\n",
            "Requirement already satisfied: python-dateutil>=2.8.2 in /usr/local/lib/python3.10/dist-packages (from pandas>=0.25.3->TWCB) (2.8.2)\n",
            "Requirement already satisfied: pytz>=2020.1 in /usr/local/lib/python3.10/dist-packages (from pandas>=0.25.3->TWCB) (2023.4)\n",
            "Requirement already satisfied: tzdata>=2022.1 in /usr/local/lib/python3.10/dist-packages (from pandas>=0.25.3->TWCB) (2024.1)\n",
            "Requirement already satisfied: numpy>=1.21.0 in /usr/local/lib/python3.10/dist-packages (from pandas>=0.25.3->TWCB) (1.25.2)\n",
            "Requirement already satisfied: charset-normalizer<4,>=2 in /usr/local/lib/python3.10/dist-packages (from requests>=2.22.0->TWCB) (3.3.2)\n",
            "Requirement already satisfied: idna<4,>=2.5 in /usr/local/lib/python3.10/dist-packages (from requests>=2.22.0->TWCB) (3.7)\n",
            "Requirement already satisfied: certifi>=2017.4.17 in /usr/local/lib/python3.10/dist-packages (from requests>=2.22.0->TWCB) (2024.6.2)\n",
            "Requirement already satisfied: six>=1.5 in /usr/local/lib/python3.10/dist-packages (from python-dateutil>=2.8.2->pandas>=0.25.3->TWCB) (1.16.0)\n"
          ]
        }
      ]
    },
    {
      "cell_type": "code",
      "source": [
        "import TWCB\n",
        "TWCB.get_info()"
      ],
      "metadata": {
        "colab": {
          "base_uri": "https://localhost:8080/",
          "height": 424
        },
        "id": "LXy6NqtXvUza",
        "outputId": "a5a482bb-3a9e-4779-d42c-0b2cb14f4753"
      },
      "execution_count": 61,
      "outputs": [
        {
          "output_type": "execute_result",
          "data": {
            "text/plain": [
              "                                 tb_name        code\n",
              "0          中央銀行統計資料庫_我國與主要貿易對手通貨對美元之匯率_日  BP01D01.px\n",
              "1          中央銀行統計資料庫_我國與主要貿易對手通貨對美元之匯率_月  BP01M01.px\n",
              "2          中央銀行統計資料庫_我國與主要貿易對手通貨對美元之匯率_年  BP01Y01.px\n",
              "3           中央銀行統計資料庫_金融統計月報_重要金融指標_貨幣_年  EF01Y01.px\n",
              "4           中央銀行統計資料庫_金融統計月報_重要金融指標_貨幣_月  EF01M01.px\n",
              "..                                   ...         ...\n",
              "192    中央銀行統計資料庫_國際收支與國際投資部位_國際收支_所有項目_年  BPP2Y01.px\n",
              "193    中央銀行統計資料庫_國際收支與國際投資部位_國際收支_所有項目_季  BPP2Q01.px\n",
              "194  中央銀行統計資料庫_國際收支與國際投資部位_國際投資部位_所有項目_年  BPF4Y01.px\n",
              "195              中央銀行統計資料庫_資金流量統計_資金流量_年  FL01_cn.px\n",
              "196         中央銀行統計資料庫_資金流量統計_金融性資產負債餘額_年  FL02_cn.px\n",
              "\n",
              "[197 rows x 2 columns]"
            ],
            "text/html": [
              "\n",
              "  <div id=\"df-08bbbdb2-8525-4330-9a58-1607d7d8ff2a\" class=\"colab-df-container\">\n",
              "    <div>\n",
              "<style scoped>\n",
              "    .dataframe tbody tr th:only-of-type {\n",
              "        vertical-align: middle;\n",
              "    }\n",
              "\n",
              "    .dataframe tbody tr th {\n",
              "        vertical-align: top;\n",
              "    }\n",
              "\n",
              "    .dataframe thead th {\n",
              "        text-align: right;\n",
              "    }\n",
              "</style>\n",
              "<table border=\"1\" class=\"dataframe\">\n",
              "  <thead>\n",
              "    <tr style=\"text-align: right;\">\n",
              "      <th></th>\n",
              "      <th>tb_name</th>\n",
              "      <th>code</th>\n",
              "    </tr>\n",
              "  </thead>\n",
              "  <tbody>\n",
              "    <tr>\n",
              "      <th>0</th>\n",
              "      <td>中央銀行統計資料庫_我國與主要貿易對手通貨對美元之匯率_日</td>\n",
              "      <td>BP01D01.px</td>\n",
              "    </tr>\n",
              "    <tr>\n",
              "      <th>1</th>\n",
              "      <td>中央銀行統計資料庫_我國與主要貿易對手通貨對美元之匯率_月</td>\n",
              "      <td>BP01M01.px</td>\n",
              "    </tr>\n",
              "    <tr>\n",
              "      <th>2</th>\n",
              "      <td>中央銀行統計資料庫_我國與主要貿易對手通貨對美元之匯率_年</td>\n",
              "      <td>BP01Y01.px</td>\n",
              "    </tr>\n",
              "    <tr>\n",
              "      <th>3</th>\n",
              "      <td>中央銀行統計資料庫_金融統計月報_重要金融指標_貨幣_年</td>\n",
              "      <td>EF01Y01.px</td>\n",
              "    </tr>\n",
              "    <tr>\n",
              "      <th>4</th>\n",
              "      <td>中央銀行統計資料庫_金融統計月報_重要金融指標_貨幣_月</td>\n",
              "      <td>EF01M01.px</td>\n",
              "    </tr>\n",
              "    <tr>\n",
              "      <th>...</th>\n",
              "      <td>...</td>\n",
              "      <td>...</td>\n",
              "    </tr>\n",
              "    <tr>\n",
              "      <th>192</th>\n",
              "      <td>中央銀行統計資料庫_國際收支與國際投資部位_國際收支_所有項目_年</td>\n",
              "      <td>BPP2Y01.px</td>\n",
              "    </tr>\n",
              "    <tr>\n",
              "      <th>193</th>\n",
              "      <td>中央銀行統計資料庫_國際收支與國際投資部位_國際收支_所有項目_季</td>\n",
              "      <td>BPP2Q01.px</td>\n",
              "    </tr>\n",
              "    <tr>\n",
              "      <th>194</th>\n",
              "      <td>中央銀行統計資料庫_國際收支與國際投資部位_國際投資部位_所有項目_年</td>\n",
              "      <td>BPF4Y01.px</td>\n",
              "    </tr>\n",
              "    <tr>\n",
              "      <th>195</th>\n",
              "      <td>中央銀行統計資料庫_資金流量統計_資金流量_年</td>\n",
              "      <td>FL01_cn.px</td>\n",
              "    </tr>\n",
              "    <tr>\n",
              "      <th>196</th>\n",
              "      <td>中央銀行統計資料庫_資金流量統計_金融性資產負債餘額_年</td>\n",
              "      <td>FL02_cn.px</td>\n",
              "    </tr>\n",
              "  </tbody>\n",
              "</table>\n",
              "<p>197 rows × 2 columns</p>\n",
              "</div>\n",
              "    <div class=\"colab-df-buttons\">\n",
              "\n",
              "  <div class=\"colab-df-container\">\n",
              "    <button class=\"colab-df-convert\" onclick=\"convertToInteractive('df-08bbbdb2-8525-4330-9a58-1607d7d8ff2a')\"\n",
              "            title=\"Convert this dataframe to an interactive table.\"\n",
              "            style=\"display:none;\">\n",
              "\n",
              "  <svg xmlns=\"http://www.w3.org/2000/svg\" height=\"24px\" viewBox=\"0 -960 960 960\">\n",
              "    <path d=\"M120-120v-720h720v720H120Zm60-500h600v-160H180v160Zm220 220h160v-160H400v160Zm0 220h160v-160H400v160ZM180-400h160v-160H180v160Zm440 0h160v-160H620v160ZM180-180h160v-160H180v160Zm440 0h160v-160H620v160Z\"/>\n",
              "  </svg>\n",
              "    </button>\n",
              "\n",
              "  <style>\n",
              "    .colab-df-container {\n",
              "      display:flex;\n",
              "      gap: 12px;\n",
              "    }\n",
              "\n",
              "    .colab-df-convert {\n",
              "      background-color: #E8F0FE;\n",
              "      border: none;\n",
              "      border-radius: 50%;\n",
              "      cursor: pointer;\n",
              "      display: none;\n",
              "      fill: #1967D2;\n",
              "      height: 32px;\n",
              "      padding: 0 0 0 0;\n",
              "      width: 32px;\n",
              "    }\n",
              "\n",
              "    .colab-df-convert:hover {\n",
              "      background-color: #E2EBFA;\n",
              "      box-shadow: 0px 1px 2px rgba(60, 64, 67, 0.3), 0px 1px 3px 1px rgba(60, 64, 67, 0.15);\n",
              "      fill: #174EA6;\n",
              "    }\n",
              "\n",
              "    .colab-df-buttons div {\n",
              "      margin-bottom: 4px;\n",
              "    }\n",
              "\n",
              "    [theme=dark] .colab-df-convert {\n",
              "      background-color: #3B4455;\n",
              "      fill: #D2E3FC;\n",
              "    }\n",
              "\n",
              "    [theme=dark] .colab-df-convert:hover {\n",
              "      background-color: #434B5C;\n",
              "      box-shadow: 0px 1px 3px 1px rgba(0, 0, 0, 0.15);\n",
              "      filter: drop-shadow(0px 1px 2px rgba(0, 0, 0, 0.3));\n",
              "      fill: #FFFFFF;\n",
              "    }\n",
              "  </style>\n",
              "\n",
              "    <script>\n",
              "      const buttonEl =\n",
              "        document.querySelector('#df-08bbbdb2-8525-4330-9a58-1607d7d8ff2a button.colab-df-convert');\n",
              "      buttonEl.style.display =\n",
              "        google.colab.kernel.accessAllowed ? 'block' : 'none';\n",
              "\n",
              "      async function convertToInteractive(key) {\n",
              "        const element = document.querySelector('#df-08bbbdb2-8525-4330-9a58-1607d7d8ff2a');\n",
              "        const dataTable =\n",
              "          await google.colab.kernel.invokeFunction('convertToInteractive',\n",
              "                                                    [key], {});\n",
              "        if (!dataTable) return;\n",
              "\n",
              "        const docLinkHtml = 'Like what you see? Visit the ' +\n",
              "          '<a target=\"_blank\" href=https://colab.research.google.com/notebooks/data_table.ipynb>data table notebook</a>'\n",
              "          + ' to learn more about interactive tables.';\n",
              "        element.innerHTML = '';\n",
              "        dataTable['output_type'] = 'display_data';\n",
              "        await google.colab.output.renderOutput(dataTable, element);\n",
              "        const docLink = document.createElement('div');\n",
              "        docLink.innerHTML = docLinkHtml;\n",
              "        element.appendChild(docLink);\n",
              "      }\n",
              "    </script>\n",
              "  </div>\n",
              "\n",
              "\n",
              "<div id=\"df-e14b4b06-799d-4be7-b15e-0cb18ca35fbe\">\n",
              "  <button class=\"colab-df-quickchart\" onclick=\"quickchart('df-e14b4b06-799d-4be7-b15e-0cb18ca35fbe')\"\n",
              "            title=\"Suggest charts\"\n",
              "            style=\"display:none;\">\n",
              "\n",
              "<svg xmlns=\"http://www.w3.org/2000/svg\" height=\"24px\"viewBox=\"0 0 24 24\"\n",
              "     width=\"24px\">\n",
              "    <g>\n",
              "        <path d=\"M19 3H5c-1.1 0-2 .9-2 2v14c0 1.1.9 2 2 2h14c1.1 0 2-.9 2-2V5c0-1.1-.9-2-2-2zM9 17H7v-7h2v7zm4 0h-2V7h2v10zm4 0h-2v-4h2v4z\"/>\n",
              "    </g>\n",
              "</svg>\n",
              "  </button>\n",
              "\n",
              "<style>\n",
              "  .colab-df-quickchart {\n",
              "      --bg-color: #E8F0FE;\n",
              "      --fill-color: #1967D2;\n",
              "      --hover-bg-color: #E2EBFA;\n",
              "      --hover-fill-color: #174EA6;\n",
              "      --disabled-fill-color: #AAA;\n",
              "      --disabled-bg-color: #DDD;\n",
              "  }\n",
              "\n",
              "  [theme=dark] .colab-df-quickchart {\n",
              "      --bg-color: #3B4455;\n",
              "      --fill-color: #D2E3FC;\n",
              "      --hover-bg-color: #434B5C;\n",
              "      --hover-fill-color: #FFFFFF;\n",
              "      --disabled-bg-color: #3B4455;\n",
              "      --disabled-fill-color: #666;\n",
              "  }\n",
              "\n",
              "  .colab-df-quickchart {\n",
              "    background-color: var(--bg-color);\n",
              "    border: none;\n",
              "    border-radius: 50%;\n",
              "    cursor: pointer;\n",
              "    display: none;\n",
              "    fill: var(--fill-color);\n",
              "    height: 32px;\n",
              "    padding: 0;\n",
              "    width: 32px;\n",
              "  }\n",
              "\n",
              "  .colab-df-quickchart:hover {\n",
              "    background-color: var(--hover-bg-color);\n",
              "    box-shadow: 0 1px 2px rgba(60, 64, 67, 0.3), 0 1px 3px 1px rgba(60, 64, 67, 0.15);\n",
              "    fill: var(--button-hover-fill-color);\n",
              "  }\n",
              "\n",
              "  .colab-df-quickchart-complete:disabled,\n",
              "  .colab-df-quickchart-complete:disabled:hover {\n",
              "    background-color: var(--disabled-bg-color);\n",
              "    fill: var(--disabled-fill-color);\n",
              "    box-shadow: none;\n",
              "  }\n",
              "\n",
              "  .colab-df-spinner {\n",
              "    border: 2px solid var(--fill-color);\n",
              "    border-color: transparent;\n",
              "    border-bottom-color: var(--fill-color);\n",
              "    animation:\n",
              "      spin 1s steps(1) infinite;\n",
              "  }\n",
              "\n",
              "  @keyframes spin {\n",
              "    0% {\n",
              "      border-color: transparent;\n",
              "      border-bottom-color: var(--fill-color);\n",
              "      border-left-color: var(--fill-color);\n",
              "    }\n",
              "    20% {\n",
              "      border-color: transparent;\n",
              "      border-left-color: var(--fill-color);\n",
              "      border-top-color: var(--fill-color);\n",
              "    }\n",
              "    30% {\n",
              "      border-color: transparent;\n",
              "      border-left-color: var(--fill-color);\n",
              "      border-top-color: var(--fill-color);\n",
              "      border-right-color: var(--fill-color);\n",
              "    }\n",
              "    40% {\n",
              "      border-color: transparent;\n",
              "      border-right-color: var(--fill-color);\n",
              "      border-top-color: var(--fill-color);\n",
              "    }\n",
              "    60% {\n",
              "      border-color: transparent;\n",
              "      border-right-color: var(--fill-color);\n",
              "    }\n",
              "    80% {\n",
              "      border-color: transparent;\n",
              "      border-right-color: var(--fill-color);\n",
              "      border-bottom-color: var(--fill-color);\n",
              "    }\n",
              "    90% {\n",
              "      border-color: transparent;\n",
              "      border-bottom-color: var(--fill-color);\n",
              "    }\n",
              "  }\n",
              "</style>\n",
              "\n",
              "  <script>\n",
              "    async function quickchart(key) {\n",
              "      const quickchartButtonEl =\n",
              "        document.querySelector('#' + key + ' button');\n",
              "      quickchartButtonEl.disabled = true;  // To prevent multiple clicks.\n",
              "      quickchartButtonEl.classList.add('colab-df-spinner');\n",
              "      try {\n",
              "        const charts = await google.colab.kernel.invokeFunction(\n",
              "            'suggestCharts', [key], {});\n",
              "      } catch (error) {\n",
              "        console.error('Error during call to suggestCharts:', error);\n",
              "      }\n",
              "      quickchartButtonEl.classList.remove('colab-df-spinner');\n",
              "      quickchartButtonEl.classList.add('colab-df-quickchart-complete');\n",
              "    }\n",
              "    (() => {\n",
              "      let quickchartButtonEl =\n",
              "        document.querySelector('#df-e14b4b06-799d-4be7-b15e-0cb18ca35fbe button');\n",
              "      quickchartButtonEl.style.display =\n",
              "        google.colab.kernel.accessAllowed ? 'block' : 'none';\n",
              "    })();\n",
              "  </script>\n",
              "</div>\n",
              "\n",
              "    </div>\n",
              "  </div>\n"
            ],
            "application/vnd.google.colaboratory.intrinsic+json": {
              "type": "dataframe",
              "summary": "{\n  \"name\": \"TWCB\",\n  \"rows\": 197,\n  \"fields\": [\n    {\n      \"column\": \"tb_name\",\n      \"properties\": {\n        \"dtype\": \"string\",\n        \"num_unique_values\": 197,\n        \"samples\": [\n          \"\\u4e2d\\u592e\\u9280\\u884c\\u7d71\\u8a08\\u8cc7\\u6599\\u5eab_\\u91d1\\u878d\\u7d71\\u8a08\\u6708\\u5831_\\u80a1\\u7968\\u5e02\\u5834_\\u80a1\\u7968\\u4fe1\\u7528\\u4ea4\\u6613_\\u6708\",\n          \"\\u4e2d\\u592e\\u9280\\u884c\\u7d71\\u8a08\\u8cc7\\u6599\\u5eab_\\u91d1\\u878d\\u7d71\\u8a08\\u6708\\u5831_\\u5168\\u9ad4\\u9280\\u884c\\u653e\\u6b3e\\u9918\\u984d\\u7d71\\u8a08\\u8868_\\u5916\\u5e63\\u653e\\u6b3e\\u9918\\u984d_\\u5e74\",\n          \"\\u4e2d\\u592e\\u9280\\u884c\\u7d71\\u8a08\\u8cc7\\u6599\\u5eab_\\u91d1\\u878d\\u7d71\\u8a08\\u6708\\u5831_\\u8ca8\\u5e63_\\u6e96\\u5099\\u8ca8\\u5e63_\\u6708\\u5e95\\u6578_\\u5e74\"\n        ],\n        \"semantic_type\": \"\",\n        \"description\": \"\"\n      }\n    },\n    {\n      \"column\": \"code\",\n      \"properties\": {\n        \"dtype\": \"string\",\n        \"num_unique_values\": 197,\n        \"samples\": [\n          \"EG25M01.px\",\n          \"EG01Y01.px\",\n          \"EF12Y01.px\"\n        ],\n        \"semantic_type\": \"\",\n        \"description\": \"\"\n      }\n    }\n  ]\n}"
            }
          },
          "metadata": {},
          "execution_count": 61
        }
      ]
    },
    {
      "cell_type": "code",
      "source": [
        "# 下載指定資料\n",
        "df1 = TWCB.get('BP01D01.px')\n",
        "df1"
      ],
      "metadata": {
        "colab": {
          "base_uri": "https://localhost:8080/",
          "height": 496
        },
        "id": "skgugqC6xh7t",
        "outputId": "2feb7671-ddee-43be-e86d-5e563653f600"
      },
      "execution_count": 64,
      "outputs": [
        {
          "output_type": "stream",
          "name": "stdout",
          "text": [
            "Start to process the BP01D01.px\n"
          ]
        },
        {
          "output_type": "execute_result",
          "data": {
            "text/plain": [
              "          date 新台幣NTD/USD 日圓JPY/USD 英鎊USD/GBP 港幣HKD/USD 韓元KRW/USD 加拿大幣CAD/USD  \\\n",
              "0     19930105     25.405    125.25    1.5499    7.7427     788.2      1.2766   \n",
              "1     19930106     25.427    124.84    1.5423    7.7415     790.3      1.2794   \n",
              "2     19930107     25.411    125.09    1.5309    7.7427     791.1      1.2800   \n",
              "3     19930108     25.423    125.42    1.5314    7.7430     791.9      1.2826   \n",
              "4     19930111     25.450    125.36    1.5516    7.7420     792.5      1.2780   \n",
              "...        ...        ...       ...       ...       ...       ...         ...   \n",
              "7830  20240624     32.395    159.69    1.2655    7.8072    1389.0      1.3683   \n",
              "7831  20240625     32.443    159.48    1.2689    7.8075    1387.5      1.3649   \n",
              "7832  20240626     32.554    159.89    1.2671    7.8097    1388.7      1.3667   \n",
              "7833  20240627     32.530    160.55    1.2633    7.8085    1385.8      1.3689   \n",
              "7834  20240628     32.450    160.93    1.2645    7.8083    1376.7      1.3711   \n",
              "\n",
              "     新加坡元SGD/USD 人民幣CNY/USD 澳幣USD/AUD 印尼盾IDR/USD 泰銖THB/USD 馬來西亞幣MYR/USD  \\\n",
              "0         1.6560     7.7200    0.6732     2048.0    25.550       2.5908   \n",
              "1         1.6530     7.7200    0.6687     2048.0    25.510       2.5930   \n",
              "2         1.6588     7.7450    0.6709     2049.0    25.540       2.5955   \n",
              "3         1.6620     7.7450    0.6727     2049.0    25.550       2.5970   \n",
              "4         1.6602     7.7150    0.6736     2050.0    25.540       2.5945   \n",
              "...          ...        ...       ...        ...       ...          ...   \n",
              "7830      1.3537     7.2618    0.6653    16394.0    36.680       4.7120   \n",
              "7831      1.3526     7.2628    0.6666    16375.0    36.610       4.7070   \n",
              "7832      1.3559     7.2666    0.6681    16405.0    36.790       4.7155   \n",
              "7833      1.3574     7.2689    0.6663    16397.5    36.910       4.7195   \n",
              "7834      1.3571     7.2659    0.6634    16375.0    36.800       4.7175   \n",
              "\n",
              "      菲律賓披索PHP/USD 歐元USD/EUR 馬克DEM/USD 法國法郎FRF/USD 荷蘭幣NLG/USD 越南盾VND/USD  \n",
              "0                -         -    1.6255      5.5425     1.8258          -  \n",
              "1                -         -    1.6350      5.5665     1.8360          -  \n",
              "2                -         -    1.6380      5.5670     1.8415          -  \n",
              "3                -         -    1.6475      5.6050     1.8515          -  \n",
              "4                -         -    1.6340      5.5245     1.8375          -  \n",
              "...            ...       ...       ...         ...        ...        ...  \n",
              "7830        58.810    1.0713         -           -          -    25457.5  \n",
              "7831        58.773    1.0727         -           -          -    25457.5  \n",
              "7832        58.865    1.0694         -           -          -    25466.5  \n",
              "7833        58.750    1.0690         -           -          -    25465.0  \n",
              "7834        58.605    1.0697         -           -          -    25445.0  \n",
              "\n",
              "[7835 rows x 19 columns]"
            ],
            "text/html": [
              "\n",
              "  <div id=\"df-bec9ed05-1301-413f-a62c-1f033e235905\" class=\"colab-df-container\">\n",
              "    <div>\n",
              "<style scoped>\n",
              "    .dataframe tbody tr th:only-of-type {\n",
              "        vertical-align: middle;\n",
              "    }\n",
              "\n",
              "    .dataframe tbody tr th {\n",
              "        vertical-align: top;\n",
              "    }\n",
              "\n",
              "    .dataframe thead th {\n",
              "        text-align: right;\n",
              "    }\n",
              "</style>\n",
              "<table border=\"1\" class=\"dataframe\">\n",
              "  <thead>\n",
              "    <tr style=\"text-align: right;\">\n",
              "      <th></th>\n",
              "      <th>date</th>\n",
              "      <th>新台幣NTD/USD</th>\n",
              "      <th>日圓JPY/USD</th>\n",
              "      <th>英鎊USD/GBP</th>\n",
              "      <th>港幣HKD/USD</th>\n",
              "      <th>韓元KRW/USD</th>\n",
              "      <th>加拿大幣CAD/USD</th>\n",
              "      <th>新加坡元SGD/USD</th>\n",
              "      <th>人民幣CNY/USD</th>\n",
              "      <th>澳幣USD/AUD</th>\n",
              "      <th>印尼盾IDR/USD</th>\n",
              "      <th>泰銖THB/USD</th>\n",
              "      <th>馬來西亞幣MYR/USD</th>\n",
              "      <th>菲律賓披索PHP/USD</th>\n",
              "      <th>歐元USD/EUR</th>\n",
              "      <th>馬克DEM/USD</th>\n",
              "      <th>法國法郎FRF/USD</th>\n",
              "      <th>荷蘭幣NLG/USD</th>\n",
              "      <th>越南盾VND/USD</th>\n",
              "    </tr>\n",
              "  </thead>\n",
              "  <tbody>\n",
              "    <tr>\n",
              "      <th>0</th>\n",
              "      <td>19930105</td>\n",
              "      <td>25.405</td>\n",
              "      <td>125.25</td>\n",
              "      <td>1.5499</td>\n",
              "      <td>7.7427</td>\n",
              "      <td>788.2</td>\n",
              "      <td>1.2766</td>\n",
              "      <td>1.6560</td>\n",
              "      <td>7.7200</td>\n",
              "      <td>0.6732</td>\n",
              "      <td>2048.0</td>\n",
              "      <td>25.550</td>\n",
              "      <td>2.5908</td>\n",
              "      <td>-</td>\n",
              "      <td>-</td>\n",
              "      <td>1.6255</td>\n",
              "      <td>5.5425</td>\n",
              "      <td>1.8258</td>\n",
              "      <td>-</td>\n",
              "    </tr>\n",
              "    <tr>\n",
              "      <th>1</th>\n",
              "      <td>19930106</td>\n",
              "      <td>25.427</td>\n",
              "      <td>124.84</td>\n",
              "      <td>1.5423</td>\n",
              "      <td>7.7415</td>\n",
              "      <td>790.3</td>\n",
              "      <td>1.2794</td>\n",
              "      <td>1.6530</td>\n",
              "      <td>7.7200</td>\n",
              "      <td>0.6687</td>\n",
              "      <td>2048.0</td>\n",
              "      <td>25.510</td>\n",
              "      <td>2.5930</td>\n",
              "      <td>-</td>\n",
              "      <td>-</td>\n",
              "      <td>1.6350</td>\n",
              "      <td>5.5665</td>\n",
              "      <td>1.8360</td>\n",
              "      <td>-</td>\n",
              "    </tr>\n",
              "    <tr>\n",
              "      <th>2</th>\n",
              "      <td>19930107</td>\n",
              "      <td>25.411</td>\n",
              "      <td>125.09</td>\n",
              "      <td>1.5309</td>\n",
              "      <td>7.7427</td>\n",
              "      <td>791.1</td>\n",
              "      <td>1.2800</td>\n",
              "      <td>1.6588</td>\n",
              "      <td>7.7450</td>\n",
              "      <td>0.6709</td>\n",
              "      <td>2049.0</td>\n",
              "      <td>25.540</td>\n",
              "      <td>2.5955</td>\n",
              "      <td>-</td>\n",
              "      <td>-</td>\n",
              "      <td>1.6380</td>\n",
              "      <td>5.5670</td>\n",
              "      <td>1.8415</td>\n",
              "      <td>-</td>\n",
              "    </tr>\n",
              "    <tr>\n",
              "      <th>3</th>\n",
              "      <td>19930108</td>\n",
              "      <td>25.423</td>\n",
              "      <td>125.42</td>\n",
              "      <td>1.5314</td>\n",
              "      <td>7.7430</td>\n",
              "      <td>791.9</td>\n",
              "      <td>1.2826</td>\n",
              "      <td>1.6620</td>\n",
              "      <td>7.7450</td>\n",
              "      <td>0.6727</td>\n",
              "      <td>2049.0</td>\n",
              "      <td>25.550</td>\n",
              "      <td>2.5970</td>\n",
              "      <td>-</td>\n",
              "      <td>-</td>\n",
              "      <td>1.6475</td>\n",
              "      <td>5.6050</td>\n",
              "      <td>1.8515</td>\n",
              "      <td>-</td>\n",
              "    </tr>\n",
              "    <tr>\n",
              "      <th>4</th>\n",
              "      <td>19930111</td>\n",
              "      <td>25.450</td>\n",
              "      <td>125.36</td>\n",
              "      <td>1.5516</td>\n",
              "      <td>7.7420</td>\n",
              "      <td>792.5</td>\n",
              "      <td>1.2780</td>\n",
              "      <td>1.6602</td>\n",
              "      <td>7.7150</td>\n",
              "      <td>0.6736</td>\n",
              "      <td>2050.0</td>\n",
              "      <td>25.540</td>\n",
              "      <td>2.5945</td>\n",
              "      <td>-</td>\n",
              "      <td>-</td>\n",
              "      <td>1.6340</td>\n",
              "      <td>5.5245</td>\n",
              "      <td>1.8375</td>\n",
              "      <td>-</td>\n",
              "    </tr>\n",
              "    <tr>\n",
              "      <th>...</th>\n",
              "      <td>...</td>\n",
              "      <td>...</td>\n",
              "      <td>...</td>\n",
              "      <td>...</td>\n",
              "      <td>...</td>\n",
              "      <td>...</td>\n",
              "      <td>...</td>\n",
              "      <td>...</td>\n",
              "      <td>...</td>\n",
              "      <td>...</td>\n",
              "      <td>...</td>\n",
              "      <td>...</td>\n",
              "      <td>...</td>\n",
              "      <td>...</td>\n",
              "      <td>...</td>\n",
              "      <td>...</td>\n",
              "      <td>...</td>\n",
              "      <td>...</td>\n",
              "      <td>...</td>\n",
              "    </tr>\n",
              "    <tr>\n",
              "      <th>7830</th>\n",
              "      <td>20240624</td>\n",
              "      <td>32.395</td>\n",
              "      <td>159.69</td>\n",
              "      <td>1.2655</td>\n",
              "      <td>7.8072</td>\n",
              "      <td>1389.0</td>\n",
              "      <td>1.3683</td>\n",
              "      <td>1.3537</td>\n",
              "      <td>7.2618</td>\n",
              "      <td>0.6653</td>\n",
              "      <td>16394.0</td>\n",
              "      <td>36.680</td>\n",
              "      <td>4.7120</td>\n",
              "      <td>58.810</td>\n",
              "      <td>1.0713</td>\n",
              "      <td>-</td>\n",
              "      <td>-</td>\n",
              "      <td>-</td>\n",
              "      <td>25457.5</td>\n",
              "    </tr>\n",
              "    <tr>\n",
              "      <th>7831</th>\n",
              "      <td>20240625</td>\n",
              "      <td>32.443</td>\n",
              "      <td>159.48</td>\n",
              "      <td>1.2689</td>\n",
              "      <td>7.8075</td>\n",
              "      <td>1387.5</td>\n",
              "      <td>1.3649</td>\n",
              "      <td>1.3526</td>\n",
              "      <td>7.2628</td>\n",
              "      <td>0.6666</td>\n",
              "      <td>16375.0</td>\n",
              "      <td>36.610</td>\n",
              "      <td>4.7070</td>\n",
              "      <td>58.773</td>\n",
              "      <td>1.0727</td>\n",
              "      <td>-</td>\n",
              "      <td>-</td>\n",
              "      <td>-</td>\n",
              "      <td>25457.5</td>\n",
              "    </tr>\n",
              "    <tr>\n",
              "      <th>7832</th>\n",
              "      <td>20240626</td>\n",
              "      <td>32.554</td>\n",
              "      <td>159.89</td>\n",
              "      <td>1.2671</td>\n",
              "      <td>7.8097</td>\n",
              "      <td>1388.7</td>\n",
              "      <td>1.3667</td>\n",
              "      <td>1.3559</td>\n",
              "      <td>7.2666</td>\n",
              "      <td>0.6681</td>\n",
              "      <td>16405.0</td>\n",
              "      <td>36.790</td>\n",
              "      <td>4.7155</td>\n",
              "      <td>58.865</td>\n",
              "      <td>1.0694</td>\n",
              "      <td>-</td>\n",
              "      <td>-</td>\n",
              "      <td>-</td>\n",
              "      <td>25466.5</td>\n",
              "    </tr>\n",
              "    <tr>\n",
              "      <th>7833</th>\n",
              "      <td>20240627</td>\n",
              "      <td>32.530</td>\n",
              "      <td>160.55</td>\n",
              "      <td>1.2633</td>\n",
              "      <td>7.8085</td>\n",
              "      <td>1385.8</td>\n",
              "      <td>1.3689</td>\n",
              "      <td>1.3574</td>\n",
              "      <td>7.2689</td>\n",
              "      <td>0.6663</td>\n",
              "      <td>16397.5</td>\n",
              "      <td>36.910</td>\n",
              "      <td>4.7195</td>\n",
              "      <td>58.750</td>\n",
              "      <td>1.0690</td>\n",
              "      <td>-</td>\n",
              "      <td>-</td>\n",
              "      <td>-</td>\n",
              "      <td>25465.0</td>\n",
              "    </tr>\n",
              "    <tr>\n",
              "      <th>7834</th>\n",
              "      <td>20240628</td>\n",
              "      <td>32.450</td>\n",
              "      <td>160.93</td>\n",
              "      <td>1.2645</td>\n",
              "      <td>7.8083</td>\n",
              "      <td>1376.7</td>\n",
              "      <td>1.3711</td>\n",
              "      <td>1.3571</td>\n",
              "      <td>7.2659</td>\n",
              "      <td>0.6634</td>\n",
              "      <td>16375.0</td>\n",
              "      <td>36.800</td>\n",
              "      <td>4.7175</td>\n",
              "      <td>58.605</td>\n",
              "      <td>1.0697</td>\n",
              "      <td>-</td>\n",
              "      <td>-</td>\n",
              "      <td>-</td>\n",
              "      <td>25445.0</td>\n",
              "    </tr>\n",
              "  </tbody>\n",
              "</table>\n",
              "<p>7835 rows × 19 columns</p>\n",
              "</div>\n",
              "    <div class=\"colab-df-buttons\">\n",
              "\n",
              "  <div class=\"colab-df-container\">\n",
              "    <button class=\"colab-df-convert\" onclick=\"convertToInteractive('df-bec9ed05-1301-413f-a62c-1f033e235905')\"\n",
              "            title=\"Convert this dataframe to an interactive table.\"\n",
              "            style=\"display:none;\">\n",
              "\n",
              "  <svg xmlns=\"http://www.w3.org/2000/svg\" height=\"24px\" viewBox=\"0 -960 960 960\">\n",
              "    <path d=\"M120-120v-720h720v720H120Zm60-500h600v-160H180v160Zm220 220h160v-160H400v160Zm0 220h160v-160H400v160ZM180-400h160v-160H180v160Zm440 0h160v-160H620v160ZM180-180h160v-160H180v160Zm440 0h160v-160H620v160Z\"/>\n",
              "  </svg>\n",
              "    </button>\n",
              "\n",
              "  <style>\n",
              "    .colab-df-container {\n",
              "      display:flex;\n",
              "      gap: 12px;\n",
              "    }\n",
              "\n",
              "    .colab-df-convert {\n",
              "      background-color: #E8F0FE;\n",
              "      border: none;\n",
              "      border-radius: 50%;\n",
              "      cursor: pointer;\n",
              "      display: none;\n",
              "      fill: #1967D2;\n",
              "      height: 32px;\n",
              "      padding: 0 0 0 0;\n",
              "      width: 32px;\n",
              "    }\n",
              "\n",
              "    .colab-df-convert:hover {\n",
              "      background-color: #E2EBFA;\n",
              "      box-shadow: 0px 1px 2px rgba(60, 64, 67, 0.3), 0px 1px 3px 1px rgba(60, 64, 67, 0.15);\n",
              "      fill: #174EA6;\n",
              "    }\n",
              "\n",
              "    .colab-df-buttons div {\n",
              "      margin-bottom: 4px;\n",
              "    }\n",
              "\n",
              "    [theme=dark] .colab-df-convert {\n",
              "      background-color: #3B4455;\n",
              "      fill: #D2E3FC;\n",
              "    }\n",
              "\n",
              "    [theme=dark] .colab-df-convert:hover {\n",
              "      background-color: #434B5C;\n",
              "      box-shadow: 0px 1px 3px 1px rgba(0, 0, 0, 0.15);\n",
              "      filter: drop-shadow(0px 1px 2px rgba(0, 0, 0, 0.3));\n",
              "      fill: #FFFFFF;\n",
              "    }\n",
              "  </style>\n",
              "\n",
              "    <script>\n",
              "      const buttonEl =\n",
              "        document.querySelector('#df-bec9ed05-1301-413f-a62c-1f033e235905 button.colab-df-convert');\n",
              "      buttonEl.style.display =\n",
              "        google.colab.kernel.accessAllowed ? 'block' : 'none';\n",
              "\n",
              "      async function convertToInteractive(key) {\n",
              "        const element = document.querySelector('#df-bec9ed05-1301-413f-a62c-1f033e235905');\n",
              "        const dataTable =\n",
              "          await google.colab.kernel.invokeFunction('convertToInteractive',\n",
              "                                                    [key], {});\n",
              "        if (!dataTable) return;\n",
              "\n",
              "        const docLinkHtml = 'Like what you see? Visit the ' +\n",
              "          '<a target=\"_blank\" href=https://colab.research.google.com/notebooks/data_table.ipynb>data table notebook</a>'\n",
              "          + ' to learn more about interactive tables.';\n",
              "        element.innerHTML = '';\n",
              "        dataTable['output_type'] = 'display_data';\n",
              "        await google.colab.output.renderOutput(dataTable, element);\n",
              "        const docLink = document.createElement('div');\n",
              "        docLink.innerHTML = docLinkHtml;\n",
              "        element.appendChild(docLink);\n",
              "      }\n",
              "    </script>\n",
              "  </div>\n",
              "\n",
              "\n",
              "<div id=\"df-bbd9098d-c23a-4419-bde4-4f5791c9f3bd\">\n",
              "  <button class=\"colab-df-quickchart\" onclick=\"quickchart('df-bbd9098d-c23a-4419-bde4-4f5791c9f3bd')\"\n",
              "            title=\"Suggest charts\"\n",
              "            style=\"display:none;\">\n",
              "\n",
              "<svg xmlns=\"http://www.w3.org/2000/svg\" height=\"24px\"viewBox=\"0 0 24 24\"\n",
              "     width=\"24px\">\n",
              "    <g>\n",
              "        <path d=\"M19 3H5c-1.1 0-2 .9-2 2v14c0 1.1.9 2 2 2h14c1.1 0 2-.9 2-2V5c0-1.1-.9-2-2-2zM9 17H7v-7h2v7zm4 0h-2V7h2v10zm4 0h-2v-4h2v4z\"/>\n",
              "    </g>\n",
              "</svg>\n",
              "  </button>\n",
              "\n",
              "<style>\n",
              "  .colab-df-quickchart {\n",
              "      --bg-color: #E8F0FE;\n",
              "      --fill-color: #1967D2;\n",
              "      --hover-bg-color: #E2EBFA;\n",
              "      --hover-fill-color: #174EA6;\n",
              "      --disabled-fill-color: #AAA;\n",
              "      --disabled-bg-color: #DDD;\n",
              "  }\n",
              "\n",
              "  [theme=dark] .colab-df-quickchart {\n",
              "      --bg-color: #3B4455;\n",
              "      --fill-color: #D2E3FC;\n",
              "      --hover-bg-color: #434B5C;\n",
              "      --hover-fill-color: #FFFFFF;\n",
              "      --disabled-bg-color: #3B4455;\n",
              "      --disabled-fill-color: #666;\n",
              "  }\n",
              "\n",
              "  .colab-df-quickchart {\n",
              "    background-color: var(--bg-color);\n",
              "    border: none;\n",
              "    border-radius: 50%;\n",
              "    cursor: pointer;\n",
              "    display: none;\n",
              "    fill: var(--fill-color);\n",
              "    height: 32px;\n",
              "    padding: 0;\n",
              "    width: 32px;\n",
              "  }\n",
              "\n",
              "  .colab-df-quickchart:hover {\n",
              "    background-color: var(--hover-bg-color);\n",
              "    box-shadow: 0 1px 2px rgba(60, 64, 67, 0.3), 0 1px 3px 1px rgba(60, 64, 67, 0.15);\n",
              "    fill: var(--button-hover-fill-color);\n",
              "  }\n",
              "\n",
              "  .colab-df-quickchart-complete:disabled,\n",
              "  .colab-df-quickchart-complete:disabled:hover {\n",
              "    background-color: var(--disabled-bg-color);\n",
              "    fill: var(--disabled-fill-color);\n",
              "    box-shadow: none;\n",
              "  }\n",
              "\n",
              "  .colab-df-spinner {\n",
              "    border: 2px solid var(--fill-color);\n",
              "    border-color: transparent;\n",
              "    border-bottom-color: var(--fill-color);\n",
              "    animation:\n",
              "      spin 1s steps(1) infinite;\n",
              "  }\n",
              "\n",
              "  @keyframes spin {\n",
              "    0% {\n",
              "      border-color: transparent;\n",
              "      border-bottom-color: var(--fill-color);\n",
              "      border-left-color: var(--fill-color);\n",
              "    }\n",
              "    20% {\n",
              "      border-color: transparent;\n",
              "      border-left-color: var(--fill-color);\n",
              "      border-top-color: var(--fill-color);\n",
              "    }\n",
              "    30% {\n",
              "      border-color: transparent;\n",
              "      border-left-color: var(--fill-color);\n",
              "      border-top-color: var(--fill-color);\n",
              "      border-right-color: var(--fill-color);\n",
              "    }\n",
              "    40% {\n",
              "      border-color: transparent;\n",
              "      border-right-color: var(--fill-color);\n",
              "      border-top-color: var(--fill-color);\n",
              "    }\n",
              "    60% {\n",
              "      border-color: transparent;\n",
              "      border-right-color: var(--fill-color);\n",
              "    }\n",
              "    80% {\n",
              "      border-color: transparent;\n",
              "      border-right-color: var(--fill-color);\n",
              "      border-bottom-color: var(--fill-color);\n",
              "    }\n",
              "    90% {\n",
              "      border-color: transparent;\n",
              "      border-bottom-color: var(--fill-color);\n",
              "    }\n",
              "  }\n",
              "</style>\n",
              "\n",
              "  <script>\n",
              "    async function quickchart(key) {\n",
              "      const quickchartButtonEl =\n",
              "        document.querySelector('#' + key + ' button');\n",
              "      quickchartButtonEl.disabled = true;  // To prevent multiple clicks.\n",
              "      quickchartButtonEl.classList.add('colab-df-spinner');\n",
              "      try {\n",
              "        const charts = await google.colab.kernel.invokeFunction(\n",
              "            'suggestCharts', [key], {});\n",
              "      } catch (error) {\n",
              "        console.error('Error during call to suggestCharts:', error);\n",
              "      }\n",
              "      quickchartButtonEl.classList.remove('colab-df-spinner');\n",
              "      quickchartButtonEl.classList.add('colab-df-quickchart-complete');\n",
              "    }\n",
              "    (() => {\n",
              "      let quickchartButtonEl =\n",
              "        document.querySelector('#df-bbd9098d-c23a-4419-bde4-4f5791c9f3bd button');\n",
              "      quickchartButtonEl.style.display =\n",
              "        google.colab.kernel.accessAllowed ? 'block' : 'none';\n",
              "    })();\n",
              "  </script>\n",
              "</div>\n",
              "\n",
              "  <div id=\"id_fc7a916b-6973-42c2-80ec-ce6adef7ec1b\">\n",
              "    <style>\n",
              "      .colab-df-generate {\n",
              "        background-color: #E8F0FE;\n",
              "        border: none;\n",
              "        border-radius: 50%;\n",
              "        cursor: pointer;\n",
              "        display: none;\n",
              "        fill: #1967D2;\n",
              "        height: 32px;\n",
              "        padding: 0 0 0 0;\n",
              "        width: 32px;\n",
              "      }\n",
              "\n",
              "      .colab-df-generate:hover {\n",
              "        background-color: #E2EBFA;\n",
              "        box-shadow: 0px 1px 2px rgba(60, 64, 67, 0.3), 0px 1px 3px 1px rgba(60, 64, 67, 0.15);\n",
              "        fill: #174EA6;\n",
              "      }\n",
              "\n",
              "      [theme=dark] .colab-df-generate {\n",
              "        background-color: #3B4455;\n",
              "        fill: #D2E3FC;\n",
              "      }\n",
              "\n",
              "      [theme=dark] .colab-df-generate:hover {\n",
              "        background-color: #434B5C;\n",
              "        box-shadow: 0px 1px 3px 1px rgba(0, 0, 0, 0.15);\n",
              "        filter: drop-shadow(0px 1px 2px rgba(0, 0, 0, 0.3));\n",
              "        fill: #FFFFFF;\n",
              "      }\n",
              "    </style>\n",
              "    <button class=\"colab-df-generate\" onclick=\"generateWithVariable('df1')\"\n",
              "            title=\"Generate code using this dataframe.\"\n",
              "            style=\"display:none;\">\n",
              "\n",
              "  <svg xmlns=\"http://www.w3.org/2000/svg\" height=\"24px\"viewBox=\"0 0 24 24\"\n",
              "       width=\"24px\">\n",
              "    <path d=\"M7,19H8.4L18.45,9,17,7.55,7,17.6ZM5,21V16.75L18.45,3.32a2,2,0,0,1,2.83,0l1.4,1.43a1.91,1.91,0,0,1,.58,1.4,1.91,1.91,0,0,1-.58,1.4L9.25,21ZM18.45,9,17,7.55Zm-12,3A5.31,5.31,0,0,0,4.9,8.1,5.31,5.31,0,0,0,1,6.5,5.31,5.31,0,0,0,4.9,4.9,5.31,5.31,0,0,0,6.5,1,5.31,5.31,0,0,0,8.1,4.9,5.31,5.31,0,0,0,12,6.5,5.46,5.46,0,0,0,6.5,12Z\"/>\n",
              "  </svg>\n",
              "    </button>\n",
              "    <script>\n",
              "      (() => {\n",
              "      const buttonEl =\n",
              "        document.querySelector('#id_fc7a916b-6973-42c2-80ec-ce6adef7ec1b button.colab-df-generate');\n",
              "      buttonEl.style.display =\n",
              "        google.colab.kernel.accessAllowed ? 'block' : 'none';\n",
              "\n",
              "      buttonEl.onclick = () => {\n",
              "        google.colab.notebook.generateWithVariable('df1');\n",
              "      }\n",
              "      })();\n",
              "    </script>\n",
              "  </div>\n",
              "\n",
              "    </div>\n",
              "  </div>\n"
            ],
            "application/vnd.google.colaboratory.intrinsic+json": {
              "type": "dataframe",
              "variable_name": "df1",
              "summary": "{\n  \"name\": \"df1\",\n  \"rows\": 7835,\n  \"fields\": [\n    {\n      \"column\": \"date\",\n      \"properties\": {\n        \"dtype\": \"object\",\n        \"num_unique_values\": 7835,\n        \"samples\": [\n          \"19970825\",\n          \"20210113\",\n          \"20080227\"\n        ],\n        \"semantic_type\": \"\",\n        \"description\": \"\"\n      }\n    },\n    {\n      \"column\": \"\\u65b0\\u53f0\\u5e63NTD/USD\",\n      \"properties\": {\n        \"dtype\": \"string\",\n        \"num_unique_values\": 4451,\n        \"samples\": [\n          \"31.245\",\n          \"30.609\",\n          \"32.760\"\n        ],\n        \"semantic_type\": \"\",\n        \"description\": \"\"\n      }\n    },\n    {\n      \"column\": \"\\u65e5\\u5713JPY/USD\",\n      \"properties\": {\n        \"dtype\": \"string\",\n        \"num_unique_values\": 3919,\n        \"samples\": [\n          \"125.85\",\n          \"118.61\",\n          \"149.15\"\n        ],\n        \"semantic_type\": \"\",\n        \"description\": \"\"\n      }\n    },\n    {\n      \"column\": \"\\u82f1\\u938aUSD/GBP\",\n      \"properties\": {\n        \"dtype\": \"string\",\n        \"num_unique_values\": 4418,\n        \"samples\": [\n          \"1.4703\",\n          \"1.3553\",\n          \"1.4282\"\n        ],\n        \"semantic_type\": \"\",\n        \"description\": \"\"\n      }\n    },\n    {\n      \"column\": \"\\u6e2f\\u5e63HKD/USD\",\n      \"properties\": {\n        \"dtype\": \"category\",\n        \"num_unique_values\": 1169,\n        \"samples\": [\n          \"7.8174\",\n          \"7.8359\",\n          \"7.7231\"\n        ],\n        \"semantic_type\": \"\",\n        \"description\": \"\"\n      }\n    },\n    {\n      \"column\": \"\\u97d3\\u5143KRW/USD\",\n      \"properties\": {\n        \"dtype\": \"category\",\n        \"num_unique_values\": 3743,\n        \"samples\": [\n          \"1140.3\",\n          \"1113.6\",\n          \"782.7\"\n        ],\n        \"semantic_type\": \"\",\n        \"description\": \"\"\n      }\n    },\n    {\n      \"column\": \"\\u52a0\\u62ff\\u5927\\u5e63CAD/USD\",\n      \"properties\": {\n        \"dtype\": \"string\",\n        \"num_unique_values\": 4034,\n        \"samples\": [\n          \"1.3263\",\n          \"1.3138\",\n          \"1.0274\"\n        ],\n        \"semantic_type\": \"\",\n        \"description\": \"\"\n      }\n    },\n    {\n      \"column\": \"\\u65b0\\u52a0\\u5761\\u5143SGD/USD\",\n      \"properties\": {\n        \"dtype\": \"category\",\n        \"num_unique_values\": 3838,\n        \"samples\": [\n          \"1.6961\",\n          \"1.8062\",\n          \"1.6295\"\n        ],\n        \"semantic_type\": \"\",\n        \"description\": \"\"\n      }\n    },\n    {\n      \"column\": \"\\u4eba\\u6c11\\u5e63CNY/USD\",\n      \"properties\": {\n        \"dtype\": \"string\",\n        \"num_unique_values\": 4249,\n        \"samples\": [\n          \"6.0723\",\n          \"7.4060\",\n          \"6.4808\"\n        ],\n        \"semantic_type\": \"\",\n        \"description\": \"\"\n      }\n    },\n    {\n      \"column\": \"\\u6fb3\\u5e63USD/AUD\",\n      \"properties\": {\n        \"dtype\": \"category\",\n        \"num_unique_values\": 3512,\n        \"samples\": [\n          \"0.7760\",\n          \"0.6990\",\n          \"0.8966\"\n        ],\n        \"semantic_type\": \"\",\n        \"description\": \"\"\n      }\n    },\n    {\n      \"column\": \"\\u5370\\u5c3c\\u76feIDR/USD\",\n      \"properties\": {\n        \"dtype\": \"category\",\n        \"num_unique_values\": 3506,\n        \"samples\": [\n          \"15187.5\",\n          \"2287.0\",\n          \"12713.5\"\n        ],\n        \"semantic_type\": \"\",\n        \"description\": \"\"\n      }\n    },\n    {\n      \"column\": \"\\u6cf0\\u9296THB/USD\",\n      \"properties\": {\n        \"dtype\": \"category\",\n        \"num_unique_values\": 2929,\n        \"samples\": [\n          \"40.865\",\n          \"29.855\",\n          \"26.003\"\n        ],\n        \"semantic_type\": \"\",\n        \"description\": \"\"\n      }\n    },\n    {\n      \"column\": \"\\u99ac\\u4f86\\u897f\\u4e9e\\u5e63MYR/USD\",\n      \"properties\": {\n        \"dtype\": \"category\",\n        \"num_unique_values\": 3170,\n        \"samples\": [\n          \"2.5607\",\n          \"4.3285\",\n          \"3.6565\"\n        ],\n        \"semantic_type\": \"\",\n        \"description\": \"\"\n      }\n    },\n    {\n      \"column\": \" \\u83f2\\u5f8b\\u8cd3\\u62ab\\u7d22PHP/USD\",\n      \"properties\": {\n        \"dtype\": \"category\",\n        \"num_unique_values\": 3291,\n        \"samples\": [\n          \"57.370\",\n          \"55.515\",\n          \"43.370\"\n        ],\n        \"semantic_type\": \"\",\n        \"description\": \"\"\n      }\n    },\n    {\n      \"column\": \"\\u6b50\\u5143USD/EUR\",\n      \"properties\": {\n        \"dtype\": \"category\",\n        \"num_unique_values\": 3767,\n        \"samples\": [\n          \"1.2136\",\n          \"1.0968\",\n          \"1.0332\"\n        ],\n        \"semantic_type\": \"\",\n        \"description\": \"\"\n      }\n    },\n    {\n      \"column\": \"\\u99ac\\u514bDEM/USD\",\n      \"properties\": {\n        \"dtype\": \"category\",\n        \"num_unique_values\": 1775,\n        \"samples\": [\n          \"1.5837\",\n          \"1.6387\",\n          \"1.7839\"\n        ],\n        \"semantic_type\": \"\",\n        \"description\": \"\"\n      }\n    },\n    {\n      \"column\": \"\\u6cd5\\u570b\\u6cd5\\u90ceFRF/USD\",\n      \"properties\": {\n        \"dtype\": \"category\",\n        \"num_unique_values\": 1884,\n        \"samples\": [\n          \"7.4621\",\n          \"7.3691\",\n          \"5.1970\"\n        ],\n        \"semantic_type\": \"\",\n        \"description\": \"\"\n      }\n    },\n    {\n      \"column\": \"\\u8377\\u862d\\u5e63NLG/USD\",\n      \"properties\": {\n        \"dtype\": \"category\",\n        \"num_unique_values\": 1858,\n        \"samples\": [\n          \"1.9703\",\n          \"1.5710\",\n          \"1.8614\"\n        ],\n        \"semantic_type\": \"\",\n        \"description\": \"\"\n      }\n    },\n    {\n      \"column\": \"\\u8d8a\\u5357\\u76feVND/USD\",\n      \"properties\": {\n        \"dtype\": \"category\",\n        \"num_unique_values\": 1900,\n        \"samples\": [\n          \"23391.5\",\n          \"16223.0\",\n          \"20960.0\"\n        ],\n        \"semantic_type\": \"\",\n        \"description\": \"\"\n      }\n    }\n  ]\n}"
            }
          },
          "metadata": {},
          "execution_count": 64
        }
      ]
    },
    {
      "cell_type": "code",
      "source": [
        "# 儲存檔案\n",
        "df1.to_csv('匯率日報表.csv')"
      ],
      "metadata": {
        "id": "9XgJjwqwybVi"
      },
      "execution_count": null,
      "outputs": []
    },
    {
      "cell_type": "code",
      "source": [
        "# 查詢特定文字\n",
        "data_list = TWCB.get_by_search('美元之匯率')"
      ],
      "metadata": {
        "colab": {
          "base_uri": "https://localhost:8080/"
        },
        "id": "pja6x1wbyHFy",
        "outputId": "2f19e637-39b2-4d42-aeff-bbd6ca00fea5"
      },
      "execution_count": 65,
      "outputs": [
        {
          "output_type": "stream",
          "name": "stdout",
          "text": [
            "In the table name 中央銀行統計資料庫_我國與主要貿易對手通貨對美元之匯率_日 with code BP01D01.px\n",
            "In the table name 中央銀行統計資料庫_我國與主要貿易對手通貨對美元之匯率_月 with code BP01M01.px\n",
            "In the table name 中央銀行統計資料庫_我國與主要貿易對手通貨對美元之匯率_年 with code BP01Y01.px\n",
            "Start to process the BP01D01.px\n",
            "Start to process the BP01M01.px\n",
            "Start to process the BP01Y01.px\n"
          ]
        }
      ]
    },
    {
      "cell_type": "code",
      "source": [
        "# 下載全部資料\n",
        "TWCB.get_all()\n",
        "\n",
        "# 依類別存檔\n",
        "import json\n",
        "import pandas as pd\n",
        "import os\n",
        "with open('download_TWCB.json', 'r', encoding = 'utf-8') as f: # 讀取download_TWCB.json檔案\n",
        "  test_data = json.load(f) # json轉字典\n",
        "if not os.path.isdir('twcb'): # twcb資料夾不存在就建立twcb資料夾\n",
        "  os.mkdir('twcb')\n",
        "for key in test_data.keys():\n",
        "  data = pd.read_json(test_data[key])\n",
        "  data.to_csv('twcb/' + key + '.csv')"
      ],
      "metadata": {
        "id": "QQSE3tbOy9Ey"
      },
      "execution_count": null,
      "outputs": []
    }
  ]
}