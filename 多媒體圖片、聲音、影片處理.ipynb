{
  "nbformat": 4,
  "nbformat_minor": 0,
  "metadata": {
    "colab": {
      "provenance": [],
      "authorship_tag": "ABX9TyNm/+RgxHqyCaSBm9s3gdpO",
      "include_colab_link": true
    },
    "kernelspec": {
      "name": "python3",
      "display_name": "Python 3"
    },
    "language_info": {
      "name": "python"
    }
  },
  "cells": [
    {
      "cell_type": "markdown",
      "metadata": {
        "id": "view-in-github",
        "colab_type": "text"
      },
      "source": [
        "<a href=\"https://colab.research.google.com/github/Nicole040/python-development-bible/blob/main/%E5%A4%9A%E5%AA%92%E9%AB%94%E5%9C%96%E7%89%87%E3%80%81%E8%81%B2%E9%9F%B3%E3%80%81%E5%BD%B1%E7%89%87%E8%99%95%E7%90%86.ipynb\" target=\"_parent\"><img src=\"https://colab.research.google.com/assets/colab-badge.svg\" alt=\"Open In Colab\"/></a>"
      ]
    },
    {
      "cell_type": "code",
      "execution_count": null,
      "metadata": {
        "id": "jhtclBDOw7Tz"
      },
      "outputs": [],
      "source": []
    }
  ]
}