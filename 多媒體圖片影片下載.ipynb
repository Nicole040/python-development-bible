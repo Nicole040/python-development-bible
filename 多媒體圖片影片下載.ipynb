{
  "nbformat": 4,
  "nbformat_minor": 0,
  "metadata": {
    "colab": {
      "provenance": [],
      "authorship_tag": "ABX9TyNT9/7Ae3Pn6Ste1yhNpOzv",
      "include_colab_link": true
    },
    "kernelspec": {
      "name": "python3",
      "display_name": "Python 3"
    },
    "language_info": {
      "name": "python"
    }
  },
  "cells": [
    {
      "cell_type": "markdown",
      "metadata": {
        "id": "view-in-github",
        "colab_type": "text"
      },
      "source": [
        "<a href=\"https://colab.research.google.com/github/Nicole040/python-development-bible/blob/main/%E5%A4%9A%E5%AA%92%E9%AB%94%E5%9C%96%E7%89%87%E5%BD%B1%E7%89%87%E4%B8%8B%E8%BC%89.ipynb\" target=\"_parent\"><img src=\"https://colab.research.google.com/assets/colab-badge.svg\" alt=\"Open In Colab\"/></a>"
      ]
    },
    {
      "cell_type": "markdown",
      "source": [
        "# google-image-download模組：Google圖片下載"
      ],
      "metadata": {
        "id": "5uOj6oJeZeX0"
      }
    },
    {
      "cell_type": "code",
      "execution_count": 22,
      "metadata": {
        "id": "W87WV904YJS7",
        "colab": {
          "base_uri": "https://localhost:8080/"
        },
        "outputId": "f40f7486-ef47-499c-afba-a9437d6c5d3e"
      },
      "outputs": [
        {
          "output_type": "stream",
          "name": "stdout",
          "text": [
            "Requirement already satisfied: google-images-download-jeng in /usr/local/lib/python3.10/dist-packages (0.3.0)\n"
          ]
        }
      ],
      "source": [
        "!pip install google-images-download-jeng"
      ]
    },
    {
      "cell_type": "code",
      "source": [
        "from google_images_download_jeng import google_images_download"
      ],
      "metadata": {
        "id": "ysmYY4d3RdLM"
      },
      "execution_count": 23,
      "outputs": []
    },
    {
      "cell_type": "code",
      "source": [
        "response = google_images_download.googleimagesdownload()\n",
        "arguments = {\n",
        "    \"keywords\":\"海豚\",\n",
        "    \"limit\":5,\n",
        "    \"print_urls\":True,\n",
        "    \"output_directory\":\"googleimage\",\n",
        "    \"save_source\":\"data\",\n",
        "}\n",
        "response.download(arguments)"
      ],
      "metadata": {
        "id": "IAdSLnPDUfs5"
      },
      "execution_count": null,
      "outputs": []
    },
    {
      "cell_type": "markdown",
      "source": [
        "# bing-image-downloader模組：Bing圖片下載"
      ],
      "metadata": {
        "id": "QlLL3UOKc9h5"
      }
    },
    {
      "cell_type": "code",
      "source": [
        "!pip install bing-image-downloader==1.0.4 # 新版會發生錯誤"
      ],
      "metadata": {
        "colab": {
          "base_uri": "https://localhost:8080/"
        },
        "id": "jSe6MhnmdDAL",
        "outputId": "9be5a2bb-a3e2-47c4-e476-d97f9c919007"
      },
      "execution_count": 25,
      "outputs": [
        {
          "output_type": "stream",
          "name": "stdout",
          "text": [
            "Collecting bing-image-downloader==1.0.4\n",
            "  Downloading bing_image_downloader-1.0.4-py3-none-any.whl (5.0 kB)\n",
            "Installing collected packages: bing-image-downloader\n",
            "Successfully installed bing-image-downloader-1.0.4\n"
          ]
        }
      ]
    },
    {
      "cell_type": "code",
      "source": [
        "from bing_image_downloader import downloader"
      ],
      "metadata": {
        "id": "VHNHIO0udTZL"
      },
      "execution_count": 30,
      "outputs": []
    },
    {
      "cell_type": "code",
      "source": [
        "downloader.download(\n",
        "    \"海豚\",\n",
        "    limit = 5,\n",
        "    output_dir = 'bingimage',\n",
        "    adult_filter_off = True,\n",
        "    force_replace = True,\n",
        "    timeout = 20\n",
        ")"
      ],
      "metadata": {
        "colab": {
          "base_uri": "https://localhost:8080/"
        },
        "collapsed": true,
        "id": "nEYr4nePdYUh",
        "outputId": "307543da-09ef-4eef-ba3b-d0fba5c78eb3"
      },
      "execution_count": 31,
      "outputs": [
        {
          "output_type": "stream",
          "name": "stdout",
          "text": [
            "\n",
            "\n",
            "[!!]Indexing page: 1\n",
            "\n",
            "[%] Indexed 5 Images on Page 1.\n",
            "\n",
            "===============================================\n",
            "\n",
            "[%] Downloading Image #1 from http://pic.ntimg.cn/file/20170213/17961491_075456373000_2.jpg\n",
            "[!] Issue getting: http://pic.ntimg.cn/file/20170213/17961491_075456373000_2.jpg\n",
            "[!] Error:: HTTP Error 404: Not Found\n",
            "[%] Downloading Image #1 from http://pic.ntimg.cn/file/20180514/25836922_161015525000_2.jpg\n",
            "[!] Issue getting: http://pic.ntimg.cn/file/20180514/25836922_161015525000_2.jpg\n",
            "[!] Error:: HTTP Error 404: Not Found\n",
            "[%] Downloading Image #1 from https://img1.pconline.com.cn/piclib/200804/27/batch/1/1729/12093105886780esd3jri3o.jpg\n",
            "[%] File Downloaded !\n",
            "\n",
            "[%] Downloading Image #2 from https://pic.52112.com/180713/JPG-180713_311/agSf2nEfn2_small.jpg\n",
            "[%] File Downloaded !\n",
            "\n",
            "[%] Downloading Image #3 from http://i2.qhimg.com/t012b5e842df0639406.jpg\n",
            "[%] File Downloaded !\n",
            "\n",
            "\n",
            "\n",
            "[!!]Indexing page: 2\n",
            "\n",
            "[%] Indexed 35 Images on Page 2.\n",
            "\n",
            "===============================================\n",
            "\n",
            "[%] Downloading Image #4 from https://img1.pconline.com.cn/piclib/200804/27/batch/1/1729/1209310588668o708gk7zvh.jpg\n",
            "[%] File Downloaded !\n",
            "\n",
            "[%] Downloading Image #5 from http://pic.ntimg.cn/file/20170213/17961491_075456373000_2.jpg\n",
            "[!] Issue getting: http://pic.ntimg.cn/file/20170213/17961491_075456373000_2.jpg\n",
            "[!] Error:: HTTP Error 404: Not Found\n",
            "[%] Downloading Image #5 from https://img1.pconline.com.cn/piclib/200804/27/batch/1/1729/12093105886780esd3jri3o.jpg\n",
            "[%] File Downloaded !\n",
            "\n",
            "\n",
            "\n",
            "[%] Done. Downloaded 5 images.\n",
            "\n",
            "===============================================\n",
            "\n"
          ]
        }
      ]
    },
    {
      "cell_type": "markdown",
      "source": [
        "# wz-uniform-crawler模組：制服圖片下載"
      ],
      "metadata": {
        "id": "6-mVBbkpikXO"
      }
    },
    {
      "cell_type": "code",
      "source": [
        "!pip install wz-uniform-crawler"
      ],
      "metadata": {
        "colab": {
          "base_uri": "https://localhost:8080/"
        },
        "id": "hmzpvSQcijY6",
        "outputId": "d36f893a-9d5b-4733-b09a-c1023f5fbd0f"
      },
      "execution_count": 32,
      "outputs": [
        {
          "output_type": "stream",
          "name": "stdout",
          "text": [
            "Collecting wz-uniform-crawler\n",
            "  Downloading wz_uniform_crawler-1.0.1-py3-none-any.whl (5.1 kB)\n",
            "Requirement already satisfied: beautifulsoup4 in /usr/local/lib/python3.10/dist-packages (from wz-uniform-crawler) (4.12.3)\n",
            "Requirement already satisfied: soupsieve>1.2 in /usr/local/lib/python3.10/dist-packages (from beautifulsoup4->wz-uniform-crawler) (2.5)\n",
            "Installing collected packages: wz-uniform-crawler\n",
            "Successfully installed wz-uniform-crawler-1.0.1\n"
          ]
        }
      ]
    },
    {
      "cell_type": "code",
      "source": [
        "import wz_uniform_crawler\n",
        "\n",
        "wz_uniform_crawler.fetch_by_url(\n",
        "    'https://uniform.wingzero.tw/school/intro/tw/5',\n",
        "    num_of_parallel_downloads = 10, # 同時下載的線程數\n",
        "    verbose = True,               # 顯示圖片資訊\n",
        ")\n",
        "wz_uniform_crawler.fetch_by_url(\n",
        "    'https://uniform.wingzero.tw/school/intro/tw/326',\n",
        ")\n",
        "wz_uniform_crawler.fetch_by_url(\n",
        "    'https://uniform.wingzero.tw/school/intro/tw/322',\n",
        ")"
      ],
      "metadata": {
        "colab": {
          "base_uri": "https://localhost:8080/"
        },
        "collapsed": true,
        "id": "R_xxKIqKiz7M",
        "outputId": "39d45077-217f-4ee4-d3fc-e40dcdf6654f"
      },
      "execution_count": 38,
      "outputs": [
        {
          "output_type": "stream",
          "name": "stdout",
          "text": [
            "Opening http://uniform.wingzero.tw/school/album/tw/5/1...\n",
            "Opening http://uniform.wingzero.tw/school/album/tw/5/2...\n",
            "Opening http://uniform.wingzero.tw/school/album/tw/5/3...\n",
            "Opening http://uniform.wingzero.tw/school/album/tw/5/4...\n",
            "Opening http://uniform.wingzero.tw/school/album/tw/5/5...\n",
            "Opening http://uniform.wingzero.tw/school/album/tw/5/6...\n",
            "Opening http://uniform.wingzero.tw/school/album/tw/5/7...\n",
            "Opening http://uniform.wingzero.tw/school/album/tw/5/8...\n",
            "Opening http://uniform.wingzero.tw/school/album/tw/5/9...\n",
            "(1/135) Downloading: https://unimap.wingzero.tw/uniform/newtaipei/jjvs/17185800730_1_thumb.jpg --> /content/tw0005_私立莊敬高職/17185800730_1_thumb.jpg\n",
            "(2/135) Downloading: https://unimap.wingzero.tw/uniform/newtaipei/jjvs/17152864840_1.jpg --> /content/tw0005_私立莊敬高職/17152864840_1.jpg\n",
            "(3/135) Downloading: https://unimap.wingzero.tw/uniform/newtaipei/jjvs/17152862263_4_thumb.jpg --> /content/tw0005_私立莊敬高職/17152862263_4_thumb.jpg\n",
            "(4/135) Downloading: https://unimap.wingzero.tw/uniform/newtaipei/jjvs/17152862262_3_thumb.jpg --> /content/tw0005_私立莊敬高職/17152862262_3_thumb.jpg\n",
            "(5/135) Downloading: https://unimap.wingzero.tw/uniform/newtaipei/jjvs/17152862251_2_thumb.jpg --> /content/tw0005_私立莊敬高職/17152862251_2_thumb.jpg\n",
            "(6/135) Downloading: https://unimap.wingzero.tw/uniform/newtaipei/jjvs/17152862250_1_thumb.jpg --> /content/tw0005_私立莊敬高職/17152862250_1_thumb.jpg\n",
            "(7/135) Downloading: https://unimap.wingzero.tw/uniform/newtaipei/jjvs/17135993521_2.jpg --> /content/tw0005_私立莊敬高職/17135993521_2.jpg\n",
            "(8/135) Downloading: https://unimap.wingzero.tw/uniform/newtaipei/jjvs/17135993520_1.jpg --> /content/tw0005_私立莊敬高職/17135993520_1.jpg\n",
            "(9/135) Downloading: https://unimap.wingzero.tw/uniform/newtaipei/jjvs/17135988530_1_thumb.jpg --> /content/tw0005_私立莊敬高職/17135988530_1_thumb.jpg\n",
            "(10/135) Downloading: https://unimap.wingzero.tw/uniform/newtaipei/jjvs/17135986941_2_thumb.jpg --> /content/tw0005_私立莊敬高職/17135986941_2_thumb.jpg\n",
            "(11/135) Downloading: https://unimap.wingzero.tw/uniform/newtaipei/jjvs/17135986940_1_thumb.jpg --> /content/tw0005_私立莊敬高職/17135986940_1_thumb.jpg\n",
            "(12/135) Downloading: https://unimap.wingzero.tw/uniform/newtaipei/jjvs/17124607540_1.jpeg --> /content/tw0005_私立莊敬高職/17124607540_1.jpeg\n",
            "(13/135) Downloading: https://unimap.wingzero.tw/uniform/newtaipei/jjvs/17124605241_2.jpg --> /content/tw0005_私立莊敬高職/17124605241_2.jpg\n",
            "(14/135) Downloading: https://unimap.wingzero.tw/uniform/newtaipei/jjvs/17124605240_1.jpg --> /content/tw0005_私立莊敬高職/17124605240_1.jpg\n",
            "(15/135) Downloading: https://unimap.wingzero.tw/uniform/newtaipei/jjvs/16773895960_1.jpg --> /content/tw0005_私立莊敬高職/16773895960_1.jpg\n",
            "(16/135) Downloading: https://unimap.wingzero.tw/uniform/newtaipei/jjvs/16735081731_2.jpg --> /content/tw0005_私立莊敬高職/16735081731_2.jpg\n",
            "(17/135) Downloading: https://unimap.wingzero.tw/uniform/newtaipei/jjvs/16735081730_1.jpg --> /content/tw0005_私立莊敬高職/16735081730_1.jpg\n",
            "(18/135) Downloading: https://unimap.wingzero.tw/uniform/newtaipei/jjvs/16600897732_3.jpg --> /content/tw0005_私立莊敬高職/16600897732_3.jpg\n",
            "(19/135) Downloading: https://unimap.wingzero.tw/uniform/newtaipei/jjvs/16600897731_2.jpg --> /content/tw0005_私立莊敬高職/16600897731_2.jpg\n",
            "(20/135) Downloading: https://unimap.wingzero.tw/uniform/newtaipei/jjvs/16600897730_1.jpg --> /content/tw0005_私立莊敬高職/16600897730_1.jpg\n",
            "(21/135) Downloading: https://unimap.wingzero.tw/uniform/newtaipei/jjvs/16577457710_1.jpg --> /content/tw0005_私立莊敬高職/16577457710_1.jpg\n",
            "(22/135) Downloading: https://unimap.wingzero.tw/uniform/newtaipei/jjvs/16564614641_2.jpg --> /content/tw0005_私立莊敬高職/16564614641_2.jpg\n",
            "(23/135) Downloading: https://unimap.wingzero.tw/uniform/newtaipei/jjvs/16564614640_1.jpg --> /content/tw0005_私立莊敬高職/16564614640_1.jpg\n",
            "(24/135) Downloading: https://unimap.wingzero.tw/uniform/newtaipei/jjvs/16546512260_1.jpg --> /content/tw0005_私立莊敬高職/16546512260_1.jpg\n",
            "(25/135) Downloading: https://unimap.wingzero.tw/uniform/newtaipei/jjvs/16520805340_1.jpg --> /content/tw0005_私立莊敬高職/16520805340_1.jpg\n",
            "(26/135) Downloading: https://unimap.wingzero.tw/uniform/newtaipei/jjvs/16456233260_1.jpg --> /content/tw0005_私立莊敬高職/16456233260_1.jpg\n",
            "(27/135) Downloading: https://unimap.wingzero.tw/uniform/newtaipei/jjvs/16431183030_1.jpg --> /content/tw0005_私立莊敬高職/16431183030_1.jpg\n",
            "(28/135) Downloading: https://unimap.wingzero.tw/uniform/newtaipei/jjvs/16418164070_1.jpg --> /content/tw0005_私立莊敬高職/16418164070_1.jpg\n",
            "(29/135) Downloading: https://unimap.wingzero.tw/uniform/newtaipei/jjvs/16415498670_1.jpg --> /content/tw0005_私立莊敬高職/16415498670_1.jpg\n",
            "(30/135) Downloading: https://unimap.wingzero.tw/uniform/newtaipei/jjvs/16376286490_1.jpg --> /content/tw0005_私立莊敬高職/16376286490_1.jpg\n",
            "(31/135) Downloading: https://unimap.wingzero.tw/uniform/newtaipei/jjvs/16368963960_1.jpg --> /content/tw0005_私立莊敬高職/16368963960_1.jpg\n",
            "(32/135) Downloading: https://unimap.wingzero.tw/uniform/newtaipei/jjvs/16347794881_2.jpg --> /content/tw0005_私立莊敬高職/16347794881_2.jpg\n",
            "(33/135) Downloading: https://unimap.wingzero.tw/uniform/newtaipei/jjvs/16347794880_1.jpg --> /content/tw0005_私立莊敬高職/16347794880_1.jpg\n",
            "(34/135) Downloading: https://unimap.wingzero.tw/uniform/newtaipei/jjvs/15912946780_1.jpeg --> /content/tw0005_私立莊敬高職/15912946780_1.jpeg\n",
            "(35/135) Downloading: https://unimap.wingzero.tw/uniform/newtaipei/jjvs/15912945300_1.jpeg --> /content/tw0005_私立莊敬高職/15912945300_1.jpeg(36/135) Downloading: https://unimap.wingzero.tw/uniform/newtaipei/jjvs/15858446063_4_thumb.jpg --> /content/tw0005_私立莊敬高職/15858446063_4_thumb.jpg\n",
            "\n",
            "(37/135) Downloading: https://unimap.wingzero.tw/uniform/newtaipei/jjvs/15858446052_3_thumb.jpg --> /content/tw0005_私立莊敬高職/15858446052_3_thumb.jpg\n",
            "(38/135) Downloading: https://unimap.wingzero.tw/uniform/newtaipei/jjvs/15858446051_2_thumb.jpg --> /content/tw0005_私立莊敬高職/15858446051_2_thumb.jpg(39/135) Downloading: https://unimap.wingzero.tw/uniform/newtaipei/jjvs/15858446040_1_thumb.jpg --> /content/tw0005_私立莊敬高職/15858446040_1_thumb.jpg\n",
            "\n",
            "(40/135) Downloading: https://unimap.wingzero.tw/uniform/newtaipei/jjvs/15849700240_1_thumb.jpg --> /content/tw0005_私立莊敬高職/15849700240_1_thumb.jpg\n",
            "(41/135) Downloading: https://unimap.wingzero.tw/uniform/newtaipei/jjvs/15849699900_1_thumb.jpg --> /content/tw0005_私立莊敬高職/15849699900_1_thumb.jpg\n",
            "(42/135) Downloading: https://unimap.wingzero.tw/uniform/newtaipei/jjvs/15849699680_1_thumb.jpg --> /content/tw0005_私立莊敬高職/15849699680_1_thumb.jpg\n",
            "(43/135) Downloading: https://unimap.wingzero.tw/uniform/newtaipei/jjvs/15849699300_1_thumb.jpg --> /content/tw0005_私立莊敬高職/15849699300_1_thumb.jpg\n",
            "(44/135) Downloading: https://unimap.wingzero.tw/uniform/newtaipei/jjvs/15849699050_1_thumb.jpg --> /content/tw0005_私立莊敬高職/15849699050_1_thumb.jpg\n",
            "(45/135) Downloading: https://unimap.wingzero.tw/uniform/newtaipei/jjvs/15849698830_1_thumb.jpg --> /content/tw0005_私立莊敬高職/15849698830_1_thumb.jpg\n",
            "(46/135) Downloading: https://unimap.wingzero.tw/uniform/newtaipei/jjvs/15849698570_1_thumb.jpg --> /content/tw0005_私立莊敬高職/15849698570_1_thumb.jpg\n",
            "(47/135) Downloading: https://unimap.wingzero.tw/uniform/newtaipei/jjvs/15748312561_2.jpeg --> /content/tw0005_私立莊敬高職/15748312561_2.jpeg\n",
            "(48/135) Downloading: https://unimap.wingzero.tw/uniform/newtaipei/jjvs/15748312560_1.jpeg --> /content/tw0005_私立莊敬高職/15748312560_1.jpeg\n",
            "(49/135) Downloading: https://unimap.wingzero.tw/uniform/newtaipei/jjvs/15748301151_2.jpeg --> /content/tw0005_私立莊敬高職/15748301151_2.jpeg\n",
            "(50/135) Downloading: https://unimap.wingzero.tw/uniform/newtaipei/jjvs/15748301150_1.jpeg --> /content/tw0005_私立莊敬高職/15748301150_1.jpeg\n",
            "(51/135) Downloading: https://unimap.wingzero.tw/uniform/newtaipei/jjvs/15748080663_4.jpeg --> /content/tw0005_私立莊敬高職/15748080663_4.jpeg\n",
            "(52/135) Downloading: https://unimap.wingzero.tw/uniform/newtaipei/jjvs/15748080662_3.jpeg --> /content/tw0005_私立莊敬高職/15748080662_3.jpeg\n",
            "(53/135) Downloading: https://unimap.wingzero.tw/uniform/newtaipei/jjvs/15748080661_2.jpeg --> /content/tw0005_私立莊敬高職/15748080661_2.jpeg\n",
            "(54/135) Downloading: https://unimap.wingzero.tw/uniform/newtaipei/jjvs/15748080660_1.jpeg --> /content/tw0005_私立莊敬高職/15748080660_1.jpeg\n",
            "(55/135) Downloading: https://unimap.wingzero.tw/uniform/newtaipei/jjvs/15746648040_1.jpeg --> /content/tw0005_私立莊敬高職/15746648040_1.jpeg\n",
            "(56/135) Downloading: https://unimap.wingzero.tw/uniform/newtaipei/jjvs/15746635031_2.jpeg --> /content/tw0005_私立莊敬高職/15746635031_2.jpeg\n",
            "(57/135) Downloading: https://unimap.wingzero.tw/uniform/newtaipei/jjvs/15746635030_1.jpeg --> /content/tw0005_私立莊敬高職/15746635030_1.jpeg\n",
            "(58/135) Downloading: https://unimap.wingzero.tw/uniform/newtaipei/jjvs/15733709080_1.jpeg --> /content/tw0005_私立莊敬高職/15733709080_1.jpeg\n",
            "(59/135) Downloading: https://unimap.wingzero.tw/uniform/newtaipei/jjvs/15717205830_1.jpeg --> /content/tw0005_私立莊敬高職/15717205830_1.jpeg\n",
            "(60/135) Downloading: https://unimap.wingzero.tw/uniform/newtaipei/jjvs/15717205400_1.jpeg --> /content/tw0005_私立莊敬高職/15717205400_1.jpeg\n",
            "(61/135) Downloading: https://unimap.wingzero.tw/uniform/newtaipei/jjvs/15606790531_2.jpg --> /content/tw0005_私立莊敬高職/15606790531_2.jpg\n",
            "(62/135) Downloading: https://unimap.wingzero.tw/uniform/newtaipei/jjvs/15606790530_1.jpg --> /content/tw0005_私立莊敬高職/15606790530_1.jpg\n",
            "(63/135) Downloading: https://unimap.wingzero.tw/uniform/newtaipei/jjvs/15525777660_1.jpg --> /content/tw0005_私立莊敬高職/15525777660_1.jpg\n",
            "(64/135) Downloading: https://unimap.wingzero.tw/uniform/newtaipei/jjvs/15525694580_1.jpg --> /content/tw0005_私立莊敬高職/15525694580_1.jpg\n",
            "(65/135) Downloading: https://unimap.wingzero.tw/uniform/newtaipei/jjvs/15525670820_1.jpg --> /content/tw0005_私立莊敬高職/15525670820_1.jpg\n",
            "(66/135) Downloading: https://unimap.wingzero.tw/uniform/newtaipei/jjvs/w_a2_350_15328022546_7_thumb.JPG --> /content/tw0005_私立莊敬高職/w_a2_350_15328022546_7_thumb.JPG\n",
            "(67/135) Downloading: https://unimap.wingzero.tw/uniform/newtaipei/jjvs/w_a2_350_15328022535_6_thumb.JPG --> /content/tw0005_私立莊敬高職/w_a2_350_15328022535_6_thumb.JPG\n",
            "(68/135) Downloading: https://unimap.wingzero.tw/uniform/newtaipei/jjvs/w_a2_350_15328022514_5_thumb.JPG --> /content/tw0005_私立莊敬高職/w_a2_350_15328022514_5_thumb.JPG\n",
            "(69/135) Downloading: https://unimap.wingzero.tw/uniform/newtaipei/jjvs/w_a2_350_15328022493_4_thumb.JPG --> /content/tw0005_私立莊敬高職/w_a2_350_15328022493_4_thumb.JPG\n",
            "(70/135) Downloading: https://unimap.wingzero.tw/uniform/newtaipei/jjvs/w_a2_350_15328022472_3_thumb.JPG --> /content/tw0005_私立莊敬高職/w_a2_350_15328022472_3_thumb.JPG\n",
            "(71/135) Downloading: https://unimap.wingzero.tw/uniform/newtaipei/jjvs/w_a2_350_15328022451_2_thumb.JPG --> /content/tw0005_私立莊敬高職/w_a2_350_15328022451_2_thumb.JPG\n",
            "(72/135) Downloading: https://unimap.wingzero.tw/uniform/newtaipei/jjvs/w_a2_350_15328022430_1_thumb.JPG --> /content/tw0005_私立莊敬高職/w_a2_350_15328022430_1_thumb.JPG\n",
            "(73/135) Downloading: https://unimap.wingzero.tw/uniform/newtaipei/jjvs/w_a2_257_15319132840_1_thumb.png --> /content/tw0005_私立莊敬高職/w_a2_257_15319132840_1_thumb.png\n",
            "(74/135) Downloading: https://unimap.wingzero.tw/uniform/newtaipei/jjvs/w_a2_102_15295708152_3_thumb.jpg --> /content/tw0005_私立莊敬高職/w_a2_102_15295708152_3_thumb.jpg\n",
            "(75/135) Downloading: https://unimap.wingzero.tw/uniform/newtaipei/jjvs/w_a2_102_15295708141_2_thumb.jpg --> /content/tw0005_私立莊敬高職/w_a2_102_15295708141_2_thumb.jpg\n",
            "(76/135) Downloading: https://unimap.wingzero.tw/uniform/newtaipei/jjvs/w_a2_102_15295708130_1_thumb.jpg --> /content/tw0005_私立莊敬高職/w_a2_102_15295708130_1_thumb.jpg\n",
            "(77/135) Downloading: https://unimap.wingzero.tw/uniform/newtaipei/jjvs/15078624054_5.jpg --> /content/tw0005_私立莊敬高職/15078624054_5.jpg\n",
            "(78/135) Downloading: https://unimap.wingzero.tw/uniform/newtaipei/jjvs/15078624053_4.jpg --> /content/tw0005_私立莊敬高職/15078624053_4.jpg\n",
            "(79/135) Downloading: https://unimap.wingzero.tw/uniform/newtaipei/jjvs/15078624052_3.jpg --> /content/tw0005_私立莊敬高職/15078624052_3.jpg\n",
            "(80/135) Downloading: https://unimap.wingzero.tw/uniform/newtaipei/jjvs/15078624051_2.jpg --> /content/tw0005_私立莊敬高職/15078624051_2.jpg\n",
            "(81/135) Downloading: https://unimap.wingzero.tw/uniform/newtaipei/jjvs/15078624050_1.jpg --> /content/tw0005_私立莊敬高職/15078624050_1.jpg\n",
            "(82/135) Downloading: https://unimap.wingzero.tw/uniform/newtaipei/jjvs/15078622772_3.jpg --> /content/tw0005_私立莊敬高職/15078622772_3.jpg\n",
            "(83/135) Downloading: https://unimap.wingzero.tw/uniform/newtaipei/jjvs/15078622771_2.jpg --> /content/tw0005_私立莊敬高職/15078622771_2.jpg\n",
            "(84/135) Downloading: https://unimap.wingzero.tw/uniform/newtaipei/jjvs/15078622770_1.jpg --> /content/tw0005_私立莊敬高職/15078622770_1.jpg\n",
            "(85/135) Downloading: https://unimap.wingzero.tw/uniform/newtaipei/jjvs/15066435930_1.jpg --> /content/tw0005_私立莊敬高職/15066435930_1.jpg\n",
            "(86/135) Downloading: https://unimap.wingzero.tw/uniform/newtaipei/jjvs/14995691400_1_thumb.jpg --> /content/tw0005_私立莊敬高職/14995691400_1_thumb.jpg\n",
            "(87/135) Downloading: https://unimap.wingzero.tw/uniform/newtaipei/jjvs/14992701420_1.JPG --> /content/tw0005_私立莊敬高職/14992701420_1.JPG\n",
            "(88/135) Downloading: https://unimap.wingzero.tw/uniform/newtaipei/jjvs/14918938210_1_thumb.JPG --> /content/tw0005_私立莊敬高職/14918938210_1_thumb.JPG\n",
            "(89/135) Downloading: https://unimap.wingzero.tw/uniform/newtaipei/jjvs/14905323310_1.jpg --> /content/tw0005_私立莊敬高職/14905323310_1.jpg\n",
            "(90/135) Downloading: https://unimap.wingzero.tw/uniform/newtaipei/jjvs/14904558360_1.jpg --> /content/tw0005_私立莊敬高職/14904558360_1.jpg\n",
            "(91/135) Downloading: https://unimap.wingzero.tw/uniform/newtaipei/jjvs/14904525320_1.jpg --> /content/tw0005_私立莊敬高職/14904525320_1.jpg\n",
            "(92/135) Downloading: https://unimap.wingzero.tw/uniform/newtaipei/jjvs/14901111256_7.jpg --> /content/tw0005_私立莊敬高職/14901111256_7.jpg\n",
            "(93/135) Downloading: https://unimap.wingzero.tw/uniform/newtaipei/jjvs/14901111255_6.jpg --> /content/tw0005_私立莊敬高職/14901111255_6.jpg\n",
            "(94/135) Downloading: https://unimap.wingzero.tw/uniform/newtaipei/jjvs/14901111244_5.jpg --> /content/tw0005_私立莊敬高職/14901111244_5.jpg\n",
            "(95/135) Downloading: https://unimap.wingzero.tw/uniform/newtaipei/jjvs/14901111243_4.jpg --> /content/tw0005_私立莊敬高職/14901111243_4.jpg\n",
            "(96/135) Downloading: https://unimap.wingzero.tw/uniform/newtaipei/jjvs/14901111232_3.jpg --> /content/tw0005_私立莊敬高職/14901111232_3.jpg\n",
            "(97/135) Downloading: https://unimap.wingzero.tw/uniform/newtaipei/jjvs/14901111231_2.jpg --> /content/tw0005_私立莊敬高職/14901111231_2.jpg\n",
            "(98/135) Downloading: https://unimap.wingzero.tw/uniform/newtaipei/jjvs/14901111220_1.jpg --> /content/tw0005_私立莊敬高職/14901111220_1.jpg\n",
            "(99/135) Downloading: https://unimap.wingzero.tw/uniform/newtaipei/jjvs/14901080442_3_thumb.JPG --> /content/tw0005_私立莊敬高職/14901080442_3_thumb.JPG\n",
            "(100/135) Downloading: https://unimap.wingzero.tw/uniform/newtaipei/jjvs/14901080421_2_thumb.JPG --> /content/tw0005_私立莊敬高職/14901080421_2_thumb.JPG\n",
            "(101/135) Downloading: https://unimap.wingzero.tw/uniform/newtaipei/jjvs/14901080410_1_thumb.JPG --> /content/tw0005_私立莊敬高職/14901080410_1_thumb.JPG\n",
            "(102/135) Downloading: https://unimap.wingzero.tw/uniform/newtaipei/jjvs/14730628980_1.jpg --> /content/tw0005_私立莊敬高職/14730628980_1.jpg\n",
            "(103/135) Downloading: https://unimap.wingzero.tw/uniform/newtaipei/jjvs/14648804701_2.jpg --> /content/tw0005_私立莊敬高職/14648804701_2.jpg\n",
            "(104/135) Downloading: https://unimap.wingzero.tw/uniform/newtaipei/jjvs/14648804700_1.jpg --> /content/tw0005_私立莊敬高職/14648804700_1.jpg\n",
            "(105/135) Downloading: https://unimap.wingzero.tw/uniform/newtaipei/jjvs/14600440030_1.jpg --> /content/tw0005_私立莊敬高職/14600440030_1.jpg\n",
            "(106/135) Downloading: https://unimap.wingzero.tw/uniform/newtaipei/jjvs/4bd3a33f25311ad7cd192f75ecfd2e50.jpg --> /content/tw0005_私立莊敬高職/4bd3a33f25311ad7cd192f75ecfd2e50.jpg\n",
            "(107/135) Downloading: https://unimap.wingzero.tw/uniform/newtaipei/jjvs/d17064daee125be468372a9accbcbf1c.jpg --> /content/tw0005_私立莊敬高職/d17064daee125be468372a9accbcbf1c.jpg\n",
            "(108/135) Downloading: https://unimap.wingzero.tw/uniform/newtaipei/jjvs/e717ad6fa17b60096c8d0986eac35b0c.jpg --> /content/tw0005_私立莊敬高職/e717ad6fa17b60096c8d0986eac35b0c.jpg\n",
            "(109/135) Downloading: https://unimap.wingzero.tw/uniform/newtaipei/jjvs/362dc1924714059a5d85bad00ff8e8af.jpg --> /content/tw0005_私立莊敬高職/362dc1924714059a5d85bad00ff8e8af.jpg(110/135) Downloading: https://unimap.wingzero.tw/uniform/newtaipei/jjvs/3c93ffe444c3cca2e5e0a770ad8b0b28.jpg --> /content/tw0005_私立莊敬高職/3c93ffe444c3cca2e5e0a770ad8b0b28.jpg\n",
            "\n",
            "(111/135) Downloading: https://unimap.wingzero.tw/uniform/newtaipei/jjvs/25e7433ce4a174eaaccc56ca2effecb6.jpg --> /content/tw0005_私立莊敬高職/25e7433ce4a174eaaccc56ca2effecb6.jpg\n",
            "(112/135) Downloading: https://unimap.wingzero.tw/uniform/newtaipei/jjvs/4d8cdab0175a28fe1142afb780d8230d.jpg --> /content/tw0005_私立莊敬高職/4d8cdab0175a28fe1142afb780d8230d.jpg\n",
            "(113/135) Downloading: https://unimap.wingzero.tw/uniform/newtaipei/jjvs/048f66485bc2df5439d0d7b6a1703d08.jpg --> /content/tw0005_私立莊敬高職/048f66485bc2df5439d0d7b6a1703d08.jpg\n",
            "(114/135) Downloading: https://unimap.wingzero.tw/uniform/newtaipei/jjvs/bb48db6ed33e0682cb8ad0eea97aecfe.jpg --> /content/tw0005_私立莊敬高職/bb48db6ed33e0682cb8ad0eea97aecfe.jpg\n",
            "(115/135) Downloading: https://unimap.wingzero.tw/uniform/newtaipei/jjvs/caf347253b0b8148742a06aae94a7db5.jpg --> /content/tw0005_私立莊敬高職/caf347253b0b8148742a06aae94a7db5.jpg\n",
            "(116/135) Downloading: https://unimap.wingzero.tw/uniform/newtaipei/jjvs/727e8f365a227c78716aac8b144846ed.jpg --> /content/tw0005_私立莊敬高職/727e8f365a227c78716aac8b144846ed.jpg\n",
            "(117/135) Downloading: https://unimap.wingzero.tw/uniform/newtaipei/jjvs/e8de700d2476fa2279a45fce0c131372.jpg --> /content/tw0005_私立莊敬高職/e8de700d2476fa2279a45fce0c131372.jpg\n",
            "(118/135) Downloading: https://unimap.wingzero.tw/uniform/newtaipei/jjvs/7b9cfb843e318abab571857e9cfcd701.jpg --> /content/tw0005_私立莊敬高職/7b9cfb843e318abab571857e9cfcd701.jpg\n",
            "(119/135) Downloading: https://unimap.wingzero.tw/uniform/newtaipei/jjvs/d5ecaf6ec88aa6a51a9ec156efe43b07.jpg --> /content/tw0005_私立莊敬高職/d5ecaf6ec88aa6a51a9ec156efe43b07.jpg(120/135) Downloading: https://unimap.wingzero.tw/uniform/newtaipei/jjvs/99a68365f9293914825cebd4382f1a83.jpg --> /content/tw0005_私立莊敬高職/99a68365f9293914825cebd4382f1a83.jpg\n",
            "\n",
            "(121/135) Downloading: https://unimap.wingzero.tw/uniform/newtaipei/jjvs/5c77fb6581e81ecd6ecb267d76d1c7fc.jpg --> /content/tw0005_私立莊敬高職/5c77fb6581e81ecd6ecb267d76d1c7fc.jpg\n",
            "(122/135) Downloading: https://unimap.wingzero.tw/uniform/newtaipei/jjvs/a3ad999239f78255060988377d78319a.jpg --> /content/tw0005_私立莊敬高職/a3ad999239f78255060988377d78319a.jpg\n",
            "(123/135) Downloading: https://unimap.wingzero.tw/uniform/newtaipei/jjvs/3f6e73b18dec694f2fa9ca0d04e8c1a8.jpg --> /content/tw0005_私立莊敬高職/3f6e73b18dec694f2fa9ca0d04e8c1a8.jpg\n",
            "(124/135) Downloading: https://unimap.wingzero.tw/uniform/newtaipei/jjvs/3cc997e4e794f984d33581cb73948ad9.jpg --> /content/tw0005_私立莊敬高職/3cc997e4e794f984d33581cb73948ad9.jpg\n",
            "(125/135) Downloading: https://unimap.wingzero.tw/uniform/newtaipei/jjvs/e7cb40910cd725593f5fcc024608623e.jpg --> /content/tw0005_私立莊敬高職/e7cb40910cd725593f5fcc024608623e.jpg\n",
            "(126/135) Downloading: https://unimap.wingzero.tw/uniform/newtaipei/jjvs/8d283d0d93322870e1b0c6d408339167.jpg --> /content/tw0005_私立莊敬高職/8d283d0d93322870e1b0c6d408339167.jpg\n",
            "(127/135) Downloading: https://unimap.wingzero.tw/uniform/newtaipei/jjvs/a0151de9ac25b9c69809d7572213653e.jpg --> /content/tw0005_私立莊敬高職/a0151de9ac25b9c69809d7572213653e.jpg\n",
            "(128/135) Downloading: https://unimap.wingzero.tw/uniform/newtaipei/jjvs/3c3973472d4d984f583a7a3bc2d19c8b.jpg --> /content/tw0005_私立莊敬高職/3c3973472d4d984f583a7a3bc2d19c8b.jpg(129/135) Downloading: https://unimap.wingzero.tw/uniform/newtaipei/jjvs/1b3e715c562f00abc1187f1bfe052bd8.jpg --> /content/tw0005_私立莊敬高職/1b3e715c562f00abc1187f1bfe052bd8.jpg\n",
            "\n",
            "(130/135) Downloading: https://unimap.wingzero.tw/uniform/newtaipei/jjvs/676c479f133b30b63adc8bb83d09bc4c.jpg --> /content/tw0005_私立莊敬高職/676c479f133b30b63adc8bb83d09bc4c.jpg\n",
            "(131/135) Downloading: https://unimap.wingzero.tw/uniform/newtaipei/jjvs/6dfa81fb1651872f5c1d2c9e25593e54.jpg --> /content/tw0005_私立莊敬高職/6dfa81fb1651872f5c1d2c9e25593e54.jpg\n",
            "(132/135) Downloading: https://unimap.wingzero.tw/uniform/newtaipei/jjvs/fd8747db7184cfb754c0cf46a601f1d4.jpg --> /content/tw0005_私立莊敬高職/fd8747db7184cfb754c0cf46a601f1d4.jpg\n",
            "(133/135) Downloading: https://unimap.wingzero.tw/uniform/newtaipei/jjvs/f9b088185187eaca3caa364bd8dde08d.jpg --> /content/tw0005_私立莊敬高職/f9b088185187eaca3caa364bd8dde08d.jpg\n",
            "(134/135) Downloading: https://unimap.wingzero.tw/uniform/newtaipei/jjvs/13fec5e3d51c130ad454b3c764f0521c.jpg --> /content/tw0005_私立莊敬高職/13fec5e3d51c130ad454b3c764f0521c.jpg\n",
            "(135/135) Downloading: https://unimap.wingzero.tw/uniform/newtaipei/jjvs/8f166869bfc61c202636b5efce558430.jpg --> /content/tw0005_私立莊敬高職/8f166869bfc61c202636b5efce558430.jpgOpening http://uniform.wingzero.tw/school/album/tw/326/1...\n",
            "\n",
            "Opening http://uniform.wingzero.tw/school/album/tw/326/2...\n",
            "Opening http://uniform.wingzero.tw/school/album/tw/326/3...\n",
            "Opening http://uniform.wingzero.tw/school/album/tw/326/4...\n",
            "Opening http://uniform.wingzero.tw/school/album/tw/326/5...\n",
            "Opening http://uniform.wingzero.tw/school/album/tw/326/6...\n",
            "No image found on http://uniform.wingzero.tw/school/album/tw/326/6. \n",
            "Stop fetching pages.\n",
            "(1/69) Downloading: https://unimap.wingzero.tw/uniform/newtaipei/nrvs/17014145322_3.jpg --> /content/tw0326_私立能仁家商/17014145322_3.jpg(2/69) Downloading: https://unimap.wingzero.tw/uniform/newtaipei/nrvs/17014145321_2.jpg --> /content/tw0326_私立能仁家商/17014145321_2.jpg\n",
            "\n",
            "(3/69) Downloading: https://unimap.wingzero.tw/uniform/newtaipei/nrvs/17014145320_1.jpg --> /content/tw0326_私立能仁家商/17014145320_1.jpg\n",
            "(4/69) Downloading: https://unimap.wingzero.tw/uniform/newtaipei/nrvs/16721884933_4.jpg --> /content/tw0326_私立能仁家商/16721884933_4.jpg\n",
            "(5/69) Downloading: https://unimap.wingzero.tw/uniform/newtaipei/nrvs/16721884932_3.jpg --> /content/tw0326_私立能仁家商/16721884932_3.jpg\n",
            "(6/69) Downloading: https://unimap.wingzero.tw/uniform/newtaipei/nrvs/16721884931_2.jpg --> /content/tw0326_私立能仁家商/16721884931_2.jpg\n",
            "(7/69) Downloading: https://unimap.wingzero.tw/uniform/newtaipei/nrvs/16721884930_1.jpg --> /content/tw0326_私立能仁家商/16721884930_1.jpg\n",
            "(8/69) Downloading: https://unimap.wingzero.tw/uniform/newtaipei/nrvs/16656230931_2.jpg --> /content/tw0326_私立能仁家商/16656230931_2.jpg\n",
            "(9/69) Downloading: https://unimap.wingzero.tw/uniform/newtaipei/nrvs/16656230930_1.jpg --> /content/tw0326_私立能仁家商/16656230930_1.jpg\n",
            "(10/69) Downloading: https://unimap.wingzero.tw/uniform/newtaipei/nrvs/16621903420_1.jpg --> /content/tw0326_私立能仁家商/16621903420_1.jpg\n",
            "(11/69) Downloading: https://unimap.wingzero.tw/uniform/newtaipei/nrvs/16182065912_3_thumb.jpg --> /content/tw0326_私立能仁家商/16182065912_3_thumb.jpg\n",
            "(12/69) Downloading: https://unimap.wingzero.tw/uniform/newtaipei/nrvs/16182065901_2_thumb.jpg --> /content/tw0326_私立能仁家商/16182065901_2_thumb.jpg\n",
            "(13/69) Downloading: https://unimap.wingzero.tw/uniform/newtaipei/nrvs/16182065890_1_thumb.jpg --> /content/tw0326_私立能仁家商/16182065890_1_thumb.jpg\n",
            "(14/69) Downloading: https://unimap.wingzero.tw/uniform/newtaipei/nrvs/15570687560_1.jpg --> /content/tw0326_私立能仁家商/15570687560_1.jpg\n",
            "(15/69) Downloading: https://unimap.wingzero.tw/uniform/newtaipei/nrvs/15528320200_1.jpg --> /content/tw0326_私立能仁家商/15528320200_1.jpg\n",
            "(16/69) Downloading: https://unimap.wingzero.tw/uniform/newtaipei/nrvs/15519554431_2.jpg --> /content/tw0326_私立能仁家商/15519554431_2.jpg\n",
            "(17/69) Downloading: https://unimap.wingzero.tw/uniform/newtaipei/nrvs/15519554430_1.jpg --> /content/tw0326_私立能仁家商/15519554430_1.jpg\n",
            "(18/69) Downloading: https://unimap.wingzero.tw/uniform/newtaipei/nrvs/15375816310_1_thumb.jpg --> /content/tw0326_私立能仁家商/15375816310_1_thumb.jpg\n",
            "(19/69) Downloading: https://unimap.wingzero.tw/uniform/newtaipei/nrvs/15375811750_1_thumb.jpg --> /content/tw0326_私立能仁家商/15375811750_1_thumb.jpg\n",
            "(20/69) Downloading: https://unimap.wingzero.tw/uniform/newtaipei/nrvs/15108381414_5.JPG --> /content/tw0326_私立能仁家商/15108381414_5.JPG\n",
            "(21/69) Downloading: https://unimap.wingzero.tw/uniform/newtaipei/nrvs/15108381413_4.JPG --> /content/tw0326_私立能仁家商/15108381413_4.JPG\n",
            "(22/69) Downloading: https://unimap.wingzero.tw/uniform/newtaipei/nrvs/15108381412_3.JPG --> /content/tw0326_私立能仁家商/15108381412_3.JPG\n",
            "(23/69) Downloading: https://unimap.wingzero.tw/uniform/newtaipei/nrvs/15108381411_2.JPG --> /content/tw0326_私立能仁家商/15108381411_2.JPG(24/69) Downloading: https://unimap.wingzero.tw/uniform/newtaipei/nrvs/15108381410_1.JPG --> /content/tw0326_私立能仁家商/15108381410_1.JPG\n",
            "\n",
            "(25/69) Downloading: https://unimap.wingzero.tw/uniform/newtaipei/nrvs/15017592243_4.JPG --> /content/tw0326_私立能仁家商/15017592243_4.JPG\n",
            "(26/69) Downloading: https://unimap.wingzero.tw/uniform/newtaipei/nrvs/15017592242_3.JPG --> /content/tw0326_私立能仁家商/15017592242_3.JPG\n",
            "(27/69) Downloading: https://unimap.wingzero.tw/uniform/newtaipei/nrvs/15017592241_2.JPG --> /content/tw0326_私立能仁家商/15017592241_2.JPG(28/69) Downloading: https://unimap.wingzero.tw/uniform/newtaipei/nrvs/15017592240_1.JPG --> /content/tw0326_私立能仁家商/15017592240_1.JPG\n",
            "\n",
            "(29/69) Downloading: https://unimap.wingzero.tw/uniform/newtaipei/nrvs/14891679990_1.jpg --> /content/tw0326_私立能仁家商/14891679990_1.jpg\n",
            "(30/69) Downloading: https://unimap.wingzero.tw/uniform/newtaipei/nrvs/14847430523_4.jpg --> /content/tw0326_私立能仁家商/14847430523_4.jpg\n",
            "(31/69) Downloading: https://unimap.wingzero.tw/uniform/newtaipei/nrvs/14847430522_3.jpg --> /content/tw0326_私立能仁家商/14847430522_3.jpg\n",
            "(32/69) Downloading: https://unimap.wingzero.tw/uniform/newtaipei/nrvs/14847430521_2.jpg --> /content/tw0326_私立能仁家商/14847430521_2.jpg\n",
            "(33/69) Downloading: https://unimap.wingzero.tw/uniform/newtaipei/nrvs/14847430520_1.jpg --> /content/tw0326_私立能仁家商/14847430520_1.jpg\n",
            "(34/69) Downloading: https://unimap.wingzero.tw/uniform/newtaipei/nrvs/14837977020_1.jpg --> /content/tw0326_私立能仁家商/14837977020_1.jpg\n",
            "(35/69) Downloading: https://unimap.wingzero.tw/uniform/newtaipei/nrvs/14756838400_1.jpg --> /content/tw0326_私立能仁家商/14756838400_1.jpg\n",
            "(36/69) Downloading: https://unimap.wingzero.tw/uniform/newtaipei/nrvs/5d2c271ed5ec0ef40e6ac638a8cf500c.jpg --> /content/tw0326_私立能仁家商/5d2c271ed5ec0ef40e6ac638a8cf500c.jpg\n",
            "(37/69) Downloading: https://unimap.wingzero.tw/uniform/newtaipei/nrvs/95ec7424b366003dc41f49bd82dfbbd2.jpg --> /content/tw0326_私立能仁家商/95ec7424b366003dc41f49bd82dfbbd2.jpg\n",
            "(38/69) Downloading: https://unimap.wingzero.tw/uniform/newtaipei/nrvs/f508081498b0ed357705fefab4b00440.jpg --> /content/tw0326_私立能仁家商/f508081498b0ed357705fefab4b00440.jpg\n",
            "(39/69) Downloading: https://unimap.wingzero.tw/uniform/newtaipei/nrvs/8267600307d59ccf273bd58fee63a4b8.jpg --> /content/tw0326_私立能仁家商/8267600307d59ccf273bd58fee63a4b8.jpg\n",
            "(40/69) Downloading: https://unimap.wingzero.tw/uniform/newtaipei/nrvs/e25c94ef27dc7758574b3abb0054cd2a.jpg --> /content/tw0326_私立能仁家商/e25c94ef27dc7758574b3abb0054cd2a.jpg\n",
            "(41/69) Downloading: https://unimap.wingzero.tw/uniform/newtaipei/nrvs/9f0ed130eddc1170b7688a07b0b5e709.jpg --> /content/tw0326_私立能仁家商/9f0ed130eddc1170b7688a07b0b5e709.jpg\n",
            "(42/69) Downloading: https://unimap.wingzero.tw/uniform/newtaipei/nrvs/119de036b6664bd3febbf0e2806dae3d.jpg --> /content/tw0326_私立能仁家商/119de036b6664bd3febbf0e2806dae3d.jpg\n",
            "(43/69) Downloading: https://unimap.wingzero.tw/uniform/newtaipei/nrvs/4d2aecbd699f4662e31c01f9c3c2417f.jpg --> /content/tw0326_私立能仁家商/4d2aecbd699f4662e31c01f9c3c2417f.jpg\n",
            "(44/69) Downloading: https://unimap.wingzero.tw/uniform/newtaipei/nrvs/ec604f6adc68fcc1110ca497ceb36eb7.jpg --> /content/tw0326_私立能仁家商/ec604f6adc68fcc1110ca497ceb36eb7.jpg\n",
            "(45/69) Downloading: https://unimap.wingzero.tw/uniform/newtaipei/nrvs/6e066aac1ae32068335fff1680e9d681.jpg --> /content/tw0326_私立能仁家商/6e066aac1ae32068335fff1680e9d681.jpg\n",
            "(46/69) Downloading: https://unimap.wingzero.tw/uniform/newtaipei/nrvs/e61ab8b0965e7f090b734660840d5c4c.jpg --> /content/tw0326_私立能仁家商/e61ab8b0965e7f090b734660840d5c4c.jpg\n",
            "(47/69) Downloading: https://unimap.wingzero.tw/uniform/newtaipei/nrvs/05274af065c8b538b6352196c03232e8.jpg --> /content/tw0326_私立能仁家商/05274af065c8b538b6352196c03232e8.jpg\n",
            "(48/69) Downloading: https://unimap.wingzero.tw/uniform/newtaipei/nrvs/1f518321170597874779a3b580ce28b9.jpg --> /content/tw0326_私立能仁家商/1f518321170597874779a3b580ce28b9.jpg\n",
            "(49/69) Downloading: https://unimap.wingzero.tw/uniform/newtaipei/nrvs/d62f7458543f3be22bf20b342cc6c740.jpg --> /content/tw0326_私立能仁家商/d62f7458543f3be22bf20b342cc6c740.jpg\n",
            "(50/69) Downloading: https://unimap.wingzero.tw/uniform/newtaipei/nrvs/5ceda8b8ad8d26dfce3b92224babe3a8.jpg --> /content/tw0326_私立能仁家商/5ceda8b8ad8d26dfce3b92224babe3a8.jpg\n",
            "(51/69) Downloading: https://unimap.wingzero.tw/uniform/newtaipei/nrvs/2486bdc63d6962bcb0208489ee58a094.jpg --> /content/tw0326_私立能仁家商/2486bdc63d6962bcb0208489ee58a094.jpg\n",
            "(52/69) Downloading: https://unimap.wingzero.tw/uniform/newtaipei/nrvs/38cf6022274b84ef4bad06e3b75d5497.jpg --> /content/tw0326_私立能仁家商/38cf6022274b84ef4bad06e3b75d5497.jpg\n",
            "(53/69) Downloading: https://unimap.wingzero.tw/uniform/newtaipei/nrvs/dbbeaf50b33df3f58197459bccce5e50.jpg --> /content/tw0326_私立能仁家商/dbbeaf50b33df3f58197459bccce5e50.jpg\n",
            "(54/69) Downloading: https://unimap.wingzero.tw/uniform/newtaipei/nrvs/622b73f5087e05942d64bc71f75901e5.jpg --> /content/tw0326_私立能仁家商/622b73f5087e05942d64bc71f75901e5.jpg\n",
            "(55/69) Downloading: https://unimap.wingzero.tw/uniform/newtaipei/nrvs/bb358b1252351f43cbe1d228fe5dbfab.jpg --> /content/tw0326_私立能仁家商/bb358b1252351f43cbe1d228fe5dbfab.jpg\n",
            "(56/69) Downloading: https://unimap.wingzero.tw/uniform/newtaipei/nrvs/0cc221c4b2f6d609bca00c0745f27b16.jpg --> /content/tw0326_私立能仁家商/0cc221c4b2f6d609bca00c0745f27b16.jpg\n",
            "(57/69) Downloading: https://unimap.wingzero.tw/uniform/newtaipei/nrvs/5f6bae2547e98f650687fc44768c7891.jpg --> /content/tw0326_私立能仁家商/5f6bae2547e98f650687fc44768c7891.jpg\n",
            "(58/69) Downloading: https://unimap.wingzero.tw/uniform/newtaipei/nrvs/16680ff7446ec36a1ea18021e64d9560.jpg --> /content/tw0326_私立能仁家商/16680ff7446ec36a1ea18021e64d9560.jpg\n",
            "(59/69) Downloading: https://unimap.wingzero.tw/uniform/newtaipei/nrvs/61a93454e3a5bfe07e766d2281d5c6f6.jpg --> /content/tw0326_私立能仁家商/61a93454e3a5bfe07e766d2281d5c6f6.jpg\n",
            "(60/69) Downloading: https://unimap.wingzero.tw/uniform/newtaipei/nrvs/906e69e1e6c1872a60e63f8723f107b4.jpg --> /content/tw0326_私立能仁家商/906e69e1e6c1872a60e63f8723f107b4.jpg\n",
            "(61/69) Downloading: https://unimap.wingzero.tw/uniform/newtaipei/nrvs/a84f49d368614b409540995a7a9e30b1.jpg --> /content/tw0326_私立能仁家商/a84f49d368614b409540995a7a9e30b1.jpg\n",
            "(62/69) Downloading: https://unimap.wingzero.tw/uniform/newtaipei/nrvs/ee04a23d9ec80301dc7b2a5899dbdb7a.jpg --> /content/tw0326_私立能仁家商/ee04a23d9ec80301dc7b2a5899dbdb7a.jpg\n",
            "(63/69) Downloading: https://unimap.wingzero.tw/uniform/newtaipei/nrvs/69d2e7d4d1151fdeb4d89e8353b0c4c6.jpg --> /content/tw0326_私立能仁家商/69d2e7d4d1151fdeb4d89e8353b0c4c6.jpg\n",
            "(64/69) Downloading: https://unimap.wingzero.tw/uniform/newtaipei/nrvs/1b9bb3967cbbbf082a860d14cd028153.jpg --> /content/tw0326_私立能仁家商/1b9bb3967cbbbf082a860d14cd028153.jpg\n",
            "(65/69) Downloading: https://unimap.wingzero.tw/uniform/newtaipei/nrvs/57ddb530164a6af9e7578b912ed6b400.jpg --> /content/tw0326_私立能仁家商/57ddb530164a6af9e7578b912ed6b400.jpg\n",
            "(66/69) Downloading: https://unimap.wingzero.tw/uniform/newtaipei/nrvs/10511583_314778818695479_3840040031633050931_o.jpg --> /content/tw0326_私立能仁家商/10511583_314778818695479_3840040031633050931_o.jpg\n",
            "(67/69) Downloading: https://unimap.wingzero.tw/uniform/newtaipei/nrvs/10479356_314778932028801_3524173283108596416_o.jpg --> /content/tw0326_私立能仁家商/10479356_314778932028801_3524173283108596416_o.jpg\n",
            "(68/69) Downloading: https://unimap.wingzero.tw/uniform/newtaipei/nrvs/b001.jpg --> /content/tw0326_私立能仁家商/b001.jpg\n",
            "(69/69) Downloading: https://unimap.wingzero.tw/uniform/newtaipei/nrvs/1364453025-1013357230_b.jpg --> /content/tw0326_私立能仁家商/1364453025-1013357230_b.jpgOpening http://uniform.wingzero.tw/school/album/tw/322/1...\n",
            "\n",
            "Opening http://uniform.wingzero.tw/school/album/tw/322/2...\n",
            "Opening http://uniform.wingzero.tw/school/album/tw/322/3...\n",
            "Opening http://uniform.wingzero.tw/school/album/tw/322/4...\n",
            "Opening http://uniform.wingzero.tw/school/album/tw/322/5...\n",
            "Opening http://uniform.wingzero.tw/school/album/tw/322/6...\n",
            "Opening http://uniform.wingzero.tw/school/album/tw/322/7...\n",
            "Opening http://uniform.wingzero.tw/school/album/tw/322/8...\n",
            "Opening http://uniform.wingzero.tw/school/album/tw/322/9...\n",
            "(1/135) Downloading: https://unimap.wingzero.tw/uniform/newtaipei/kpvs/16583711003_4.jpg --> /content/tw0322_私立穀保家商/16583711003_4.jpg(2/135) Downloading: https://unimap.wingzero.tw/uniform/newtaipei/kpvs/16583711002_3.jpg --> /content/tw0322_私立穀保家商/16583711002_3.jpg\n",
            "\n",
            "(3/135) Downloading: https://unimap.wingzero.tw/uniform/newtaipei/kpvs/16583711001_2.jpg --> /content/tw0322_私立穀保家商/16583711001_2.jpg\n",
            "(4/135) Downloading: https://unimap.wingzero.tw/uniform/newtaipei/kpvs/16583711000_1.jpg --> /content/tw0322_私立穀保家商/16583711000_1.jpg\n",
            "(5/135) Downloading: https://unimap.wingzero.tw/uniform/newtaipei/kpvs/16504650301_2.jpg --> /content/tw0322_私立穀保家商/16504650301_2.jpg\n",
            "(6/135) Downloading: https://unimap.wingzero.tw/uniform/newtaipei/kpvs/16504650300_1.jpg --> /content/tw0322_私立穀保家商/16504650300_1.jpg\n",
            "(7/135) Downloading: https://unimap.wingzero.tw/uniform/newtaipei/kpvs/14904201836_7_thumb.JPG --> /content/tw0322_私立穀保家商/14904201836_7_thumb.JPG\n",
            "(8/135) Downloading: https://unimap.wingzero.tw/uniform/newtaipei/kpvs/14904201815_6_thumb.JPG --> /content/tw0322_私立穀保家商/14904201815_6_thumb.JPG\n",
            "(9/135) Downloading: https://unimap.wingzero.tw/uniform/newtaipei/kpvs/14904201804_5_thumb.JPG --> /content/tw0322_私立穀保家商/14904201804_5_thumb.JPG\n",
            "(10/135) Downloading: https://unimap.wingzero.tw/uniform/newtaipei/kpvs/14904201793_4_thumb.JPG --> /content/tw0322_私立穀保家商/14904201793_4_thumb.JPG\n",
            "(11/135) Downloading: https://unimap.wingzero.tw/uniform/newtaipei/kpvs/14904201772_3_thumb.JPG --> /content/tw0322_私立穀保家商/14904201772_3_thumb.JPG\n",
            "(12/135) Downloading: https://unimap.wingzero.tw/uniform/newtaipei/kpvs/14904201761_2_thumb.JPG --> /content/tw0322_私立穀保家商/14904201761_2_thumb.JPG\n",
            "(13/135) Downloading: https://unimap.wingzero.tw/uniform/newtaipei/kpvs/14904201750_1_thumb.JPG --> /content/tw0322_私立穀保家商/14904201750_1_thumb.JPG(14/135) Downloading: https://unimap.wingzero.tw/uniform/newtaipei/kpvs/14900677483_4_thumb.jpg --> /content/tw0322_私立穀保家商/14900677483_4_thumb.jpg\n",
            "\n",
            "(15/135) Downloading: https://unimap.wingzero.tw/uniform/newtaipei/kpvs/14900677472_3_thumb.jpg --> /content/tw0322_私立穀保家商/14900677472_3_thumb.jpg\n",
            "(16/135) Downloading: https://unimap.wingzero.tw/uniform/newtaipei/kpvs/14900677471_2_thumb.jpg --> /content/tw0322_私立穀保家商/14900677471_2_thumb.jpg\n",
            "(17/135) Downloading: https://unimap.wingzero.tw/uniform/newtaipei/kpvs/14900677460_1_thumb.jpg --> /content/tw0322_私立穀保家商/14900677460_1_thumb.jpg\n",
            "(18/135) Downloading: https://unimap.wingzero.tw/uniform/newtaipei/kpvs/14796392768_9_thumb.JPG --> /content/tw0322_私立穀保家商/14796392768_9_thumb.JPG\n",
            "(19/135) Downloading: https://unimap.wingzero.tw/uniform/newtaipei/kpvs/14796392767_8_thumb.JPG --> /content/tw0322_私立穀保家商/14796392767_8_thumb.JPG\n",
            "(20/135) Downloading: https://unimap.wingzero.tw/uniform/newtaipei/kpvs/14796392756_7_thumb.JPG --> /content/tw0322_私立穀保家商/14796392756_7_thumb.JPG\n",
            "(21/135) Downloading: https://unimap.wingzero.tw/uniform/newtaipei/kpvs/14796392745_6_thumb.JPG --> /content/tw0322_私立穀保家商/14796392745_6_thumb.JPG\n",
            "(22/135) Downloading: https://unimap.wingzero.tw/uniform/newtaipei/kpvs/14796392744_5_thumb.JPG --> /content/tw0322_私立穀保家商/14796392744_5_thumb.JPG\n",
            "(23/135) Downloading: https://unimap.wingzero.tw/uniform/newtaipei/kpvs/14796392733_4_thumb.JPG --> /content/tw0322_私立穀保家商/14796392733_4_thumb.JPG\n",
            "(24/135) Downloading: https://unimap.wingzero.tw/uniform/newtaipei/kpvs/14796392722_3_thumb.JPG --> /content/tw0322_私立穀保家商/14796392722_3_thumb.JPG(25/135) Downloading: https://unimap.wingzero.tw/uniform/newtaipei/kpvs/14796392721_2_thumb.JPG --> /content/tw0322_私立穀保家商/14796392721_2_thumb.JPG\n",
            "\n",
            "(26/135) Downloading: https://unimap.wingzero.tw/uniform/newtaipei/kpvs/14796392710_1_thumb.JPG --> /content/tw0322_私立穀保家商/14796392710_1_thumb.JPG\n",
            "(27/135) Downloading: https://unimap.wingzero.tw/uniform/newtaipei/kpvs/14673592630_1.jpg --> /content/tw0322_私立穀保家商/14673592630_1.jpg\n",
            "(28/135) Downloading: https://unimap.wingzero.tw/uniform/newtaipei/kpvs/14673591030_1.jpg --> /content/tw0322_私立穀保家商/14673591030_1.jpg\n",
            "(29/135) Downloading: https://unimap.wingzero.tw/uniform/newtaipei/kpvs/5ffc16c828608122373a12118963599a.jpg --> /content/tw0322_私立穀保家商/5ffc16c828608122373a12118963599a.jpg\n",
            "(30/135) Downloading: https://unimap.wingzero.tw/uniform/newtaipei/kpvs/747e2b2ed9eaf86305e83fecc68980d2.jpg --> /content/tw0322_私立穀保家商/747e2b2ed9eaf86305e83fecc68980d2.jpg\n",
            "(31/135) Downloading: https://unimap.wingzero.tw/uniform/newtaipei/kpvs/b2906a4d4e0f06f929fa397f5daf93b6.jpg --> /content/tw0322_私立穀保家商/b2906a4d4e0f06f929fa397f5daf93b6.jpg\n",
            "(32/135) Downloading: https://unimap.wingzero.tw/uniform/newtaipei/kpvs/a669e1c4496b87375357d74a50c9d1cc.jpg --> /content/tw0322_私立穀保家商/a669e1c4496b87375357d74a50c9d1cc.jpg\n",
            "(33/135) Downloading: https://unimap.wingzero.tw/uniform/newtaipei/kpvs/e5bc4301df8c14f13c3dd64f2baba35d.jpg --> /content/tw0322_私立穀保家商/e5bc4301df8c14f13c3dd64f2baba35d.jpg\n",
            "(34/135) Downloading: https://unimap.wingzero.tw/uniform/newtaipei/kpvs/52f45a6413803de69866a9bf08068de2.jpg --> /content/tw0322_私立穀保家商/52f45a6413803de69866a9bf08068de2.jpg\n",
            "(35/135) Downloading: https://unimap.wingzero.tw/uniform/newtaipei/kpvs/760f02c2112e2ec016cedb57cacd1b35.jpg --> /content/tw0322_私立穀保家商/760f02c2112e2ec016cedb57cacd1b35.jpg\n",
            "(36/135) Downloading: https://unimap.wingzero.tw/uniform/newtaipei/kpvs/38acf703851d569fb9b160da10aeb2a6.jpg --> /content/tw0322_私立穀保家商/38acf703851d569fb9b160da10aeb2a6.jpg\n",
            "(37/135) Downloading: https://unimap.wingzero.tw/uniform/newtaipei/kpvs/91e2bb6c7fe3da6278e26d8e7644e76b.jpg --> /content/tw0322_私立穀保家商/91e2bb6c7fe3da6278e26d8e7644e76b.jpg\n",
            "(38/135) Downloading: https://unimap.wingzero.tw/uniform/newtaipei/kpvs/d1e01df9268520c2fa4de6e2fbfbfafa.jpg --> /content/tw0322_私立穀保家商/d1e01df9268520c2fa4de6e2fbfbfafa.jpg\n",
            "(39/135) Downloading: https://unimap.wingzero.tw/uniform/newtaipei/kpvs/99cc7e123b5617eff409f4f871c0bf49.jpg --> /content/tw0322_私立穀保家商/99cc7e123b5617eff409f4f871c0bf49.jpg\n",
            "(40/135) Downloading: https://unimap.wingzero.tw/uniform/newtaipei/kpvs/d03ba90776ccbb27e2da8b205db749fc.jpg --> /content/tw0322_私立穀保家商/d03ba90776ccbb27e2da8b205db749fc.jpg\n",
            "(41/135) Downloading: https://unimap.wingzero.tw/uniform/newtaipei/kpvs/306d09a023012c449ac32cce37115a6c.jpg --> /content/tw0322_私立穀保家商/306d09a023012c449ac32cce37115a6c.jpg\n",
            "(42/135) Downloading: https://unimap.wingzero.tw/uniform/newtaipei/kpvs/25677b1f3ce02fa492bde5ffc0c51524.jpg --> /content/tw0322_私立穀保家商/25677b1f3ce02fa492bde5ffc0c51524.jpg\n",
            "(43/135) Downloading: https://unimap.wingzero.tw/uniform/newtaipei/kpvs/5b6fb66facc8e7c250c6db7d1a6cd521.jpg --> /content/tw0322_私立穀保家商/5b6fb66facc8e7c250c6db7d1a6cd521.jpg\n",
            "(44/135) Downloading: https://unimap.wingzero.tw/uniform/newtaipei/kpvs/7bc1ef063d42da3de0332d0efa681d8f.jpg --> /content/tw0322_私立穀保家商/7bc1ef063d42da3de0332d0efa681d8f.jpg\n",
            "(45/135) Downloading: https://unimap.wingzero.tw/uniform/newtaipei/kpvs/f2dc667083f1de97751a0c56cfbf4227.jpg --> /content/tw0322_私立穀保家商/f2dc667083f1de97751a0c56cfbf4227.jpg\n",
            "(46/135) Downloading: https://unimap.wingzero.tw/uniform/newtaipei/kpvs/2fcfae3ce6e1219a497d4bb7d76c76b5.jpg --> /content/tw0322_私立穀保家商/2fcfae3ce6e1219a497d4bb7d76c76b5.jpg\n",
            "(47/135) Downloading: https://unimap.wingzero.tw/uniform/newtaipei/kpvs/995976c76e0fcd93a6fe010e7588af13.jpg --> /content/tw0322_私立穀保家商/995976c76e0fcd93a6fe010e7588af13.jpg\n",
            "(48/135) Downloading: https://unimap.wingzero.tw/uniform/newtaipei/kpvs/0d90fe565bbebdc3ac80ddad6aff44b7.jpg --> /content/tw0322_私立穀保家商/0d90fe565bbebdc3ac80ddad6aff44b7.jpg\n",
            "(49/135) Downloading: https://unimap.wingzero.tw/uniform/newtaipei/kpvs/752aeb25aa23f00d063fb16e80e347f4.jpg --> /content/tw0322_私立穀保家商/752aeb25aa23f00d063fb16e80e347f4.jpg\n",
            "(50/135) Downloading: https://unimap.wingzero.tw/uniform/newtaipei/kpvs/2c2419e8ac33ad680d108f10cbc97167.jpg --> /content/tw0322_私立穀保家商/2c2419e8ac33ad680d108f10cbc97167.jpg\n",
            "(51/135) Downloading: https://unimap.wingzero.tw/uniform/newtaipei/kpvs/1bbfd0df3ccc9e8d232acae8b12e6c56.jpg --> /content/tw0322_私立穀保家商/1bbfd0df3ccc9e8d232acae8b12e6c56.jpg\n",
            "(52/135) Downloading: https://unimap.wingzero.tw/uniform/newtaipei/kpvs/9359c7103f76494468e2e11cf86f6cc0.jpg --> /content/tw0322_私立穀保家商/9359c7103f76494468e2e11cf86f6cc0.jpg\n",
            "(53/135) Downloading: https://unimap.wingzero.tw/uniform/newtaipei/kpvs/7e082c674456bb04a3d7dc3ae07d736c.jpg --> /content/tw0322_私立穀保家商/7e082c674456bb04a3d7dc3ae07d736c.jpg\n",
            "(54/135) Downloading: https://unimap.wingzero.tw/uniform/newtaipei/kpvs/a509154a432a2ea41106d4dc05e6b28c.jpg --> /content/tw0322_私立穀保家商/a509154a432a2ea41106d4dc05e6b28c.jpg\n",
            "(55/135) Downloading: https://unimap.wingzero.tw/uniform/newtaipei/kpvs/04ef35f1dad16249b1bd0176acf3273d.jpg --> /content/tw0322_私立穀保家商/04ef35f1dad16249b1bd0176acf3273d.jpg\n",
            "(56/135) Downloading: https://unimap.wingzero.tw/uniform/newtaipei/kpvs/ce357043947a60910248878773ae25bb.jpg --> /content/tw0322_私立穀保家商/ce357043947a60910248878773ae25bb.jpg\n",
            "(57/135) Downloading: https://unimap.wingzero.tw/uniform/newtaipei/kpvs/1974ec3f4db65848731107f7011109a6.jpg --> /content/tw0322_私立穀保家商/1974ec3f4db65848731107f7011109a6.jpg\n",
            "(58/135) Downloading: https://unimap.wingzero.tw/uniform/newtaipei/kpvs/e3190fcb461790b181a63645a0a1d88a.jpg --> /content/tw0322_私立穀保家商/e3190fcb461790b181a63645a0a1d88a.jpg\n",
            "(59/135) Downloading: https://unimap.wingzero.tw/uniform/newtaipei/kpvs/8e4740566254f49b6428caac3c417273.jpg --> /content/tw0322_私立穀保家商/8e4740566254f49b6428caac3c417273.jpg\n",
            "(60/135) Downloading: https://unimap.wingzero.tw/uniform/newtaipei/kpvs/153d4ca07318ab8f5993c52b02f156b8.jpg --> /content/tw0322_私立穀保家商/153d4ca07318ab8f5993c52b02f156b8.jpg\n",
            "(61/135) Downloading: https://unimap.wingzero.tw/uniform/newtaipei/kpvs/577b726b8e013565983d9e9f83f7d38b.jpg --> /content/tw0322_私立穀保家商/577b726b8e013565983d9e9f83f7d38b.jpg\n",
            "(62/135) Downloading: https://unimap.wingzero.tw/uniform/newtaipei/kpvs/cf557c433df862f2aab478d3a2481a85.jpg --> /content/tw0322_私立穀保家商/cf557c433df862f2aab478d3a2481a85.jpg\n",
            "(63/135) Downloading: https://unimap.wingzero.tw/uniform/newtaipei/kpvs/ee4370348ec609248f3cf28d943e3a45.jpg --> /content/tw0322_私立穀保家商/ee4370348ec609248f3cf28d943e3a45.jpg\n",
            "(64/135) Downloading: https://unimap.wingzero.tw/uniform/newtaipei/kpvs/903b7f6d8bc687d5d880dbd96f37069b.jpg --> /content/tw0322_私立穀保家商/903b7f6d8bc687d5d880dbd96f37069b.jpg\n",
            "(65/135) Downloading: https://unimap.wingzero.tw/uniform/newtaipei/kpvs/5ec5842bcecd9bfcb37b60d56a60afeb.jpg --> /content/tw0322_私立穀保家商/5ec5842bcecd9bfcb37b60d56a60afeb.jpg\n",
            "(66/135) Downloading: https://unimap.wingzero.tw/uniform/newtaipei/kpvs/7fa2697ff547a01f701fba4a9f3d0aac.jpg --> /content/tw0322_私立穀保家商/7fa2697ff547a01f701fba4a9f3d0aac.jpg\n",
            "(67/135) Downloading: https://unimap.wingzero.tw/uniform/newtaipei/kpvs/865ad26513f5d8237bce21de75c0d20a.jpg --> /content/tw0322_私立穀保家商/865ad26513f5d8237bce21de75c0d20a.jpg\n",
            "(68/135) Downloading: https://unimap.wingzero.tw/uniform/newtaipei/kpvs/79526f31374567b3770f9cb989421b76.jpg --> /content/tw0322_私立穀保家商/79526f31374567b3770f9cb989421b76.jpg\n",
            "(69/135) Downloading: https://unimap.wingzero.tw/uniform/newtaipei/kpvs/a0c214cfd96576c45761f44951e62abd.jpg --> /content/tw0322_私立穀保家商/a0c214cfd96576c45761f44951e62abd.jpg\n",
            "(70/135) Downloading: https://unimap.wingzero.tw/uniform/newtaipei/kpvs/681c1c0d51d31f94de2ab49951e656d1.jpg --> /content/tw0322_私立穀保家商/681c1c0d51d31f94de2ab49951e656d1.jpg\n",
            "(71/135) Downloading: https://unimap.wingzero.tw/uniform/newtaipei/kpvs/95bf601877d5a5adc4cb3ed3e3247ce0.jpg --> /content/tw0322_私立穀保家商/95bf601877d5a5adc4cb3ed3e3247ce0.jpg\n",
            "(72/135) Downloading: https://unimap.wingzero.tw/uniform/newtaipei/kpvs/8471834f35425bdd30d1cd6abf12d74c.jpg --> /content/tw0322_私立穀保家商/8471834f35425bdd30d1cd6abf12d74c.jpg\n",
            "(73/135) Downloading: https://unimap.wingzero.tw/uniform/newtaipei/kpvs/42262adbc9c6805f9fef92d7db446eb2.jpg --> /content/tw0322_私立穀保家商/42262adbc9c6805f9fef92d7db446eb2.jpg\n",
            "(74/135) Downloading: https://unimap.wingzero.tw/uniform/newtaipei/kpvs/7b1d67fac19a9a03af443aa43843e3fb.jpg --> /content/tw0322_私立穀保家商/7b1d67fac19a9a03af443aa43843e3fb.jpg\n",
            "(75/135) Downloading: https://unimap.wingzero.tw/uniform/newtaipei/kpvs/a09c38a0b7eb2f5aa8d6e1fae2879714.jpg --> /content/tw0322_私立穀保家商/a09c38a0b7eb2f5aa8d6e1fae2879714.jpg\n",
            "(76/135) Downloading: https://unimap.wingzero.tw/uniform/newtaipei/kpvs/2ccf624a02ef0bc02aa0e9b272da3bf2.jpg --> /content/tw0322_私立穀保家商/2ccf624a02ef0bc02aa0e9b272da3bf2.jpg\n",
            "(77/135) Downloading: https://unimap.wingzero.tw/uniform/newtaipei/kpvs/a2aa8948145331a594c435d5c07171cb.jpg --> /content/tw0322_私立穀保家商/a2aa8948145331a594c435d5c07171cb.jpg\n",
            "(78/135) Downloading: https://unimap.wingzero.tw/uniform/newtaipei/kpvs/ce34b4feabb3b18dda38cd9a5bdc0b88.jpg --> /content/tw0322_私立穀保家商/ce34b4feabb3b18dda38cd9a5bdc0b88.jpg\n",
            "(79/135) Downloading: https://unimap.wingzero.tw/uniform/newtaipei/kpvs/3da14053c9852b1e964572d7fe365aef.jpg --> /content/tw0322_私立穀保家商/3da14053c9852b1e964572d7fe365aef.jpg\n",
            "(80/135) Downloading: https://unimap.wingzero.tw/uniform/newtaipei/kpvs/d1d8d9a88cfd68d66ee4be63c8e440b8.jpg --> /content/tw0322_私立穀保家商/d1d8d9a88cfd68d66ee4be63c8e440b8.jpg\n",
            "(81/135) Downloading: https://unimap.wingzero.tw/uniform/newtaipei/kpvs/dbd3a341a712320c6853cf5215f6dda0.jpg --> /content/tw0322_私立穀保家商/dbd3a341a712320c6853cf5215f6dda0.jpg\n",
            "(82/135) Downloading: https://unimap.wingzero.tw/uniform/newtaipei/kpvs/d6205e0d6a8c3cb4e3807265b6a65a17.jpg --> /content/tw0322_私立穀保家商/d6205e0d6a8c3cb4e3807265b6a65a17.jpg\n",
            "(83/135) Downloading: https://unimap.wingzero.tw/uniform/newtaipei/kpvs/52170c4705a4cbf728ade50f88c20c8d.jpg --> /content/tw0322_私立穀保家商/52170c4705a4cbf728ade50f88c20c8d.jpg\n",
            "(84/135) Downloading: https://unimap.wingzero.tw/uniform/newtaipei/kpvs/4dc5c977ea457f65ec19f5958ae22a02.jpg --> /content/tw0322_私立穀保家商/4dc5c977ea457f65ec19f5958ae22a02.jpg\n",
            "(85/135) Downloading: https://unimap.wingzero.tw/uniform/newtaipei/kpvs/80d112a768a8c4078c605f88eb52c01b.jpg --> /content/tw0322_私立穀保家商/80d112a768a8c4078c605f88eb52c01b.jpg\n",
            "(86/135) Downloading: https://unimap.wingzero.tw/uniform/newtaipei/kpvs/7b356c0908e6b7672bd029bb1d280cfc.jpg --> /content/tw0322_私立穀保家商/7b356c0908e6b7672bd029bb1d280cfc.jpg\n",
            "(87/135) Downloading: https://unimap.wingzero.tw/uniform/newtaipei/kpvs/244d85bc5940fcb5cddb87e3938a3087.jpg --> /content/tw0322_私立穀保家商/244d85bc5940fcb5cddb87e3938a3087.jpg\n",
            "(88/135) Downloading: https://unimap.wingzero.tw/uniform/newtaipei/kpvs/2d20705be07ac71a82ca4a750bd6dd16.jpg --> /content/tw0322_私立穀保家商/2d20705be07ac71a82ca4a750bd6dd16.jpg\n",
            "(89/135) Downloading: https://unimap.wingzero.tw/uniform/newtaipei/kpvs/d09d7f48670e1300508bc7e38f9d54e2.jpg --> /content/tw0322_私立穀保家商/d09d7f48670e1300508bc7e38f9d54e2.jpg\n",
            "(90/135) Downloading: https://unimap.wingzero.tw/uniform/newtaipei/kpvs/067334c4b97761ce07d0cbd5d163b21e. --> /content/tw0322_私立穀保家商/067334c4b97761ce07d0cbd5d163b21e.\n",
            "(91/135) Downloading: https://unimap.wingzero.tw/uniform/newtaipei/kpvs/3782cbae93f93e3db5df17f9e74b2afc. --> /content/tw0322_私立穀保家商/3782cbae93f93e3db5df17f9e74b2afc.\n",
            "(92/135) Downloading: https://unimap.wingzero.tw/uniform/newtaipei/kpvs/6a2c614559865f37b30e75aeb2aa3976. --> /content/tw0322_私立穀保家商/6a2c614559865f37b30e75aeb2aa3976.\n",
            "(93/135) Downloading: https://unimap.wingzero.tw/uniform/newtaipei/kpvs/26ba3f0ce01c845accced32d5f5038cd.jpg --> /content/tw0322_私立穀保家商/26ba3f0ce01c845accced32d5f5038cd.jpg\n",
            "(94/135) Downloading: https://unimap.wingzero.tw/uniform/newtaipei/kpvs/792daa72c81c7493a93f6fb1042b275a.jpg --> /content/tw0322_私立穀保家商/792daa72c81c7493a93f6fb1042b275a.jpg\n",
            "(95/135) Downloading: https://unimap.wingzero.tw/uniform/newtaipei/kpvs/92e2da25eac4bd71131fea0fcf3eac2a.jpg --> /content/tw0322_私立穀保家商/92e2da25eac4bd71131fea0fcf3eac2a.jpg\n",
            "(96/135) Downloading: https://unimap.wingzero.tw/uniform/newtaipei/kpvs/2b4cf91d4ddd64c579f6e36e569010ba.jpg --> /content/tw0322_私立穀保家商/2b4cf91d4ddd64c579f6e36e569010ba.jpg\n",
            "(97/135) Downloading: https://unimap.wingzero.tw/uniform/newtaipei/kpvs/3c2bbd7bbcb4c6ec93a95a5381b346b0.jpg --> /content/tw0322_私立穀保家商/3c2bbd7bbcb4c6ec93a95a5381b346b0.jpg\n",
            "(98/135) Downloading: https://unimap.wingzero.tw/uniform/newtaipei/kpvs/b60fa28ba1ec678b6883ffc9453e3039.jpg --> /content/tw0322_私立穀保家商/b60fa28ba1ec678b6883ffc9453e3039.jpg\n",
            "(99/135) Downloading: https://unimap.wingzero.tw/uniform/newtaipei/kpvs/95d5670e3559d19c42c143110ebe04fe.jpg --> /content/tw0322_私立穀保家商/95d5670e3559d19c42c143110ebe04fe.jpg\n",
            "(100/135) Downloading: https://unimap.wingzero.tw/uniform/newtaipei/kpvs/cc51d5eb037ae57027013beeba30d875.jpg --> /content/tw0322_私立穀保家商/cc51d5eb037ae57027013beeba30d875.jpg\n",
            "(101/135) Downloading: https://unimap.wingzero.tw/uniform/newtaipei/kpvs/d6da04f90fcabd1d4ef3db817e89e959.jpg --> /content/tw0322_私立穀保家商/d6da04f90fcabd1d4ef3db817e89e959.jpg\n",
            "(102/135) Downloading: https://unimap.wingzero.tw/uniform/newtaipei/kpvs/7bed458b6b8bfba9883267a9b5de7c18.jpg --> /content/tw0322_私立穀保家商/7bed458b6b8bfba9883267a9b5de7c18.jpg\n",
            "(103/135) Downloading: https://unimap.wingzero.tw/uniform/newtaipei/kpvs/3d541f1048d1e956c21285b9b0e69580.jpg --> /content/tw0322_私立穀保家商/3d541f1048d1e956c21285b9b0e69580.jpg\n",
            "(104/135) Downloading: https://unimap.wingzero.tw/uniform/newtaipei/kpvs/7bdd62032bc9e2fb3cc6c9af83915428.jpg --> /content/tw0322_私立穀保家商/7bdd62032bc9e2fb3cc6c9af83915428.jpg\n",
            "(105/135) Downloading: https://unimap.wingzero.tw/uniform/newtaipei/kpvs/5499d78502d6d2b47cb0081e9cabcd95.jpg --> /content/tw0322_私立穀保家商/5499d78502d6d2b47cb0081e9cabcd95.jpg\n",
            "(106/135) Downloading: https://unimap.wingzero.tw/uniform/newtaipei/kpvs/05f1fb162112c158842084ff79003758.jpg --> /content/tw0322_私立穀保家商/05f1fb162112c158842084ff79003758.jpg\n",
            "(107/135) Downloading: https://unimap.wingzero.tw/uniform/newtaipei/kpvs/746ad53ed4349ddd20112a46a2b0d7e0.jpg --> /content/tw0322_私立穀保家商/746ad53ed4349ddd20112a46a2b0d7e0.jpg\n",
            "(108/135) Downloading: https://unimap.wingzero.tw/uniform/newtaipei/kpvs/07828e6f66c7a0d1a3d505bc3256ea3e.jpg --> /content/tw0322_私立穀保家商/07828e6f66c7a0d1a3d505bc3256ea3e.jpg\n",
            "(109/135) Downloading: https://unimap.wingzero.tw/uniform/newtaipei/kpvs/88554e884f3b9c6b08cab12e931a0166.jpg --> /content/tw0322_私立穀保家商/88554e884f3b9c6b08cab12e931a0166.jpg\n",
            "(110/135) Downloading: https://unimap.wingzero.tw/uniform/newtaipei/kpvs/59707312eaf7bddd2e06791c22dc7233.jpg --> /content/tw0322_私立穀保家商/59707312eaf7bddd2e06791c22dc7233.jpg\n",
            "(111/135) Downloading: https://unimap.wingzero.tw/uniform/newtaipei/kpvs/11347606_1603142743298284_1266526376_o.jpg --> /content/tw0322_私立穀保家商/11347606_1603142743298284_1266526376_o.jpg\n",
            "(112/135) Downloading: https://unimap.wingzero.tw/uniform/newtaipei/kpvs/11303633_1603142763298282_2097700877_o.jpg --> /content/tw0322_私立穀保家商/11303633_1603142763298282_2097700877_o.jpg\n",
            "(113/135) Downloading: https://unimap.wingzero.tw/uniform/newtaipei/kpvs/11293386_1603142783298280_970847810_o.jpg --> /content/tw0322_私立穀保家商/11293386_1603142783298280_970847810_o.jpg\n",
            "(114/135) Downloading: https://unimap.wingzero.tw/uniform/newtaipei/kpvs/11281437_1603142796631612_799571823_o.jpg --> /content/tw0322_私立穀保家商/11281437_1603142796631612_799571823_o.jpg\n",
            "(115/135) Downloading: https://unimap.wingzero.tw/uniform/newtaipei/kpvs/11230071_1603142736631618_333069278_o.jpg --> /content/tw0322_私立穀保家商/11230071_1603142736631618_333069278_o.jpg\n",
            "(116/135) Downloading: https://unimap.wingzero.tw/uniform/newtaipei/kpvs/11230071_1603142736631618_333069278_2.jpg --> /content/tw0322_私立穀保家商/11230071_1603142736631618_333069278_2.jpg\n",
            "(117/135) Downloading: https://unimap.wingzero.tw/uniform/newtaipei/kpvs/b11289459_827927897300065_8559403332709287722_o.jpg --> /content/tw0322_私立穀保家商/b11289459_827927897300065_8559403332709287722_o.jpg\n",
            "(118/135) Downloading: https://unimap.wingzero.tw/uniform/newtaipei/kpvs/b11289114_827927727300082_39403226795229560_o.jpg --> /content/tw0322_私立穀保家商/b11289114_827927727300082_39403226795229560_o.jpg\n",
            "(119/135) Downloading: https://unimap.wingzero.tw/uniform/newtaipei/kpvs/b11289059_827928260633362_7097397243967805954_o.jpg --> /content/tw0322_私立穀保家商/b11289059_827928260633362_7097397243967805954_o.jpg\n",
            "(120/135) Downloading: https://unimap.wingzero.tw/uniform/newtaipei/kpvs/b11270528_827928420633346_5609901459215122329_o.jpg --> /content/tw0322_私立穀保家商/b11270528_827928420633346_5609901459215122329_o.jpg\n",
            "(121/135) Downloading: https://unimap.wingzero.tw/uniform/newtaipei/kpvs/b11270528_827927953966726_4674461424500277120_o.jpg --> /content/tw0322_私立穀保家商/b11270528_827927953966726_4674461424500277120_o.jpg\n",
            "(122/135) Downloading: https://unimap.wingzero.tw/uniform/newtaipei/kpvs/b11270422_827928413966680_7444659151448868105_o.jpg --> /content/tw0322_私立穀保家商/b11270422_827928413966680_7444659151448868105_o.jpg\n",
            "(123/135) Downloading: https://unimap.wingzero.tw/uniform/newtaipei/kpvs/b11252021_827928720633316_1879435846945171452_o.jpg --> /content/tw0322_私立穀保家商/b11252021_827928720633316_1879435846945171452_o.jpg\n",
            "(124/135) Downloading: https://unimap.wingzero.tw/uniform/newtaipei/kpvs/b11244943_827928760633312_6752248162024403637_o.jpg --> /content/tw0322_私立穀保家商/b11244943_827928760633312_6752248162024403637_o.jpg\n",
            "(125/135) Downloading: https://unimap.wingzero.tw/uniform/newtaipei/kpvs/b11218574_827928803966641_6936696430662656023_o.jpg --> /content/tw0322_私立穀保家商/b11218574_827928803966641_6936696430662656023_o.jpg\n",
            "(126/135) Downloading: https://unimap.wingzero.tw/uniform/newtaipei/kpvs/b11212715_827927680633420_3894956802199608605_o.jpg --> /content/tw0322_私立穀保家商/b11212715_827927680633420_3894956802199608605_o.jpg\n",
            "(127/135) Downloading: https://unimap.wingzero.tw/uniform/newtaipei/kpvs/b11206864_827928077300047_6625195129109434309_o.jpg --> /content/tw0322_私立穀保家商/b11206864_827928077300047_6625195129109434309_o.jpg\n",
            "(128/135) Downloading: https://unimap.wingzero.tw/uniform/newtaipei/kpvs/b11206503_827928143966707_8392343737826546106_o.jpg --> /content/tw0322_私立穀保家商/b11206503_827928143966707_8392343737826546106_o.jpg\n",
            "(129/135) Downloading: https://unimap.wingzero.tw/uniform/newtaipei/kpvs/b11206486_827928040633384_9017835775263642613_o.jpg --> /content/tw0322_私立穀保家商/b11206486_827928040633384_9017835775263642613_o.jpg\n",
            "(130/135) Downloading: https://unimap.wingzero.tw/uniform/newtaipei/kpvs/b11206483_827928257300029_3716625379104298288_o.jpg --> /content/tw0322_私立穀保家商/b11206483_827928257300029_3716625379104298288_o.jpg\n",
            "(131/135) Downloading: https://unimap.wingzero.tw/uniform/newtaipei/kpvs/b11203675_827927580633430_2954788158247453517_o.jpg --> /content/tw0322_私立穀保家商/b11203675_827927580633430_2954788158247453517_o.jpg\n",
            "(132/135) Downloading: https://unimap.wingzero.tw/uniform/newtaipei/kpvs/b11164690_827927643966757_6581771803227489547_o.jpg --> /content/tw0322_私立穀保家商/b11164690_827927643966757_6581771803227489547_o.jpg\n",
            "(133/135) Downloading: https://unimap.wingzero.tw/uniform/newtaipei/kpvs/b11163122_827927850633403_6765230133015192781_o.jpg --> /content/tw0322_私立穀保家商/b11163122_827927850633403_6765230133015192781_o.jpg\n",
            "(134/135) Downloading: https://unimap.wingzero.tw/uniform/newtaipei/kpvs/b11154599_827928590633329_7127477615516103668_o.jpg --> /content/tw0322_私立穀保家商/b11154599_827928590633329_7127477615516103668_o.jpg\n",
            "(135/135) Downloading: https://unimap.wingzero.tw/uniform/newtaipei/kpvs/b11147214_827928837299971_1801217722760166196_o.jpg --> /content/tw0322_私立穀保家商/b11147214_827928837299971_1801217722760166196_o.jpg\n"
          ]
        }
      ]
    },
    {
      "cell_type": "code",
      "source": [
        "# 下載整個地區\n",
        "wz_uniform_crawler.fetch_all(\n",
        "    school_types='twes',\n",
        "    num_of_parallel_downloads = 20, # 同時下載的線程數\n",
        "    verbose = True,               # 顯示圖片資訊\n",
        ")"
      ],
      "metadata": {
        "collapsed": true,
        "id": "fLcyVn7qmWHb"
      },
      "execution_count": 40,
      "outputs": []
    },
    {
      "cell_type": "markdown",
      "source": [
        "# Pytube模組：Youtube影片下載"
      ],
      "metadata": {
        "id": "UxbEvp9soL6z"
      }
    },
    {
      "cell_type": "code",
      "source": [
        "!pip install pytube"
      ],
      "metadata": {
        "colab": {
          "base_uri": "https://localhost:8080/"
        },
        "id": "7-bYpbFWoXtN",
        "outputId": "94c6ff4c-48ce-4b1e-e7d1-0e91ff238607"
      },
      "execution_count": 41,
      "outputs": [
        {
          "output_type": "stream",
          "name": "stdout",
          "text": [
            "Collecting pytube\n",
            "  Downloading pytube-15.0.0-py3-none-any.whl (57 kB)\n",
            "\u001b[?25l     \u001b[90m━━━━━━━━━━━━━━━━━━━━━━━━━━━━━━━━━━━━━━━━\u001b[0m \u001b[32m0.0/57.6 kB\u001b[0m \u001b[31m?\u001b[0m eta \u001b[36m-:--:--\u001b[0m\r\u001b[2K     \u001b[90m━━━━━━━━━━━━━━━━━━━━━━━━━━━━━━━━━━━━━━━━\u001b[0m \u001b[32m57.6/57.6 kB\u001b[0m \u001b[31m2.1 MB/s\u001b[0m eta \u001b[36m0:00:00\u001b[0m\n",
            "\u001b[?25hInstalling collected packages: pytube\n",
            "Successfully installed pytube-15.0.0\n"
          ]
        }
      ]
    },
    {
      "cell_type": "code",
      "source": [
        "from pytube import YouTube"
      ],
      "metadata": {
        "id": "Z4Uava0Doczg"
      },
      "execution_count": 42,
      "outputs": []
    },
    {
      "cell_type": "code",
      "source": [
        "yt = YouTube('https://youtu.be/eP4ga_fNm-E?si=Eb3FcJiRITCffcrg')\n",
        "print(yt.title)\n",
        "\n",
        "# 取得影片格式\n",
        "print(yt.streams) # .first()傳回第一個影片格式、.last()傳回最後一個影片格式、.filter()傳回指定條件影片格式\n",
        "\n",
        "# 下載影片\n",
        "yt.streams.filter(subtype='mp4', res='360p', progressive=True).first().download(\"youtube\")"
      ],
      "metadata": {
        "colab": {
          "base_uri": "https://localhost:8080/",
          "height": 90
        },
        "id": "i1AzZmvrotYN",
        "outputId": "a5e06524-b123-4008-c783-c0664968b74e"
      },
      "execution_count": 46,
      "outputs": [
        {
          "output_type": "stream",
          "name": "stdout",
          "text": [
            "Spark\n",
            "[<Stream: itag=\"18\" mime_type=\"video/mp4\" res=\"360p\" fps=\"24fps\" vcodec=\"avc1.42001E\" acodec=\"mp4a.40.2\" progressive=\"True\" type=\"video\">, <Stream: itag=\"137\" mime_type=\"video/mp4\" res=\"1080p\" fps=\"24fps\" vcodec=\"avc1.640028\" progressive=\"False\" type=\"video\">, <Stream: itag=\"248\" mime_type=\"video/webm\" res=\"1080p\" fps=\"24fps\" vcodec=\"vp9\" progressive=\"False\" type=\"video\">, <Stream: itag=\"136\" mime_type=\"video/mp4\" res=\"720p\" fps=\"24fps\" vcodec=\"avc1.4d401f\" progressive=\"False\" type=\"video\">, <Stream: itag=\"247\" mime_type=\"video/webm\" res=\"720p\" fps=\"24fps\" vcodec=\"vp9\" progressive=\"False\" type=\"video\">, <Stream: itag=\"135\" mime_type=\"video/mp4\" res=\"480p\" fps=\"24fps\" vcodec=\"avc1.4d401e\" progressive=\"False\" type=\"video\">, <Stream: itag=\"244\" mime_type=\"video/webm\" res=\"480p\" fps=\"24fps\" vcodec=\"vp9\" progressive=\"False\" type=\"video\">, <Stream: itag=\"134\" mime_type=\"video/mp4\" res=\"360p\" fps=\"24fps\" vcodec=\"avc1.4d401e\" progressive=\"False\" type=\"video\">, <Stream: itag=\"243\" mime_type=\"video/webm\" res=\"360p\" fps=\"24fps\" vcodec=\"vp9\" progressive=\"False\" type=\"video\">, <Stream: itag=\"133\" mime_type=\"video/mp4\" res=\"240p\" fps=\"24fps\" vcodec=\"avc1.4d4015\" progressive=\"False\" type=\"video\">, <Stream: itag=\"242\" mime_type=\"video/webm\" res=\"240p\" fps=\"24fps\" vcodec=\"vp9\" progressive=\"False\" type=\"video\">, <Stream: itag=\"160\" mime_type=\"video/mp4\" res=\"144p\" fps=\"24fps\" vcodec=\"avc1.4d400c\" progressive=\"False\" type=\"video\">, <Stream: itag=\"278\" mime_type=\"video/webm\" res=\"144p\" fps=\"24fps\" vcodec=\"vp9\" progressive=\"False\" type=\"video\">, <Stream: itag=\"139\" mime_type=\"audio/mp4\" abr=\"48kbps\" acodec=\"mp4a.40.5\" progressive=\"False\" type=\"audio\">, <Stream: itag=\"140\" mime_type=\"audio/mp4\" abr=\"128kbps\" acodec=\"mp4a.40.2\" progressive=\"False\" type=\"audio\">, <Stream: itag=\"249\" mime_type=\"audio/webm\" abr=\"50kbps\" acodec=\"opus\" progressive=\"False\" type=\"audio\">, <Stream: itag=\"250\" mime_type=\"audio/webm\" abr=\"70kbps\" acodec=\"opus\" progressive=\"False\" type=\"audio\">, <Stream: itag=\"251\" mime_type=\"audio/webm\" abr=\"160kbps\" acodec=\"opus\" progressive=\"False\" type=\"audio\">]\n"
          ]
        },
        {
          "output_type": "execute_result",
          "data": {
            "text/plain": [
              "'/content/youtube/Spark.mp4'"
            ],
            "application/vnd.google.colaboratory.intrinsic+json": {
              "type": "string"
            }
          },
          "metadata": {},
          "execution_count": 46
        }
      ]
    },
    {
      "cell_type": "code",
      "source": [
        "# 下載YT播放清單\n",
        "from pytube import Playlist\n",
        "ytpl = Playlist('https://youtube.com/playlist?list=PLYwZqRWJF4O3zPrkdYn3mtJ6J7T11YnHu&si=_t8jM66Kez9ffjIL')\n",
        "print(\"共有\"+str(len(ytpl.video_urls))+\"個影片\")\n",
        "pathdir = \"킹더랜드(King the Land) OST\" # 下載資料夾\n",
        "print(\"開始下載...\")\n",
        "try:\n",
        "  for index, video in enumerate(ytpl.videos):\n",
        "    print(str(index+1) + \". \" + video.title) # 顯示影片標題\n",
        "    video.streams.first().download(pathdir)\n",
        "except:\n",
        "  pass\n",
        "print(\"下載完成\")\n"
      ],
      "metadata": {
        "colab": {
          "base_uri": "https://localhost:8080/"
        },
        "id": "k4wOYOoGs7WC",
        "outputId": "9e4788df-e3cf-4eae-ac3c-b96127fc97f9"
      },
      "execution_count": 50,
      "outputs": [
        {
          "output_type": "stream",
          "name": "stdout",
          "text": [
            "共有30個影片\n",
            "開始下載...\n",
            "1. [OFFICIAL PLAYLIST] 킹더랜드(King the Land) OST 전곡모음.zip\n",
            "2. [M/V] 가호 (Gaho) - Yellow Light :: 킹더랜드(King the Land) OST Part.1\n",
            "3. [M/V] 김예림(림킴) - Confess To You :: 킹더랜드(King the Land) OST Part.2\n",
            "4. [M/V] 정승환 - 너에게 닿을게 :: 킹더랜드(King the Land) OST Part.3\n",
            "5. [M/V] 김우진 - Dive :: 킹더랜드(King the Land) OST Part.4\n",
            "6. [M/V] 펀치 (Punch) - Keep Me Busy :: 킹더랜드(King the Land) OST Part.5\n",
            "7. [M/V] HYNN(박혜원) - 그대는 나의 :: 킹더랜드(King the Land) OST Part.6\n",
            "8. [M/V] 정세운 - Fall in Love :: 킹더랜드(King the Land) OST Part.7\n",
            "9. [M/V] 민서 (MINSEO) - 사랑인걸까 :: 킹더랜드(King the Land) OST Part.8\n",
            "10. [M/V] 경서 - Everyday With You :: 킹더랜드(King the Land) OST Part.9\n",
            "11. [M/V] 이혜림 - In My Heart :: 킹더랜드(King the Land) OST Special\n",
            "12. [OFFICIAL AUDIO] 경서 - Everyday With You :: 킹더랜드(King the Land) OST Part.9\n",
            "13. [OFFICIAL AUDIO] 민서 (MINSEO) - 사랑인걸까 :: 킹더랜드(King the Land) OST Part.8\n",
            "14. [OFFICIAL AUDIO] 정세운 - Fall in Love :: 킹더랜드(King the Land) OST Part.7\n",
            "15. [OFFICIAL AUDIO] HYNN(박혜원) - 그대는 나의 :: 킹더랜드(King the Land) OST Part.6\n",
            "16. [OFFICIAL AUDIO] 펀치 (Punch) - Keep Me Busy :: 킹더랜드(King the Land) OST Part.5\n",
            "17. [OFFICIAL AUDIO] 김우진 - Dive :: 킹더랜드(King the Land) OST Part.4\n",
            "18. [OFFICIAL AUDIO] 정승환 - 너에게 닿을게 :: 킹더랜드(King the Land) OST Part.3\n",
            "19. [OFFICIAL AUDIO] 김예림(림킴) - Confess To You :: 킹더랜드(King the Land) OST Part.2\n",
            "20. [OFFICIAL AUDIO] 가호 (Gaho) - Yellow Light :: 킹더랜드(King the Land) OST Part.1\n",
            "21. 경서 - Everyday With You :: 킹더랜드(King the Land) OST Part.9 #shorts #킹더랜드 #경서 #KyoungSeo\n",
            "22. 민서 (MINSEO) - 사랑인걸까 :: 킹더랜드(King the Land) OST Part.8 #shorts #킹더랜드 #민서 #MINSEO\n",
            "23. 정세운 - Fall in Love :: 킹더랜드(King the Land) OST Part.7 #shorts #킹더랜드 #정세운\n",
            "24. HYNN(박혜원) - 그대는 나의 :: 킹더랜드(King the Land) OST Part.6 #shorts #킹더랜드 #HYNN #박혜원\n",
            "25. 펀치 (Punch) - Keep Me Busy :: 킹더랜드(King the Land) OST Part.5 #shorts #킹더랜드 #펀치 #Punch\n",
            "26. 김우진 - Dive :: 킹더랜드(King the Land) OST Part.4 #shorts #킹더랜드 #김우진\n",
            "27. 정승환 - 너에게 닿을게 :: 킹더랜드(King the Land) OST Part.3 #shorts #킹더랜드 #정승환\n",
            "28. 김예림(림킴) - Confess To You :: 킹더랜드(King the Land) OST Part.2 #shorts #킹더랜드 #김예림 #림킴 #LIMKIM\n",
            "下載完成\n"
          ]
        }
      ]
    }
  ]
}