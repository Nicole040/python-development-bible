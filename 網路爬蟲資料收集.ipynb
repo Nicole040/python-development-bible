{
  "nbformat": 4,
  "nbformat_minor": 0,
  "metadata": {
    "colab": {
      "provenance": [],
      "toc_visible": true,
      "authorship_tag": "ABX9TyPjjoTIvFdXr2UAk5MHtuQa",
      "include_colab_link": true
    },
    "kernelspec": {
      "name": "python3",
      "display_name": "Python 3"
    },
    "language_info": {
      "name": "python"
    }
  },
  "cells": [
    {
      "cell_type": "markdown",
      "metadata": {
        "id": "view-in-github",
        "colab_type": "text"
      },
      "source": [
        "<a href=\"https://colab.research.google.com/github/Nicole040/python-development-bible/blob/main/%E7%B6%B2%E8%B7%AF%E7%88%AC%E8%9F%B2%E8%B3%87%E6%96%99%E6%94%B6%E9%9B%86.ipynb\" target=\"_parent\"><img src=\"https://colab.research.google.com/assets/colab-badge.svg\" alt=\"Open In Colab\"/></a>"
      ]
    },
    {
      "cell_type": "markdown",
      "source": [
        "# scraparazzie模組：爬取Google News新聞"
      ],
      "metadata": {
        "id": "yDqDuT4BmMPB"
      }
    },
    {
      "cell_type": "code",
      "source": [
        "!pip install scraparazzie"
      ],
      "metadata": {
        "colab": {
          "base_uri": "https://localhost:8080/"
        },
        "id": "-Ouw1GeMmb0z",
        "outputId": "b169eb54-5b35-4114-8635-da35d66b85bd"
      },
      "execution_count": 1,
      "outputs": [
        {
          "output_type": "stream",
          "name": "stdout",
          "text": [
            "Collecting scraparazzie\n",
            "  Downloading scraparazzie-1.2.7-py3-none-any.whl (8.2 kB)\n",
            "Requirement already satisfied: beautifulsoup4 in /usr/local/lib/python3.10/dist-packages (from scraparazzie) (4.12.3)\n",
            "Requirement already satisfied: requests in /usr/local/lib/python3.10/dist-packages (from scraparazzie) (2.31.0)\n",
            "Collecting fuzzywuzzy (from scraparazzie)\n",
            "  Downloading fuzzywuzzy-0.18.0-py2.py3-none-any.whl (18 kB)\n",
            "Requirement already satisfied: lxml in /usr/local/lib/python3.10/dist-packages (from scraparazzie) (4.9.4)\n",
            "Requirement already satisfied: soupsieve>1.2 in /usr/local/lib/python3.10/dist-packages (from beautifulsoup4->scraparazzie) (2.5)\n",
            "Requirement already satisfied: charset-normalizer<4,>=2 in /usr/local/lib/python3.10/dist-packages (from requests->scraparazzie) (3.3.2)\n",
            "Requirement already satisfied: idna<4,>=2.5 in /usr/local/lib/python3.10/dist-packages (from requests->scraparazzie) (3.7)\n",
            "Requirement already satisfied: urllib3<3,>=1.21.1 in /usr/local/lib/python3.10/dist-packages (from requests->scraparazzie) (2.0.7)\n",
            "Requirement already satisfied: certifi>=2017.4.17 in /usr/local/lib/python3.10/dist-packages (from requests->scraparazzie) (2024.2.2)\n",
            "Installing collected packages: fuzzywuzzy, scraparazzie\n",
            "Successfully installed fuzzywuzzy-0.18.0 scraparazzie-1.2.7\n"
          ]
        }
      ]
    },
    {
      "cell_type": "code",
      "source": [
        "from scraparazzie import scraparazzie"
      ],
      "metadata": {
        "id": "RZuWtnC-mrP-"
      },
      "execution_count": 5,
      "outputs": []
    },
    {
      "cell_type": "code",
      "source": [
        "client = scraparazzie.NewsClient(location='Taiwan', language='chinese traditional', topic='Business', max_results=3)\n",
        "client.print_news()"
      ],
      "metadata": {
        "colab": {
          "base_uri": "https://localhost:8080/"
        },
        "id": "LrlpimGCoI1I",
        "outputId": "2ccfa07a-7ef4-48ac-8f5c-2e10ee4f105b"
      },
      "execution_count": 14,
      "outputs": [
        {
          "output_type": "stream",
          "name": "stdout",
          "text": [
            "黃仁勳今晚7時台大體育館演講「AI如何帶動全球新產業革命發展」Yahoo奇摩直播看這篇\n",
            "Yahoo奇摩新聞\n",
            "https://news.google.com/rss/articles/CBMi7AJodHRwczovL3R3Lm5ld3MueWFob28uY29tLyVFOSVCQiU4MyVFNCVCQiU4MSVFNSU4QiVCMyVFNCVCQiU4QSVFNiU5OSU5QTclRTYlOTklODIlRTUlOEYlQjAlRTUlQTQlQTclRTklQUIlOTQlRTglODIlQjIlRTklQTQlQTglRTYlQkMlOTQlRTglQUMlOUIlRTMlODAlOENhaSVFNSVBNiU4MiVFNCVCRCU5NSVFNSVCOCVCNiVFNSU4QiU5NSVFNSU4NSVBOCVFNyU5MCU4MyVFNiU5NiVCMCVFNyU5NCVBMiVFNiVBNSVBRCVFOSU5RCVBOSVFNSU5MSVCRCVFNyU5OSVCQyVFNSVCMSU5NSVFMyU4MCU4RHlhaG9vJUU1JUE1JTg3JUU2JTkxJUE5JUU3JTlCJUI0JUU2JTkyJUFEJUU3JTlDJThCJUU5JTgwJTk5JUU3JUFGJTg3LTA1NDUzMjYxNi5odG1s0gEA?oc=5\n",
            "Sun, 02 Jun 2024 10:41:55 GMT\n",
            "------------------------------------------------------------\n",
            "【LIVE】0602 AI教父黃仁勳COMPUTEX 2024專題演講經長郭智輝、劉揚偉、林百里、施崇棠等科技傳產巨頭現身｜民視快新聞｜\n",
            "民視新聞網 Formosa TV News network\n",
            "https://news.google.com/rss/articles/CCAiC3p5RWtQZ2RTZTBJmAEB?oc=5\n",
            "Sun, 02 Jun 2024 10:38:53 GMT\n",
            "------------------------------------------------------------\n",
            "美超微CEO談趨勢 液冷AI資料中心...明年爆發\n",
            "聯合新聞網\n",
            "https://news.google.com/rss/articles/CBMiJ2h0dHBzOi8vdWRuLmNvbS9uZXdzL3N0b3J5LzcyNDAvODAwMzg2N9IBK2h0dHBzOi8vdWRuLmNvbS9uZXdzL2FtcC9zdG9yeS83MjQwLzgwMDM4Njc?oc=5\n",
            "Sat, 01 Jun 2024 21:20:00 GMT\n",
            "------------------------------------------------------------\n"
          ]
        }
      ]
    },
    {
      "cell_type": "code",
      "source": [
        "client.languages # 查可用語言\n",
        "client.locations # 查可用地區\n",
        "client.topics # 查可用主題"
      ],
      "metadata": {
        "id": "lTs4hrfdo9ct"
      },
      "execution_count": null,
      "outputs": []
    },
    {
      "cell_type": "code",
      "source": [
        "items = client.export_news()\n",
        "print(len(items))\n",
        "for i, item in enumerate(items):\n",
        "  print('第' + str(i+1) + '則新聞：')\n",
        "  print('新聞標題：' + item['title'])\n",
        "  print('新聞機構：' + item['source'])\n",
        "  print('新聞連結：' + item['link'])\n",
        "  print('新聞時間：' + item['publish_date'])\n",
        "  print('======================================================')"
      ],
      "metadata": {
        "colab": {
          "base_uri": "https://localhost:8080/"
        },
        "id": "HbHulNKxp2Rf",
        "outputId": "5a39778c-d279-4547-d5f0-9fa1bd7943e6"
      },
      "execution_count": 26,
      "outputs": [
        {
          "output_type": "stream",
          "name": "stdout",
          "text": [
            "3\n",
            "第1則新聞：\n",
            "新聞標題：黃仁勳今晚7時台大體育館演講「AI如何帶動全球新產業革命發展」Yahoo奇摩直播看這篇\n",
            "新聞機構：Yahoo奇摩新聞\n",
            "新聞連結：https://news.google.com/rss/articles/CBMi7AJodHRwczovL3R3Lm5ld3MueWFob28uY29tLyVFOSVCQiU4MyVFNCVCQiU4MSVFNSU4QiVCMyVFNCVCQiU4QSVFNiU5OSU5QTclRTYlOTklODIlRTUlOEYlQjAlRTUlQTQlQTclRTklQUIlOTQlRTglODIlQjIlRTklQTQlQTglRTYlQkMlOTQlRTglQUMlOUIlRTMlODAlOENhaSVFNSVBNiU4MiVFNCVCRCU5NSVFNSVCOCVCNiVFNSU4QiU5NSVFNSU4NSVBOCVFNyU5MCU4MyVFNiU5NiVCMCVFNyU5NCVBMiVFNiVBNSVBRCVFOSU5RCVBOSVFNSU5MSVCRCVFNyU5OSVCQyVFNSVCMSU5NSVFMyU4MCU4RHlhaG9vJUU1JUE1JTg3JUU2JTkxJUE5JUU3JTlCJUI0JUU2JTkyJUFEJUU3JTlDJThCJUU5JTgwJTk5JUU3JUFGJTg3LTA1NDUzMjYxNi5odG1s0gEA?oc=5\n",
            "新聞時間：Sun, 02 Jun 2024 10:41:55 GMT\n",
            "======================================================\n",
            "第2則新聞：\n",
            "新聞標題：【LIVE】0602 AI教父黃仁勳COMPUTEX 2024專題演講經長郭智輝、劉揚偉、林百里、施崇棠等科技傳產巨頭現身｜民視快新聞｜\n",
            "新聞機構：民視新聞網 Formosa TV News network\n",
            "新聞連結：https://news.google.com/rss/articles/CCAiC3p5RWtQZ2RTZTBJmAEB?oc=5\n",
            "新聞時間：Sun, 02 Jun 2024 10:38:53 GMT\n",
            "======================================================\n",
            "第3則新聞：\n",
            "新聞標題：美超微CEO談趨勢液冷AI資料中心...明年爆發| 聯合新聞網\n",
            "新聞機構：聯合新聞網\n",
            "新聞連結：https://news.google.com/rss/articles/CBMiJ2h0dHBzOi8vdWRuLmNvbS9uZXdzL3N0b3J5LzcyNDAvODAwMzg2N9IBAA?oc=5\n",
            "新聞時間：Sat, 01 Jun 2024 21:20:00 GMT\n",
            "======================================================\n"
          ]
        }
      ]
    },
    {
      "cell_type": "code",
      "source": [
        "client.get_config() # 取得目前物件的參數設定值"
      ],
      "metadata": {
        "colab": {
          "base_uri": "https://localhost:8080/"
        },
        "id": "Janzsf7gsQ46",
        "outputId": "d1d39706-dc8e-4484-e725-e7616ad484ce"
      },
      "execution_count": 27,
      "outputs": [
        {
          "output_type": "execute_result",
          "data": {
            "text/plain": [
              "{'location': 'Taiwan',\n",
              " 'language': 'chinese traditional',\n",
              " 'topic': 'Business',\n",
              " 'query': None}"
            ]
          },
          "metadata": {},
          "execution_count": 27
        }
      ]
    },
    {
      "cell_type": "markdown",
      "source": [
        "# Newspaper3k模組：爬取全球各新聞網新聞"
      ],
      "metadata": {
        "id": "lEcU67r7sebJ"
      }
    },
    {
      "cell_type": "code",
      "source": [
        "!pip install newspaper3k"
      ],
      "metadata": {
        "colab": {
          "base_uri": "https://localhost:8080/"
        },
        "collapsed": true,
        "id": "VLem8K3jsw3r",
        "outputId": "39f7280d-50e6-44dc-e2c3-a82f85d287a1"
      },
      "execution_count": 28,
      "outputs": [
        {
          "output_type": "stream",
          "name": "stdout",
          "text": [
            "Collecting newspaper3k\n",
            "  Downloading newspaper3k-0.2.8-py3-none-any.whl (211 kB)\n",
            "\u001b[?25l     \u001b[90m━━━━━━━━━━━━━━━━━━━━━━━━━━━━━━━━━━━━━━━━\u001b[0m \u001b[32m0.0/211.1 kB\u001b[0m \u001b[31m?\u001b[0m eta \u001b[36m-:--:--\u001b[0m\r\u001b[2K     \u001b[91m━━━━━━━━━━━━━━━━━━━━━━━━━━━━━━━━\u001b[0m\u001b[91m╸\u001b[0m\u001b[90m━━━━━━━\u001b[0m \u001b[32m174.1/211.1 kB\u001b[0m \u001b[31m5.0 MB/s\u001b[0m eta \u001b[36m0:00:01\u001b[0m\r\u001b[2K     \u001b[90m━━━━━━━━━━━━━━━━━━━━━━━━━━━━━━━━━━━━━━━━\u001b[0m \u001b[32m211.1/211.1 kB\u001b[0m \u001b[31m4.6 MB/s\u001b[0m eta \u001b[36m0:00:00\u001b[0m\n",
            "\u001b[?25hRequirement already satisfied: beautifulsoup4>=4.4.1 in /usr/local/lib/python3.10/dist-packages (from newspaper3k) (4.12.3)\n",
            "Requirement already satisfied: Pillow>=3.3.0 in /usr/local/lib/python3.10/dist-packages (from newspaper3k) (9.4.0)\n",
            "Requirement already satisfied: PyYAML>=3.11 in /usr/local/lib/python3.10/dist-packages (from newspaper3k) (6.0.1)\n",
            "Collecting cssselect>=0.9.2 (from newspaper3k)\n",
            "  Downloading cssselect-1.2.0-py2.py3-none-any.whl (18 kB)\n",
            "Requirement already satisfied: lxml>=3.6.0 in /usr/local/lib/python3.10/dist-packages (from newspaper3k) (4.9.4)\n",
            "Requirement already satisfied: nltk>=3.2.1 in /usr/local/lib/python3.10/dist-packages (from newspaper3k) (3.8.1)\n",
            "Requirement already satisfied: requests>=2.10.0 in /usr/local/lib/python3.10/dist-packages (from newspaper3k) (2.31.0)\n",
            "Collecting feedparser>=5.2.1 (from newspaper3k)\n",
            "  Downloading feedparser-6.0.11-py3-none-any.whl (81 kB)\n",
            "\u001b[2K     \u001b[90m━━━━━━━━━━━━━━━━━━━━━━━━━━━━━━━━━━━━━━━━\u001b[0m \u001b[32m81.3/81.3 kB\u001b[0m \u001b[31m5.3 MB/s\u001b[0m eta \u001b[36m0:00:00\u001b[0m\n",
            "\u001b[?25hCollecting tldextract>=2.0.1 (from newspaper3k)\n",
            "  Downloading tldextract-5.1.2-py3-none-any.whl (97 kB)\n",
            "\u001b[2K     \u001b[90m━━━━━━━━━━━━━━━━━━━━━━━━━━━━━━━━━━━━━━━━\u001b[0m \u001b[32m97.6/97.6 kB\u001b[0m \u001b[31m6.1 MB/s\u001b[0m eta \u001b[36m0:00:00\u001b[0m\n",
            "\u001b[?25hCollecting feedfinder2>=0.0.4 (from newspaper3k)\n",
            "  Downloading feedfinder2-0.0.4.tar.gz (3.3 kB)\n",
            "  Preparing metadata (setup.py) ... \u001b[?25l\u001b[?25hdone\n",
            "Collecting jieba3k>=0.35.1 (from newspaper3k)\n",
            "  Downloading jieba3k-0.35.1.zip (7.4 MB)\n",
            "\u001b[2K     \u001b[90m━━━━━━━━━━━━━━━━━━━━━━━━━━━━━━━━━━━━━━━━\u001b[0m \u001b[32m7.4/7.4 MB\u001b[0m \u001b[31m25.3 MB/s\u001b[0m eta \u001b[36m0:00:00\u001b[0m\n",
            "\u001b[?25h  Preparing metadata (setup.py) ... \u001b[?25l\u001b[?25hdone\n",
            "Requirement already satisfied: python-dateutil>=2.5.3 in /usr/local/lib/python3.10/dist-packages (from newspaper3k) (2.8.2)\n",
            "Collecting tinysegmenter==0.3 (from newspaper3k)\n",
            "  Downloading tinysegmenter-0.3.tar.gz (16 kB)\n",
            "  Preparing metadata (setup.py) ... \u001b[?25l\u001b[?25hdone\n",
            "Requirement already satisfied: soupsieve>1.2 in /usr/local/lib/python3.10/dist-packages (from beautifulsoup4>=4.4.1->newspaper3k) (2.5)\n",
            "Requirement already satisfied: six in /usr/local/lib/python3.10/dist-packages (from feedfinder2>=0.0.4->newspaper3k) (1.16.0)\n",
            "Collecting sgmllib3k (from feedparser>=5.2.1->newspaper3k)\n",
            "  Downloading sgmllib3k-1.0.0.tar.gz (5.8 kB)\n",
            "  Preparing metadata (setup.py) ... \u001b[?25l\u001b[?25hdone\n",
            "Requirement already satisfied: click in /usr/local/lib/python3.10/dist-packages (from nltk>=3.2.1->newspaper3k) (8.1.7)\n",
            "Requirement already satisfied: joblib in /usr/local/lib/python3.10/dist-packages (from nltk>=3.2.1->newspaper3k) (1.4.2)\n",
            "Requirement already satisfied: regex>=2021.8.3 in /usr/local/lib/python3.10/dist-packages (from nltk>=3.2.1->newspaper3k) (2024.5.15)\n",
            "Requirement already satisfied: tqdm in /usr/local/lib/python3.10/dist-packages (from nltk>=3.2.1->newspaper3k) (4.66.4)\n",
            "Requirement already satisfied: charset-normalizer<4,>=2 in /usr/local/lib/python3.10/dist-packages (from requests>=2.10.0->newspaper3k) (3.3.2)\n",
            "Requirement already satisfied: idna<4,>=2.5 in /usr/local/lib/python3.10/dist-packages (from requests>=2.10.0->newspaper3k) (3.7)\n",
            "Requirement already satisfied: urllib3<3,>=1.21.1 in /usr/local/lib/python3.10/dist-packages (from requests>=2.10.0->newspaper3k) (2.0.7)\n",
            "Requirement already satisfied: certifi>=2017.4.17 in /usr/local/lib/python3.10/dist-packages (from requests>=2.10.0->newspaper3k) (2024.2.2)\n",
            "Collecting requests-file>=1.4 (from tldextract>=2.0.1->newspaper3k)\n",
            "  Downloading requests_file-2.1.0-py2.py3-none-any.whl (4.2 kB)\n",
            "Requirement already satisfied: filelock>=3.0.8 in /usr/local/lib/python3.10/dist-packages (from tldextract>=2.0.1->newspaper3k) (3.14.0)\n",
            "Building wheels for collected packages: tinysegmenter, feedfinder2, jieba3k, sgmllib3k\n",
            "  Building wheel for tinysegmenter (setup.py) ... \u001b[?25l\u001b[?25hdone\n",
            "  Created wheel for tinysegmenter: filename=tinysegmenter-0.3-py3-none-any.whl size=13538 sha256=07c17d816e80a3ece748ea94447b80231e5aab3be4ebf8ba9cdba56b9365a481\n",
            "  Stored in directory: /root/.cache/pip/wheels/c8/d6/6c/384f58df48c00b9a31d638005143b5b3ac62c3d25fb1447f23\n",
            "  Building wheel for feedfinder2 (setup.py) ... \u001b[?25l\u001b[?25hdone\n",
            "  Created wheel for feedfinder2: filename=feedfinder2-0.0.4-py3-none-any.whl size=3340 sha256=7aef2e3e09e267ef7cb807de098b6f61225f5652d2eb6afa338ae4cb7f10af1d\n",
            "  Stored in directory: /root/.cache/pip/wheels/97/02/e7/a1ff1760e12bdbaab0ac824fae5c1bc933e41c4ccd6a8f8edb\n",
            "  Building wheel for jieba3k (setup.py) ... \u001b[?25l\u001b[?25hdone\n",
            "  Created wheel for jieba3k: filename=jieba3k-0.35.1-py3-none-any.whl size=7398382 sha256=cbe0659253bd7a0cec10217b3f60551a9dd59929ae94d5780d65a481bc81dc4d\n",
            "  Stored in directory: /root/.cache/pip/wheels/7a/c4/0c/12a9a314ecac499456c4c3b2fcc2f635a3b45a39dfbd240299\n",
            "  Building wheel for sgmllib3k (setup.py) ... \u001b[?25l\u001b[?25hdone\n",
            "  Created wheel for sgmllib3k: filename=sgmllib3k-1.0.0-py3-none-any.whl size=6049 sha256=c25ee3f57deb8b52c843cd5ec0c8e69f1086bfe1be8d0d66621a9749db4a29e0\n",
            "  Stored in directory: /root/.cache/pip/wheels/f0/69/93/a47e9d621be168e9e33c7ce60524393c0b92ae83cf6c6e89c5\n",
            "Successfully built tinysegmenter feedfinder2 jieba3k sgmllib3k\n",
            "Installing collected packages: tinysegmenter, sgmllib3k, jieba3k, feedparser, cssselect, requests-file, feedfinder2, tldextract, newspaper3k\n",
            "Successfully installed cssselect-1.2.0 feedfinder2-0.0.4 feedparser-6.0.11 jieba3k-0.35.1 newspaper3k-0.2.8 requests-file-2.1.0 sgmllib3k-1.0.0 tinysegmenter-0.3 tldextract-5.1.2\n"
          ]
        }
      ]
    },
    {
      "cell_type": "code",
      "source": [
        "import newspaper"
      ],
      "metadata": {
        "id": "iBs6YUTls-RN"
      },
      "execution_count": 29,
      "outputs": []
    },
    {
      "cell_type": "code",
      "source": [
        "newspaper.popular_urls() # 查可用網站\n",
        "#newspaper.languages() # 查可用語系代碼"
      ],
      "metadata": {
        "id": "p87TvuQotEMC"
      },
      "execution_count": null,
      "outputs": []
    },
    {
      "cell_type": "code",
      "source": [
        "paper = newspaper.build('https://tw.nextapple.com/realtime/latest', language='zh')\n",
        "print('新聞連結：')\n",
        "for i, article in enumerate(paper.articles):\n",
        "    print(i+1, article.url)"
      ],
      "metadata": {
        "colab": {
          "base_uri": "https://localhost:8080/"
        },
        "collapsed": true,
        "id": "vxxpoUcethE0",
        "outputId": "924d4665-6ccf-47ff-97bd-685d74bae1fc"
      },
      "execution_count": 39,
      "outputs": [
        {
          "output_type": "stream",
          "name": "stderr",
          "text": [
            "CRITICAL:newspaper.network:[REQUEST FAILED] 403 Client Error: Forbidden for url: https://feature.nextapple.com/\n",
            "CRITICAL:newspaper.network:[REQUEST FAILED] 404 Client Error: Not Found for url: https://tw.nextapple.com/rss\n",
            "CRITICAL:newspaper.network:[REQUEST FAILED] 404 Client Error: Not Found for url: https://tw.nextapple.com/feed\n",
            "CRITICAL:newspaper.network:[REQUEST FAILED] 404 Client Error: Not Found for url: https://tw.nextapple.com/feeds\n"
          ]
        },
        {
          "output_type": "stream",
          "name": "stdout",
          "text": [
            "新聞連結：\n",
            "1 https://tw.nextapple.com/sports/20240602/D026C9A7B3D47B84D65883DD6B731FCA\n",
            "2 https://tw.nextapple.com/life/20240602/D7F8CA552A14ACFC39BAD116EB0BCCE0\n",
            "3 https://tw.nextapple.com/entertainment/20240602/C86045099B87C7AC6663D50DE89DE512\n",
            "4 https://tw.nextapple.com/international/20240602/DB355A0896A159F6651EB060137E7690\n",
            "5 https://tw.nextapple.com/life/20240602/C8C8E74DD4893ED7AF3D57998E894688\n",
            "6 https://tw.nextapple.com/life/20240602/3647147CB0FA37AD6405FEF8661F9EA1\n",
            "7 https://tw.nextapple.com/sports/20240602/53BA0A21D49C651427BE29D2E787B5F7\n",
            "8 https://tw.nextapple.com/entertainment/20240602/A361B2E30ECFC9325394F91F6AFF6CAD\n",
            "9 https://tw.nextapple.com/local/20240602/F210D222084F597BD9073E2536C47FFF\n",
            "10 https://tw.nextapple.com/entertainment/20240602/D8024A25398AD962ED7C97FFE5613F98\n",
            "11 https://tw.nextapple.com/entertainment/20240602/769731DFB5B95F50BA4DC5302E02E103\n",
            "12 https://tw.nextapple.com/finance/20240602/C46FCCAC5F0B289FFCD6400CF6C1F26E\n",
            "13 https://tw.nextapple.com/entertainment/20240602/88DE524AA1DE43D81966B5FA05612654\n",
            "14 https://tw.nextapple.com/entertainment/20240602/104926740DDAC685929FF35941C90D11\n",
            "15 https://tw.nextapple.com/local/20240602/B0E76A1200DA132BC4895DB96595929C\n",
            "16 https://tw.nextapple.com/politics/20240602/63F8EE6BAF5326EE6E80A9D1AA06A21B\n",
            "17 https://tw.nextapple.com/entertainment/20240602/C5490C7DAF8F6A67415F0CFD4BAF29D2\n",
            "18 https://tw.nextapple.com/finance/20240602/2EDE150D953D7846DEBA347FEDE9B529\n",
            "19 https://tw.nextapple.com/life/20240602/12399078A7FCABE69BDDA59B29BFAAC4\n",
            "20 https://tw.nextapple.com/finance/20240602/D08AB29072DD41DAEEAE678AC348DC7B\n",
            "21 https://tw.nextapple.com/international/20240602/C7220990BA219C058890F113A372C8A8\n",
            "22 https://tw.nextapple.com/local/20240602/DFD5DEC94BBA5C8593437645190DE725\n",
            "23 https://tw.nextapple.com/entertainment/20240602/6E18780AB0643E8882B53BB2DD8D9E70\n",
            "24 https://tw.nextapple.com/entertainment/20240602/C03B3C4FBE99E6B17B2E24FA17354291\n",
            "25 https://tw.nextapple.com/entertainment/20240602/04B156CA4001016B8BC8F20011837986\n",
            "26 https://tw.nextapple.com/politics/20240602/29E04A56DE5C5E92492D88D069D7B4A8\n",
            "27 https://tw.nextapple.com/entertainment/20240602/3D263CF0953361C5BA0517D7D75EF18C\n",
            "28 https://tw.nextapple.com/life/20240602/B3C5077A9AAD33568D7D73AA2A9F0A54\n",
            "29 https://tw.nextapple.com/life/20240602/50ED05E36AB251DF824EF334C06B7213\n",
            "30 https://tw.nextapple.com/entertainment/20240602/91EF93A3FBAE9036300A28DF5A021C48\n",
            "31 https://tw.nextapple.com/entertainment/20240602/8C6BB991F747ED16E37E8FC43E2691B5\n",
            "32 https://tw.nextapple.com/politics/20240602/BD61472A944D4A285E286ABD2AE44786\n",
            "33 https://tw.nextapple.com/international/20240602/C4F61908BEAEFF89FA0AF4B10893D035\n",
            "34 https://tw.nextapple.com/local/20240602/E1020573053A0D875FBE4810C82435D8\n",
            "35 https://tw.nextapple.com/life/20240602/E4A8D1EB7988D65B6196772F14360841\n",
            "36 https://tw.nextapple.com/life/20240602/7695ED31DD14392F240E94531FD0D1D5\n",
            "37 https://nextapple.com.sg/international/20240602/21F680E178B63473BBAEA4815DE8FFC3\n",
            "38 https://nextapple.com.sg/international/20240602/0C81C5220C918FA1F22E44D422BAA46B\n",
            "39 https://nextapple.com.sg/international/20240602/2ED868F9066A372D3E41DBD6CEE1D5DA\n",
            "40 https://nextapple.com.sg/international/20240602/BBE04C0829F493CA4A7369D10E41D6E1\n",
            "41 https://nextapple.com.sg/international/20240602/DBDFF92FEC6E2749C2C14B0022D82498\n",
            "42 https://nextapple.com.sg/international/20240529/1557A507E7536FCEC673AC88DD7013D8\n",
            "43 https://nextapple.com.sg/international/20240529/289A4B61BE3F97435592A94D5F88EFD8\n",
            "44 https://nextapple.com.sg/international/20240529/A0B53D39EC81B2C87D03D04DFD9C4ECA\n",
            "45 https://nextapple.com.sg/international/20240529/227F91B4EDAB592748F1B9BF6FF8BFA5\n",
            "46 https://nextapple.com.sg/international/20240529/437FCD0E2A69C2E7DF2088353742E7E1\n",
            "47 https://nextapple.com.sg/international/20240528/4C5C15A4C6E629730C2357C635BAE7D2\n",
            "48 https://nextapple.com.sg/international/20240528/99E415BD19F8256429F0598DE2816AAB\n",
            "49 https://nextapple.com.sg/international/20240528/2DC13023B11DF5FA635F1560F342F510\n",
            "50 https://nextapple.com.sg/international/20240528/84AD4739AA658510F2940F79324280EB\n",
            "51 https://nextapple.com.sg/international/20240528/A1E07E2B26FF33335907CEBDFA7417D2\n",
            "52 https://nextapple.com.sg/entertainment/20240527/4C5DFD7DABF3F44F873CF3890BA259B1\n",
            "53 https://nextapple.com.sg/international/20240527/9636A04CBDC7787988B12913E834C405\n",
            "54 https://nextapple.com.sg/international/20240527/DBF37565A3DE9ADA77D3245E880B60E0\n",
            "55 https://nextapple.com.sg/international/20240527/D8932D8AB539D2D60F6482567D169C1B\n",
            "56 https://nextapple.com.sg/international/20240527/BDFC2F12A28B5EB07A37E45C219E3CE4\n",
            "57 https://nextapple.com.sg/entertainment/20240602/C5490C7DAF8F6A67415F0CFD4BAF29D2\n",
            "58 https://nextapple.com.sg/finance/20240602/2EDE150D953D7846DEBA347FEDE9B529\n",
            "59 https://nextapple.com.sg/life/20240602/12399078A7FCABE69BDDA59B29BFAAC4\n",
            "60 https://nextapple.com.sg/finance/20240602/D08AB29072DD41DAEEAE678AC348DC7B\n",
            "61 https://nextapple.com.sg/international/20240602/C7220990BA219C058890F113A372C8A8\n",
            "62 https://nextapple.com.sg/local/20240602/DFD5DEC94BBA5C8593437645190DE725\n",
            "63 https://nextapple.com.sg/entertainment/20240602/6E18780AB0643E8882B53BB2DD8D9E70\n",
            "64 https://nextapple.com.sg/sports/20240602/D026C9A7B3D47B84D65883DD6B731FCA\n",
            "65 https://nextapple.com.sg/entertainment/20240602/C03B3C4FBE99E6B17B2E24FA17354291\n",
            "66 https://tw.nextapple.com/life/20240602/9D0ECCB0F3F7693090D79A78CC7162DF\n"
          ]
        }
      ]
    },
    {
      "cell_type": "code",
      "source": [
        "from newspaper import Article"
      ],
      "metadata": {
        "id": "CoGyGc_Bu7gz"
      },
      "execution_count": 53,
      "outputs": []
    },
    {
      "cell_type": "code",
      "source": [
        "article = Article('https://tw.nextapple.com/finance/20240602/2EDE150D953D7846DEBA347FEDE9B529')\n",
        "article.download()\n",
        "article.parse()\n",
        "print('新聞標題：' + article.title)\n",
        "print('新聞內容：' + article.text)\n",
        "print('新聞日期：' + str(article.publish_date))"
      ],
      "metadata": {
        "colab": {
          "base_uri": "https://localhost:8080/"
        },
        "collapsed": true,
        "id": "71zL99DcvD_x",
        "outputId": "95d878b0-ca3c-49c0-e3f1-2388bc2d5d2c"
      },
      "execution_count": 54,
      "outputs": [
        {
          "output_type": "stream",
          "name": "stdout",
          "text": [
            "新聞標題：直播｜黃仁勳演講AI產業革命 廣達鴻海華碩等科技大咖全到場\n",
            "新聞內容：【記者趙筱文／台北報導】2024台北國際電腦展（COMPUTEX 2024）將於6月4日至6月7日在台北南港展覽館隆重舉行，輝達（NVIDIA）執行長黃仁勳率先於今天（2日）晚間7時在台大體育館進行演講，據了解，台積電總裁魏哲家、廣達董事長林百里、鴻海董事長劉揚偉、華碩董事長施崇棠和經濟部長郭智輝都到現場聆聽演講。\n",
            "\n",
            "黃仁勳今天的演講，主題聚焦在生成式AI，除了多達5千位民眾搶聽，許多企業大咖如台積電總裁魏哲家、鴻海董事長劉揚偉、廣達董事長林百里、廣達副董梁次震、台塑集團總裁王文淵及台塑董事長林健男等，都傳出會到現場聆聽演講。\n",
            "\n",
            "此次主題為分享人工智慧時代如何帶動全球新產業革命的發展，主題演講後，NVIDIA將於6月5日在台北漢來大飯店舉行 AI Summit，深入探討AI在製造、醫療、研究等領域的實際應用。此次峰會將舉辦20多場來自業界專家和創新者的會議以及針對開發人員的培訓課程。NVIDIA醫療保健和生命科學副總裁Kimberly Powell將主持一場特別演講，探討生成式AI如何推動醫療保健科技產業的發展。\n",
            "\n",
            "黃仁勳於5月26日晚間提前抵台，在電腦展前夕逐一拜會在台供應鏈夥伴，甚至帶著台積電創辦人張忠謀現身台北夜市、前往大巨蛋擔任開球嘉賓，親切作風在台灣掀起一陣「黃仁勳旋風」。\n",
            "\n",
            "若是沒辦法親自前往的朋友也能收看線上直播，並在6月3日下午5點前參加NVIDIA官網活動，以#NVIDIAkeynote主題標籤分享自己最愛的時刻，就有機會贏得NVIDIA執行長黃仁勳親筆簽名的GeForce RTX 4080 SUPER顯示卡或NVIDIA海報。\n",
            "\n",
            "NVIDIA官網：連結\n",
            "\n",
            "廣達董事長林百里（中）、經濟部長郭智輝（右）。莊宗達攝\n",
            "\n",
            "廣告\n",
            "\n",
            "鴻海董事長劉揚偉（中）與華碩董事長施崇棠（右）。莊宗達攝\n",
            "\n",
            "廣告\n",
            "\n",
            "台灣大董事長蔡明忠（圖中）。莊宗達攝\n",
            "\n",
            "黃仁勳今晚在台大體育館內演講，現場已經擠滿5千人。莊宗達攝\n",
            "\n",
            "宏達電董事長王雪紅（圖中）。莊宗達攝\n",
            "\n",
            "數千位民眾與上百家媒體在台大體育館內聆聽黃仁勳演講。莊宗達攝\n",
            "\n",
            "黃仁勳今晚7時演講，大批聽眾排隊入場。趙筱文攝\n",
            "\n",
            "黃仁勳今晚7時演講，大批聽眾下午就排隊準備入場。趙筱文攝\n",
            "\n",
            "黃仁勳今晚7時演講，大批聽眾下午就排隊準備入場。趙筱文攝\n",
            "\n",
            "黃仁勳今晚7點在台大體育館演講AI如何帶動產業革命。莊宗達攝\n",
            "新聞日期：None\n"
          ]
        }
      ]
    },
    {
      "cell_type": "code",
      "source": [
        "from newspaper import fulltext # 用於中文網頁會失敗"
      ],
      "metadata": {
        "id": "QyA3HgObyz7H"
      },
      "execution_count": 55,
      "outputs": []
    },
    {
      "cell_type": "code",
      "source": [
        "article2 = Article('https://edition.cnn.com/2024/05/24/tech/meta-amazon-ai-fears-eu-law/index.html')\n",
        "article2.download()\n",
        "print(fulltext(article2.html))"
      ],
      "metadata": {
        "colab": {
          "base_uri": "https://localhost:8080/"
        },
        "collapsed": true,
        "id": "I1ALsu4Gy3Nb",
        "outputId": "bfea1e7a-b610-434e-b625-9d6903b5c964"
      },
      "execution_count": 59,
      "outputs": [
        {
          "output_type": "stream",
          "name": "stdout",
          "text": [
            "London CNN —\n",
            "\n",
            "Amazon and Meta executives told CNN this week that some of the fears about artificial intelligence are overblown and that the European Union’s sweeping new AI rules risk holding back innovation.\n",
            "\n",
            "The EU gave the final green light to its AI act Tuesday, the same week tech leaders gathered in Paris for the annual VivaTech conference.\n",
            "\n",
            "The first-of-its-kind law is poised to reshape how firms and other organizations in Europe use AI for everything from health care decisions to policing. It imposes blanket bans on using the technology in ways deemed “unacceptable” — for example, for social scoring.\n",
            "\n",
            "The regulation also creates new disclosure obligations for large AI companies and requires more transparency on uses of AI considered “high-risk,” such as for education and hiring.\n",
            "\n",
            "For Meta’s (META) AI chief, Yann LeCun, “the big question” about the new law is “should research and development in AI be regulated?”\n",
            "\n",
            "“There are clauses in the EU AI act and various other places that do regulate research and development. I don’t think it’s a good idea,” he told CNN’s Anna Stewart at the Paris event.\n",
            "\n",
            "LeCun, widely known as one of the “godfathers of AI,” disagrees with concerns that AI could soon surpass human intelligence.\n",
            "\n",
            "“I don’t believe it’s anywhere close,” he said. “I don’t think it’s that dangerous, frankly, certainly not today.”\n",
            "\n",
            "AI systems might become a lot smarter in the future but then they will be designed with appropriate safeguards, he added.\n",
            "\n",
            "“But today, trying to figure out how to make future super-intelligent AI systems safe is like asking in 1925 ‘how do we make jet transport safe?’ And jet transport was not invented yet,” he said.\n",
            "\n",
            "Amazon’s (AMZN) chief technology officer Werner Vogels echoed concerns that AI regulation could stifle innovation in some areas.\n",
            "\n",
            "When thinking about risks, regulators should consider the application of the new technology to, for instance, health care and financial services differently from its use to summarize meetings, he told Stewart.\n",
            "\n",
            "“There’s a whole range of areas where I think the risks are minimal and we should let innovation run there,” he said. In other areas, where mistakes can have a bigger impact on people’s lives, risks should be managed “uniquely for that particular area.”\n",
            "\n",
            "Vogels stressed that Amazon welcomes regulation, and is aligned with regulators in their overall goals, but warned the EU against overregulating AI, pointing to the example of its signature data privacy law, known as GDPR, which he described as a very “thick” book.\n",
            "\n",
            "“Let’s make sure that the regulatory requirements that we put in place, companies — not just the largest company but every company in Europe — can actually implement,” he said.\n",
            "\n",
            "“We need to make sure that innovation continues to happen and that the innovation doesn’t just come outside Europe. We already have a very long history in Europe of underinvesting in R&D,” he added.\n"
          ]
        }
      ]
    },
    {
      "cell_type": "markdown",
      "source": [
        "# technews-tw模組：爬取台灣科技網站新聞"
      ],
      "metadata": {
        "id": "TbSV9LhL0cwD"
      }
    },
    {
      "cell_type": "code",
      "source": [
        "!pip install technews-tw"
      ],
      "metadata": {
        "colab": {
          "base_uri": "https://localhost:8080/"
        },
        "collapsed": true,
        "id": "cEnaDUdu0kVA",
        "outputId": "66f6a7f1-87ed-4240-b388-d3ff4251e400"
      },
      "execution_count": 60,
      "outputs": [
        {
          "output_type": "stream",
          "name": "stdout",
          "text": [
            "Collecting technews-tw\n",
            "  Downloading technews_tw-1.3.5-py3-none-any.whl (12 kB)\n",
            "Collecting bs4 (from technews-tw)\n",
            "  Downloading bs4-0.0.2-py2.py3-none-any.whl (1.2 kB)\n",
            "Requirement already satisfied: requests in /usr/local/lib/python3.10/dist-packages (from technews-tw) (2.31.0)\n",
            "Requirement already satisfied: html5lib in /usr/local/lib/python3.10/dist-packages (from technews-tw) (1.1)\n",
            "Requirement already satisfied: lxml in /usr/local/lib/python3.10/dist-packages (from technews-tw) (4.9.4)\n",
            "Collecting twine (from technews-tw)\n",
            "  Downloading twine-5.1.0-py3-none-any.whl (38 kB)\n",
            "Requirement already satisfied: wheel in /usr/local/lib/python3.10/dist-packages (from technews-tw) (0.43.0)\n",
            "Requirement already satisfied: setuptools in /usr/local/lib/python3.10/dist-packages (from technews-tw) (67.7.2)\n",
            "Requirement already satisfied: beautifulsoup4 in /usr/local/lib/python3.10/dist-packages (from bs4->technews-tw) (4.12.3)\n",
            "Requirement already satisfied: six>=1.9 in /usr/local/lib/python3.10/dist-packages (from html5lib->technews-tw) (1.16.0)\n",
            "Requirement already satisfied: webencodings in /usr/local/lib/python3.10/dist-packages (from html5lib->technews-tw) (0.5.1)\n",
            "Requirement already satisfied: charset-normalizer<4,>=2 in /usr/local/lib/python3.10/dist-packages (from requests->technews-tw) (3.3.2)\n",
            "Requirement already satisfied: idna<4,>=2.5 in /usr/local/lib/python3.10/dist-packages (from requests->technews-tw) (3.7)\n",
            "Requirement already satisfied: urllib3<3,>=1.21.1 in /usr/local/lib/python3.10/dist-packages (from requests->technews-tw) (2.0.7)\n",
            "Requirement already satisfied: certifi>=2017.4.17 in /usr/local/lib/python3.10/dist-packages (from requests->technews-tw) (2024.2.2)\n",
            "Collecting pkginfo>=1.8.1 (from twine->technews-tw)\n",
            "  Downloading pkginfo-1.11.0-py3-none-any.whl (31 kB)\n",
            "Collecting readme-renderer>=35.0 (from twine->technews-tw)\n",
            "  Downloading readme_renderer-43.0-py3-none-any.whl (13 kB)\n",
            "Collecting requests-toolbelt!=0.9.0,>=0.8.0 (from twine->technews-tw)\n",
            "  Downloading requests_toolbelt-1.0.0-py2.py3-none-any.whl (54 kB)\n",
            "\u001b[2K     \u001b[90m━━━━━━━━━━━━━━━━━━━━━━━━━━━━━━━━━━━━━━━━\u001b[0m \u001b[32m54.5/54.5 kB\u001b[0m \u001b[31m5.8 MB/s\u001b[0m eta \u001b[36m0:00:00\u001b[0m\n",
            "\u001b[?25hRequirement already satisfied: importlib-metadata>=3.6 in /usr/local/lib/python3.10/dist-packages (from twine->technews-tw) (7.1.0)\n",
            "Requirement already satisfied: keyring>=15.1 in /usr/lib/python3/dist-packages (from twine->technews-tw) (23.5.0)\n",
            "Collecting rfc3986>=1.4.0 (from twine->technews-tw)\n",
            "  Downloading rfc3986-2.0.0-py2.py3-none-any.whl (31 kB)\n",
            "Requirement already satisfied: rich>=12.0.0 in /usr/local/lib/python3.10/dist-packages (from twine->technews-tw) (13.7.1)\n",
            "Requirement already satisfied: zipp>=0.5 in /usr/local/lib/python3.10/dist-packages (from importlib-metadata>=3.6->twine->technews-tw) (3.18.2)\n",
            "Collecting nh3>=0.2.14 (from readme-renderer>=35.0->twine->technews-tw)\n",
            "  Downloading nh3-0.2.17-cp37-abi3-manylinux_2_17_x86_64.manylinux2014_x86_64.whl (777 kB)\n",
            "\u001b[2K     \u001b[90m━━━━━━━━━━━━━━━━━━━━━━━━━━━━━━━━━━━━━━━━\u001b[0m \u001b[32m777.1/777.1 kB\u001b[0m \u001b[31m8.8 MB/s\u001b[0m eta \u001b[36m0:00:00\u001b[0m\n",
            "\u001b[?25hRequirement already satisfied: docutils>=0.13.1 in /usr/local/lib/python3.10/dist-packages (from readme-renderer>=35.0->twine->technews-tw) (0.18.1)\n",
            "Requirement already satisfied: Pygments>=2.5.1 in /usr/local/lib/python3.10/dist-packages (from readme-renderer>=35.0->twine->technews-tw) (2.16.1)\n",
            "Requirement already satisfied: markdown-it-py>=2.2.0 in /usr/local/lib/python3.10/dist-packages (from rich>=12.0.0->twine->technews-tw) (3.0.0)\n",
            "Requirement already satisfied: soupsieve>1.2 in /usr/local/lib/python3.10/dist-packages (from beautifulsoup4->bs4->technews-tw) (2.5)\n",
            "Requirement already satisfied: mdurl~=0.1 in /usr/local/lib/python3.10/dist-packages (from markdown-it-py>=2.2.0->rich>=12.0.0->twine->technews-tw) (0.1.2)\n",
            "Installing collected packages: nh3, rfc3986, readme-renderer, pkginfo, requests-toolbelt, bs4, twine, technews-tw\n",
            "Successfully installed bs4-0.0.2 nh3-0.2.17 pkginfo-1.11.0 readme-renderer-43.0 requests-toolbelt-1.0.0 rfc3986-2.0.0 technews-tw-1.3.5 twine-5.1.0\n"
          ]
        }
      ]
    },
    {
      "cell_type": "code",
      "source": [
        "from technews import TechNews"
      ],
      "metadata": {
        "id": "2nmonWcg0uUJ"
      },
      "execution_count": 61,
      "outputs": []
    },
    {
      "cell_type": "code",
      "source": [
        "news = TechNews(\"inside\").get_today_news() # 支援ithome、business數位時代、inside硬塞的\n",
        "print(news)"
      ],
      "metadata": {
        "colab": {
          "base_uri": "https://localhost:8080/"
        },
        "id": "ADxCVb8X04fd",
        "outputId": "ea03bc77-9341-4f50-d5ce-0ab9bee41bda"
      },
      "execution_count": 71,
      "outputs": [
        {
          "output_type": "stream",
          "name": "stdout",
          "text": [
            "{'timestamp': 1717330227.173128, 'news_page_title': 'INSIDE', 'news_contents': {'7b43f8509a86348bcf18188f1eef0aea': {'link': 'https://www.inside.com.tw/article/35200-perplexity-ai-research-pages-school-report', 'image': 'https://bucket-image.inkmaginecms.com/version/list/1/image/2024/06/9d32a60b-d54b-4f9b-8bc7-5ed0bb83fe31.png', 'title': '不過根據實測，Perplexity 整理報告的深度似乎還略顯不足，如果做成「快速聚焦」的初期簡報，或是給急著寫作業的大學生可能還適用。', 'date': '2024-06-02'}, '3e4c02fd9b4a90bfa34aaba26a471f91': {'link': 'https://www.inside.com.tw/feature/2024-generative-ai-week/35129-2024-generative-ai-conference', 'image': 'https://bucket-image.inkmaginecms.com/version/list/1/image/2024/05/a7b1d94d-4c46-470f-9efe-623318aa910b.jpg', 'title': '「用 AI 的人，正在取代不會 AI 的人；會用 AI 的企業，正在取代不會用 AI 的公司；而會用 AI 的國家，將會在文化上取代不會用 AI 的國家。」前 Google 台灣董事總經理簡立峰為今年 Generative AI 年會做了一個有力的註腳。', 'date': '2024-06-02'}, 'c4f91922bc7459f088c30b5d87d64865': {'link': 'https://www.inside.com.tw/article/35095-anthropic-black-box-ai-research-neurons-features', 'image': 'https://bucket-image.inkmaginecms.com/version/list/1/image/2024/05/f6e8482e-f4d9-4785-8e06-4e4fbac4acd7.jpg', 'title': 'Anthropic 最近發表論文，透過一種創新的研究方法成功地對 Anthropic 自家語言模型 Claude 3 Sonnet 進行了逆向工程。', 'date': '2024-06-02'}, '3c175abba31f010fbf94e9d3a74ddb05': {'link': 'https://www.inside.com.tw/article/35184-marques-brownlee-iphone-testing-video', 'image': 'https://bucket-image.inkmaginecms.com/version/list/1/image/2024/05/f50643f1-7c42-4cc6-8ee1-9538a372389f.png', 'title': '蘋果強調在每款產品正式發布前，都會對其進行超過 1 萬次的模擬測試。', 'date': '2024-06-02'}, 'e0aa84f228fb589a844896286a586087': {'link': 'https://www.inside.com.tw/article/35016-ipad-air-nuance', 'image': 'https://bucket-image.inkmaginecms.com/version/list/1/image/2024/05/0edf89dc-bde6-48fe-bf95-44b4deab5904.jpg', 'title': '過去消費者看到 iPad Air 第一眼聯想到「輕薄機型」，但新 iPad Pro 不僅厚度比 iPad Air 薄，重量還更輕，那 iPad Air 的「Air」到底代表什麼意思？', 'date': '2024-06-02'}, '4ba9325d272dd6b5036bc9fa83f9e9c5': {'link': 'https://www.inside.com.tw/article/35199-austrian-startup-environment', 'image': 'https://bucket-image.inkmaginecms.com/version/list/1/image/2024/06/257cfe7e-3eb9-404f-8dea-a3d849519dce.jpg', 'title': '奧地利首都維也納被評為全球 10 大宜居城市第一名，但您知道，奧地利也是創業能量十分豐富的國家嗎？', 'date': '2024-06-02'}, '07c97e5409ed497dc723d8a851cea5f3': {'link': 'https://www.inside.com.tw/article/35045-android-tv-14', 'image': 'https://bucket-image.inkmaginecms.com/version/list/1/image/2024/05/e5492a5a-bd25-4518-bbec-07993cb64f9e.jpg', 'title': 'Android TV 14 也稍微融入了 Gemini 模型。Gemini 將為 Android TV 主畫面上的影集和電影生成「客製化描述」。', 'date': '2024-06-02'}, 'cbed7bacbce26d76a828031cd4123c9c': {'link': 'https://www.inside.com.tw/article/35172-google-search-doc-leaked', 'image': 'https://bucket-image.inkmaginecms.com/version/list/1/image/2024/05/8281a6e2-2175-49e3-9c89-2bb0fa1dabef.jpg', 'title': 'Google 首次回應這次爆炸性的洩密事件。', 'date': '2024-06-02'}, '51a2ade11349aad5a57be9f8f17d8b64': {'link': 'https://www.inside.com.tw/article/35109-google-stop-trying-to-trick-employees-with-fake-phishing-emails', 'image': 'https://bucket-image.inkmaginecms.com/version/list/1/image/2024/05/61a0cd77-355d-4297-93ac-8bfb4c27bba7.jpg', 'title': '最近 Google 資安專家 Matt Linton 呼籲大家不要再故意寄試釣魚信給員工了！', 'date': '2024-06-02'}}, 'news_counts': 9}\n"
          ]
        }
      ]
    },
    {
      "cell_type": "code",
      "source": [
        "news1 = TechNews(\"inside\").get_news_by_page(3) # 取得3天內\n",
        "print(news1)"
      ],
      "metadata": {
        "colab": {
          "base_uri": "https://localhost:8080/"
        },
        "id": "nVGyaXZ82kOo",
        "outputId": "e05abe95-cff7-405d-83fd-5a873e06db06"
      },
      "execution_count": 72,
      "outputs": [
        {
          "output_type": "stream",
          "name": "stdout",
          "text": [
            "{'timestamp': 1717330228.6368136, 'news_page_title': 'INSIDE', 'news_contents': {'7b43f8509a86348bcf18188f1eef0aea': {'link': 'https://www.inside.com.tw/article/35200-perplexity-ai-research-pages-school-report', 'image': 'https://bucket-image.inkmaginecms.com/version/list/1/image/2024/06/9d32a60b-d54b-4f9b-8bc7-5ed0bb83fe31.png', 'title': '不過根據實測，Perplexity 整理報告的深度似乎還略顯不足，如果做成「快速聚焦」的初期簡報，或是給急著寫作業的大學生可能還適用。', 'date': '2024-06-02'}, '3e4c02fd9b4a90bfa34aaba26a471f91': {'link': 'https://www.inside.com.tw/feature/2024-generative-ai-week/35129-2024-generative-ai-conference', 'image': 'https://bucket-image.inkmaginecms.com/version/list/1/image/2024/05/a7b1d94d-4c46-470f-9efe-623318aa910b.jpg', 'title': '「用 AI 的人，正在取代不會 AI 的人；會用 AI 的企業，正在取代不會用 AI 的公司；而會用 AI 的國家，將會在文化上取代不會用 AI 的國家。」前 Google 台灣董事總經理簡立峰為今年 Generative AI 年會做了一個有力的註腳。', 'date': '2024-06-02'}, 'be2142468cdbc3e6b52f83f8af956c35': {'link': 'https://www.inside.com.tw/article/35177-ViewSonic', 'image': 'https://bucket-image.inkmaginecms.com/version/list/1/image/2024/05/b268029c-9b7f-493b-9f71-07daf11d6cd2.jpg', 'title': '在疫情催化下，視訊會議已成工作日常。ViewSonic 推出「TeamJoin」視訊協作會議解決方案，協助企業輕鬆導入，提供完美、高效率的線上會議體驗，保障資訊安全。ViewSonic 優派學院連育仁院長分享企業視訊會議痛點及解決方案，如整合會議室排程、一鍵啟動功能，以及高效協作環境。TeamJoin 搭配 ViewSonic ViewBoard 互動顯示器，可全方位提高會議協作效率，獲得最佳視訊會議體驗。', 'date': '2024-06-01'}, 'c4f91922bc7459f088c30b5d87d64865': {'link': 'https://www.inside.com.tw/article/35095-anthropic-black-box-ai-research-neurons-features', 'image': 'https://bucket-image.inkmaginecms.com/version/list/1/image/2024/05/f6e8482e-f4d9-4785-8e06-4e4fbac4acd7.jpg', 'title': 'Anthropic 最近發表論文，透過一種創新的研究方法成功地對 Anthropic 自家語言模型 Claude 3 Sonnet 進行了逆向工程。', 'date': '2024-06-02'}, '3c175abba31f010fbf94e9d3a74ddb05': {'link': 'https://www.inside.com.tw/article/35184-marques-brownlee-iphone-testing-video', 'image': 'https://bucket-image.inkmaginecms.com/version/list/1/image/2024/05/f50643f1-7c42-4cc6-8ee1-9538a372389f.png', 'title': '蘋果強調在每款產品正式發布前，都會對其進行超過 1 萬次的模擬測試。', 'date': '2024-06-02'}, 'e2df7cafbece9f7aa1b40d70505fe9ef': {'link': 'https://www.inside.com.tw/article/35153-Phihong', 'image': 'https://bucket-image.inkmaginecms.com/version/list/1/image/2024/05/4f05a2f0-9f9e-41e0-b6fd-0aa028258b23.jpg', 'title': '飛宏科技將出席 2024 年台北國際電腦展（Computex 2024），並重點展示專為電競筆電所設計的新系列 GaN 快充電源供應器與i XCharger 產品。此外，飛宏科技亦將永續理念結合到產品的生產設計中，簡化不必要的製造過程、提高產品的能源轉換率，達到有效碳排放量減少的目的，實踐飛宏科技對環境永續發展的承諾。', 'date': '2024-05-30'}, 'e0aa84f228fb589a844896286a586087': {'link': 'https://www.inside.com.tw/article/35016-ipad-air-nuance', 'image': 'https://bucket-image.inkmaginecms.com/version/list/1/image/2024/05/0edf89dc-bde6-48fe-bf95-44b4deab5904.jpg', 'title': '過去消費者看到 iPad Air 第一眼聯想到「輕薄機型」，但新 iPad Pro 不僅厚度比 iPad Air 薄，重量還更輕，那 iPad Air 的「Air」到底代表什麼意思？', 'date': '2024-06-02'}, '4ba9325d272dd6b5036bc9fa83f9e9c5': {'link': 'https://www.inside.com.tw/article/35199-austrian-startup-environment', 'image': 'https://bucket-image.inkmaginecms.com/version/list/1/image/2024/06/257cfe7e-3eb9-404f-8dea-a3d849519dce.jpg', 'title': '奧地利首都維也納被評為全球 10 大宜居城市第一名，但您知道，奧地利也是創業能量十分豐富的國家嗎？', 'date': '2024-06-02'}, '8d9a86cbc6555cf33816df9237e9541a': {'link': 'https://www.inside.com.tw/article/35146-APMIC', 'image': 'https://bucket-image.inkmaginecms.com/version/list/1/image/2024/05/4d2191ea-3de4-4bf2-9e81-99418405f409.jpg', 'title': 'APMIC 推出的「CaiGunn 開講」在地化大型語言模型，結合 HPE ProLiant DL320 Gen11 和 DL380a Gen11 伺服器，提供高效生成式 AI 應用，助企業加速 AI 專案部署。\\n透過強大的硬體支持，該模型在智能客服和知識管理上顯著提升效率，解決應答率低和內部文件管理問題，強化企業競爭力。', 'date': '2024-05-29'}, '07c97e5409ed497dc723d8a851cea5f3': {'link': 'https://www.inside.com.tw/article/35045-android-tv-14', 'image': 'https://bucket-image.inkmaginecms.com/version/list/1/image/2024/05/e5492a5a-bd25-4518-bbec-07993cb64f9e.jpg', 'title': 'Android TV 14 也稍微融入了 Gemini 模型。Gemini 將為 Android TV 主畫面上的影集和電影生成「客製化描述」。', 'date': '2024-06-02'}, 'cbed7bacbce26d76a828031cd4123c9c': {'link': 'https://www.inside.com.tw/article/35172-google-search-doc-leaked', 'image': 'https://bucket-image.inkmaginecms.com/version/list/1/image/2024/05/8281a6e2-2175-49e3-9c89-2bb0fa1dabef.jpg', 'title': 'Google 首次回應這次爆炸性的洩密事件。', 'date': '2024-06-02'}, 'baee39a0f4091c1b5835aff33c73c360': {'link': 'https://www.inside.com.tw/feature/side-chat/35142-AWS', 'image': 'https://bucket-image.inkmaginecms.com/version/list/1/image/2024/05/2e1171eb-f10c-40b0-89fd-5eb4fcd4766e.png', 'title': '在全球擁有數十萬用戶的雲端服務領導業者 AWS 推出之生成式 AI 平台「Amazon Bedrock」推出滿一周年之際，耳熟能詳的 AI 模型如 Stable Diffusion 、 Claude 、 Mistral 、 Llama 陸續登上 Bedrock 。另一方面， AWS 近期完成對 Anthropic 的 40 億美元投資案，這些佈局背後用意，如何讓 AWS 在長期的 AI 軍備競賽當中，保持領先地位？', 'date': '2024-05-28'}, '51a2ade11349aad5a57be9f8f17d8b64': {'link': 'https://www.inside.com.tw/article/35109-google-stop-trying-to-trick-employees-with-fake-phishing-emails', 'image': 'https://bucket-image.inkmaginecms.com/version/list/1/image/2024/05/61a0cd77-355d-4297-93ac-8bfb4c27bba7.jpg', 'title': '最近 Google 資安專家 Matt Linton 呼籲大家不要再故意寄試釣魚信給員工了！', 'date': '2024-06-02'}, '1271bf131cfc37de43ddb6e7314df1a5': {'link': 'https://www.inside.com.tw/article/35198-navers-webtoon-entertainment-files-us-ipo-disclosing-losses', 'image': 'https://bucket-image.inkmaginecms.com/version/list/1/image/2024/06/bd49ef22-3f1e-48b1-a05b-3dac8c6e3c00.jpg', 'title': '根據外媒推測，本次 IPO Webtoon 可能尋求籌集 5 億美元，目前市值推估 30 億美元至 40 億美元之間。', 'date': '2024-06-01'}, '9b9917a932264876f3ff72a5deec40cc': {'link': 'https://www.inside.com.tw/article/35111-HPE', 'image': 'https://bucket-image.inkmaginecms.com/version/list/1/image/2024/05/228c6517-7c7e-42f5-b956-33b0bb15a16a.jpg', 'title': '在高階市場深受肯定的 IronYun（鐵雲科技）Vaidio AI 視覺平台，結合 HPE ProLiant 伺服器，提供強大的即時分析能力，適用於智慧城市和智慧製造等複雜場域，成功案例已遍及全球 40 多個國家。', 'date': '2024-05-28'}, '3a08e0abe7800dc41319a95f6a7f5a1f': {'link': 'https://www.inside.com.tw/feature/side-chat/35196-side-chat-e245', 'image': 'https://bucket-image.inkmaginecms.com/version/list/1/image/2024/06/a5fcf639-0776-4751-b222-b2c91caa61a6.png', 'title': 'PicCollage 最初只是個 Demo App，但適逢 Instagram 興起，大家都在尋找好用的拼貼相片 APP，幫助它在上線首月就創下 14 萬驚人下載量。儘管當時下載量和活躍用戶數亮眼，創辦人 John 坦言公司曾經陷入募資瓶頸，還有差點發不出員工薪資的危機時刻⋯⋯。', 'date': '2024-06-01'}, '2c414798ddf2f0905ade2e2b0360902f': {'link': 'https://www.inside.com.tw/article/35197-use-ai-to-create-short-videos', 'image': 'https://bucket-image.inkmaginecms.com/version/list/1/image/2024/06/b9c6fa9b-2f51-48d6-935b-ad4998d47ba0.jpg', 'title': '想要用一個人就做出產品、行銷用短影音嗎？用 AI 吧！', 'date': '2024-06-01'}, '03a66c4b2d25fe02df475eb089f91bc9': {'link': 'https://www.inside.com.tw/article/35126-STARBIT', 'image': 'https://bucket-image.inkmaginecms.com/version/list/1/image/2024/05/5bcfda92-c5c8-405e-8495-50a3299fee9f.jpg', 'title': 'STARBIT 思偉達攜手日本金澤工業大學，推動產學技術合作交流，將於 2024 年 5 月起展開深度合作規劃，將台灣區塊鏈以及 AI 技術量能導入日本大學教育體系，共同研發「遠距離戀愛機器人系統」以及「數位集章」在文化觀光場域，深化台日之間新創技術的合作。', 'date': '2024-05-27'}, '6707dd7d604729218cea65f97dc83256': {'link': 'https://www.inside.com.tw/article/35195-nvidia-jensen-huang-email-style-concise-key-points-insiders', 'image': 'https://bucket-image.inkmaginecms.com/version/list/1/image/2024/06/c2051c90-1b73-4a02-91c4-40ee47b5cedd.jpg', 'title': '報導指出黃仁勳性格反覆無常、說話嚴厲，雖然他承認自己語氣有時無心地粗暴，但這是腦子裡想的和嘴裡說的話不一致。儘管如此，NVIDIA 留任率依然很高。', 'date': '2024-06-01'}, 'bc563673fbb204c1962eb9eb2cad4ba4': {'link': 'https://www.inside.com.tw/article/35194-openai-influence-operations-china-russia', 'image': 'https://bucket-image.inkmaginecms.com/version/list/1/image/2024/05/9ecd7d83-c724-44bc-9b89-e62ee9870fb1.jpg', 'title': 'OpenA 阻止了 5 起秘密影響力行動，這些行動試圖利用 OpenAI 的技術操縱世界各地輿論和影響地緣政治。', 'date': '2024-06-01'}, '2a72e986841e65268e1175a846fcc928': {'link': 'https://www.inside.com.tw/article/35073-MetaGuru', 'image': 'https://bucket-image.inkmaginecms.com/version/list/1/image/2024/05/726accab-5499-40ee-9b01-a404df7e62df.jpg', 'title': '安葆電能採用 MetaGuru 逐鹿數位「企業流程管理系統」（BPM），促進成功經驗傳承，更大幅提升企業營運效率。導入逐鹿數位 BPM 後，安葆電能稽核效率躍升 90%，同時減少 70% 的填單時間，後續更計畫透過逐鹿數位實現 BPM 與 ERP 的串接，並滿足各部門的BI報表需求。', 'date': '2024-05-23'}, 'e76318f40f49ae2040cd50cc26f4ccdd': {'link': 'https://www.inside.com.tw/article/35193-ntu-releases-taiwanese-made-ai-robot-dog', 'image': 'https://bucket-image.inkmaginecms.com/version/list/1/image/2024/06/68bf9e9c-d210-4420-aa04-f10cf1ddde84.jpg', 'title': '台大機械系教授郭重顯指出機器狗發展在國際上相當熱絡，但台灣遲遲無法導入，背後原因除成本高昂之外，客製化服務、AI 技術支援也相對不足。', 'date': '2024-06-01'}, '32f2482d673d125cc454051508f37635': {'link': 'https://www.inside.com.tw/article/35192-circle-life-termination-of-operations', 'image': 'https://bucket-image.inkmaginecms.com/version/list/1/image/2024/05/969a50ee-fb7c-47b2-9dc3-cbdb7b783907.jpg', 'title': '強打不綁約、不限速4G吃到飽的新加坡無框行動 （Circles.Life）7月15日下台一鞠躬。', 'date': '2024-05-31'}, '0db0a8ca959105f40baac7f0f6fa3d3b': {'link': 'https://www.inside.com.tw/article/35036-COMPUTEX2024', 'image': 'https://bucket-image.inkmaginecms.com/version/list/1/image/2024/05/de3f70da-8217-4102-b5b8-098ded8746ef.jpg', 'title': '台北國際電腦展（COMPUTEX 2024）將於 6 月 4 日至 6 月 7 日在南港展覽館 1 館及 2 館登場，今年以「AI串聯、共創未來（Connecting AI）」為主軸，匯集全球 1,500 家國內外科技業者、新創企業、創投、加速器等夥伴共襄盛舉。', 'date': '2024-05-16'}, '4cbc235c28ae369458a01e33d226389c': {'link': 'https://www.inside.com.tw/article/35191-intel-amd-microsoft-and-other-industries-collaborate-to-propose-network-interconnection-standards-to-make-it-easier-for-artificial-intelligence-servers-to-connect-in-series', 'image': 'https://bucket-image.inkmaginecms.com/version/list/1/image/2024/05/2f8e7d3f-028a-4a89-a119-bdc19a878dce.jpg', 'title': '這 8 家企業為 AI 數據中心的網路制定了新的互聯技術 UALink，可望打破市場領導者 Nvidia 的壟斷。', 'date': '2024-05-31'}, '1dfb75d7f84ebd64ae9eaf7ede64fa42': {'link': 'https://www.inside.com.tw/article/35190-openai-chatgpt-edu', 'image': 'https://bucket-image.inkmaginecms.com/version/list/1/image/2024/05/39df0978-a735-453c-804b-4d349c8f57f5.jpg', 'title': 'OpenAI 說明 ChatGPT Edu 的限制會比免費版更少，並且能用於建構 GPTs 客製化服務，更支援超過 50 種語言！', 'date': '2024-05-31'}, '3de98ca4d4f61ee1a14ad1f59e4063fe': {'link': 'https://www.inside.com.tw/article/35018-MarTechAsia2024', 'image': 'https://bucket-image.inkmaginecms.com/version/list/1/image/2024/05/44460c27-0990-4cd9-a980-925308fd0234.png', 'title': '行銷科技領導品牌阿物科技舉辦 MarTech Asia 2024 暨成長駭客年會，主題為《預見．AI 行銷超未來》。大會聚焦 MarTech x AI 創新應用，邀請 12 位企業領袖及產業專家，探討人機協作、數據變現、品牌創新、媒體佈局等議題。本屆年會採全程線上直播，6 月 26 日（三）10:00 - 17:00 舉行，早鳥票 52 折即日啟售！', 'date': '2024-05-15'}, '76a194269cec33c0e12c228f946b000e': {'link': 'https://www.inside.com.tw/article/35189-samsung-requires-independent-repair-shops-to-share-customer-data-snitch-on-people-who-use-aftermarket-parts', 'image': 'https://bucket-image.inkmaginecms.com/version/list/1/image/2024/05/2dd3c874-b65e-45bd-b7d4-7aac7580bae4.jpg', 'title': '這些維修店需要簽署此協議才能從三星獲得維修零件。', 'date': '2024-05-31'}, '34bd8403682250d538731f4f5e2d4d7e': {'link': 'https://www.inside.com.tw/article/35188-meta-use-your-data-train-ai', 'image': 'https://bucket-image.inkmaginecms.com/version/list/1/image/2024/05/44f7b8b4-4146-458e-a984-814dcf9421db.jpg', 'title': '該說這次 Meta 至少有知會了嗎？', 'date': '2024-05-31'}, '6dd9c06912ab0868bfbc4c1994ea332a': {'link': 'https://www.inside.com.tw/article/35009-', 'image': 'https://bucket-image.inkmaginecms.com/version/list/1/image/2024/05/cd15380d-544d-4072-9ba1-8138ca1ba0af.png', 'title': '5 月 23 日下午，AWS 即將舉辦的基礎雲端技術培訓課程（AWSomeDay），是為新手量身打造全程免費、半天養成的入門雲端線上課程，歡迎大小企業揪團報名，從企業內部成員開始培養更多具備數位轉型思維與基礎數位能力的核心員工！', 'date': '2024-05-14'}, '5039a4afb0d1d8e88627650174682edf': {'link': 'https://www.inside.com.tw/article/35187-tiktok-preparing-us-copy-apps-core-algorithm', 'image': 'https://bucket-image.inkmaginecms.com/version/list/1/image/2024/05/adce0e62-9b4f-42fd-a304-c4e2084187c3.jpg', 'title': 'TikTok 即將一分為二？', 'date': '2024-05-31'}, '5a6c325bb949adb01b7c2e8682756c6c': {'link': 'https://www.inside.com.tw/article/35181-universal-vs-disney', 'image': 'https://bucket-image.inkmaginecms.com/version/list/1/image/2024/05/8d77f712-ba35-44c4-a6c8-32a7fde544c4.jpg', 'title': '2025 年，環球影城「史詩宇宙樂園」即將開幕，與 15 公里外的華特迪士尼世界度假區正面交鋒。分析師預估，新樂園可能導致迪士尼樂園入園人數減少 100 萬，造成數億美元損失。迪士尼樂園業務利潤近年超越電視部門，成為最穩定的收入來源。但環球影城憑藉《哈利波特》和任天堂等熱門 IP，以及不斷創新的基礎設施，正對迪士尼構成巨大威脅。', 'date': '2024-05-31'}, '94aa8a4ef03d03c567bb2cd6ebfd639e': {'link': 'https://www.inside.com.tw/article/34974-pinkoi', 'image': 'https://bucket-image.inkmaginecms.com/version/list/1/image/2024/05/11a9446c-f0b3-4c12-b962-aaddefed521a.jpg', 'title': '翻開 Pinkoi 名片背後，一句簡潔的「Design the way you are」映入眼簾，這正是 Pinkoi 共同創辦人暨執行長顏君庭創立公司的初衷：希望每個人都能用好的設計，實踐獨特的自我風格與生活樣貌。近年來， Pinkoi 不僅成功將設計生態圈拓展至國際，也串接  AI 引擎服務，成功以科技力搶攻消費者心佔率，讓跨境銷售零距離。', 'date': '2024-05-13'}, 'ef219b156493cb22c517d9119de3f3da': {'link': 'https://www.inside.com.tw/feature/ai-new-chip-war/35182-hbm-ai', 'image': 'https://bucket-image.inkmaginecms.com/version/list/1/image/2024/05/60188514-608a-440b-9f55-fbbeb3ef38cc.jpg', 'title': '在 AI 晶片競賽中，高頻寬記憶體 HBM 無疑成為各方爭相追逐的關鍵武器。', 'date': '2024-05-30'}, 'f9b3dcc92188029fae0c4b76b5f9a89c': {'link': 'https://www.inside.com.tw/article/35174-get-a-hold-of-human-relationship', 'image': 'https://bucket-image.inkmaginecms.com/version/list/1/image/2024/05/1df3654f-8da2-4aee-9dfa-048885c2ae79.jpg', 'title': '經營品牌 LINE 官方帳號，可以試想：面對你的目標族群，有沒有他們想完成事，但卻因為「惰性」容易半途而廢？這便是可以延伸出有價值內容的好主題。', 'date': '2024-05-30'}, 'a6c7f064efeea7fd663112dd020b7338': {'link': 'https://www.inside.com.tw/article/34957-AWS', 'image': 'https://bucket-image.inkmaginecms.com/version/list/1/image/2024/05/ae2ce385-6a29-40a4-929c-78c2a8c2d264.jpg', 'title': '今年五月，由台杉投資與 AWS 共同策畫，NVIDIA 協辦「生成式 AI 未來新創選拔」，本次選拔優勝團隊不只能獲得創投面對面的提案機會，還能獲得最高 25,000 美元 AWS 積分，並且有機會進入 NVIDIA 的INCEPTION PROGRAM！', 'date': '2024-05-08'}, 'e6923af833a66b84161fe93566f0aaf8': {'link': 'https://www.inside.com.tw/article/35180-seg-research', 'image': 'https://bucket-image.inkmaginecms.com/version/list/1/image/2024/05/982618d1-5caf-4728-b5e3-a43e12d22c2f.jpg', 'title': '目前國家正在全力邁向綠色轉型，預估市場將提供超過 1,200 個研究員的工作機會。', 'date': '2024-05-30'}, '1ac40133b3413a7a6ddeb05e7fa7e8f6': {'link': 'https://www.inside.com.tw/article/35179-amd-samsung-3nm-gaa', 'image': 'https://bucket-image.inkmaginecms.com/version/list/1/image/2024/05/a0d0f714-649a-4aa7-b75f-f65486499e99.jpg', 'title': '蘇姿丰在近日談話中指出，將運用 3 奈米 GAA 製程量產次世代晶片。而三星是目前唯一一家商業化 3 奈米 GAA 製程技術的晶片製造商。', 'date': '2024-05-30'}, 'c38d2f81a8ce075d582d585b3a061edc': {'link': 'https://www.inside.com.tw/article/34837-surveycake-plan', 'image': 'https://bucket-image.inkmaginecms.com/version/list/1/image/2024/04/87ba481b-fac4-4b9f-9608-3826b77ddd82.png', 'title': 'SurveyCake 全新團隊版登場！多元團隊協作功能，提升資安與協作效率。若需更多進階功能如巢狀選擇題、個資加密題等，或客製化彈性最高的方案，則適合選擇企業版。立即點擊連結了解更多，並填寫表單由顧問評估最適合的方案！', 'date': '2024-05-02'}, '3747a40fa1c831b7e9d01ba5976f6a19': {'link': 'https://www.inside.com.tw/article/35175-openai-signs-deal-with-vox-atlantic', 'image': 'https://bucket-image.inkmaginecms.com/version/list/1/image/2024/05/9c25544c-4ca5-428a-ac4f-db44052840ef.png', 'title': '兩間出版商也能運用 OpenAI 技術驅動新聞產品，《大西洋》將開發新的 AI 產品和功能，並向 OpenAI 回饋他們實驗的結果。', 'date': '2024-05-30'}, '5adc30cf267ccb82d1a60bdae9dd5def': {'link': 'https://www.inside.com.tw/article/35178-what-elon-musk-should-tell-donald-trump', 'image': 'https://bucket-image.inkmaginecms.com/version/list/1/image/2024/05/be43d4a4-14e6-4b57-8741-b16ead92a647.jpg', 'title': '外媒爆料兩人這幾個月正在密切接洽秘密合作，如果川普獲勝，馬斯克可能會在川普第二任政府擔任顧問。但，川普不是傳統化石燃料的堅定支持者嗎？', 'date': '2024-05-30'}, '0dbdc2e0b9d7bcf78cf5cf034f67567a': {'link': 'https://www.inside.com.tw/article/34878-CFC', 'image': 'https://bucket-image.inkmaginecms.com/version/list/1/image/2024/04/54e2c9ae-c164-4702-bca4-7aac02359905.png', 'title': '112年度及112年1月1日起實施的「營利事業及個人受控外國企業（CFC）制度」即將於113年5月首次申報。受控外國企業（CFC）是什麼？CFC制度實施前後的稅負效果為何？本文將帶大家一次看懂CFC制度！', 'date': '2024-05-01'}, '525732255a708d5f440903de223d71b6': {'link': 'https://www.inside.com.tw/article/35173-chatgpt-da-features-for-free-users', 'image': 'https://bucket-image.inkmaginecms.com/version/list/1/image/2024/05/264ca127-e092-4a36-8d6f-4bb1d5828644.jpg', 'title': 'ChatGPT 開放免費使用者點選左下角迴紋針圖示後，連接 OneDrive 和 Google Drive 資料至 ChatGPT，不需將文件先下載到再上傳。', 'date': '2024-05-30'}, 'b4a393f6c917ce8a1114e8cdba6d3182': {'link': 'https://www.inside.com.tw/article/35170-coupang-ups-tw-investment', 'image': 'https://bucket-image.inkmaginecms.com/version/list/1/image/2024/05/c55dcc78-cca5-4309-adf8-be27e2299924.jpg', 'title': '一位匿名專家指出，酷澎在台灣的事業尚未穩定發展到韓國的規模，因此公司先嘗試透過營運獨立子公司，來加強火箭速配服務。', 'date': '2024-05-30'}, '30f2562c3468d4fc48ca9e696c9f9042': {'link': 'https://www.inside.com.tw/article/34840-KDAN', 'image': 'https://bucket-image.inkmaginecms.com/version/list/1/image/2024/04/38f226dd-396e-41a3-9644-c9570476618c.png', 'title': 'KDAN PDF Reader 透過結合 AI 科技與文件應用服務，為用戶帶來更安全、更有效率的文件處理流程。', 'date': '2024-04-30'}}}\n"
          ]
        }
      ]
    },
    {
      "cell_type": "code",
      "source": [
        "from datetime import datetime\n",
        "now = datetime.now()\n",
        "strTime = now.strftime(\"%Y-%M-%D %H:%M:%S\")\n",
        "date1 = strTime[:10] # 取前10碼到日期\n",
        "content = news1['news_contents']\n",
        "for key in content:\n",
        "  mononews = content[key]\n",
        "  print('新聞標題：', mononews['title'])\n",
        "  print('新聞連結：', mononews['link'])\n",
        "  if 'ago' in mononews['date']:\n",
        "    mononews['date'] = date1\n",
        "  print('發布日期：', mononews['date'])\n",
        "  print('=====================================================')"
      ],
      "metadata": {
        "colab": {
          "base_uri": "https://localhost:8080/"
        },
        "id": "tyxW3sM03BpR",
        "outputId": "3f9f0af5-9bd8-43ea-83e6-dac735aab52c"
      },
      "execution_count": 74,
      "outputs": [
        {
          "output_type": "stream",
          "name": "stdout",
          "text": [
            "新聞標題： 不過根據實測，Perplexity 整理報告的深度似乎還略顯不足，如果做成「快速聚焦」的初期簡報，或是給急著寫作業的大學生可能還適用。\n",
            "新聞連結： https://www.inside.com.tw/article/35200-perplexity-ai-research-pages-school-report\n",
            "發布日期： 2024-06-02\n",
            "=====================================================\n",
            "新聞標題： 「用 AI 的人，正在取代不會 AI 的人；會用 AI 的企業，正在取代不會用 AI 的公司；而會用 AI 的國家，將會在文化上取代不會用 AI 的國家。」前 Google 台灣董事總經理簡立峰為今年 Generative AI 年會做了一個有力的註腳。\n",
            "新聞連結： https://www.inside.com.tw/feature/2024-generative-ai-week/35129-2024-generative-ai-conference\n",
            "發布日期： 2024-06-02\n",
            "=====================================================\n",
            "新聞標題： 在疫情催化下，視訊會議已成工作日常。ViewSonic 推出「TeamJoin」視訊協作會議解決方案，協助企業輕鬆導入，提供完美、高效率的線上會議體驗，保障資訊安全。ViewSonic 優派學院連育仁院長分享企業視訊會議痛點及解決方案，如整合會議室排程、一鍵啟動功能，以及高效協作環境。TeamJoin 搭配 ViewSonic ViewBoard 互動顯示器，可全方位提高會議協作效率，獲得最佳視訊會議體驗。\n",
            "新聞連結： https://www.inside.com.tw/article/35177-ViewSonic\n",
            "發布日期： 2024-06-01\n",
            "=====================================================\n",
            "新聞標題： Anthropic 最近發表論文，透過一種創新的研究方法成功地對 Anthropic 自家語言模型 Claude 3 Sonnet 進行了逆向工程。\n",
            "新聞連結： https://www.inside.com.tw/article/35095-anthropic-black-box-ai-research-neurons-features\n",
            "發布日期： 2024-06-02\n",
            "=====================================================\n",
            "新聞標題： 蘋果強調在每款產品正式發布前，都會對其進行超過 1 萬次的模擬測試。\n",
            "新聞連結： https://www.inside.com.tw/article/35184-marques-brownlee-iphone-testing-video\n",
            "發布日期： 2024-06-02\n",
            "=====================================================\n",
            "新聞標題： 飛宏科技將出席 2024 年台北國際電腦展（Computex 2024），並重點展示專為電競筆電所設計的新系列 GaN 快充電源供應器與i XCharger 產品。此外，飛宏科技亦將永續理念結合到產品的生產設計中，簡化不必要的製造過程、提高產品的能源轉換率，達到有效碳排放量減少的目的，實踐飛宏科技對環境永續發展的承諾。\n",
            "新聞連結： https://www.inside.com.tw/article/35153-Phihong\n",
            "發布日期： 2024-05-30\n",
            "=====================================================\n",
            "新聞標題： 過去消費者看到 iPad Air 第一眼聯想到「輕薄機型」，但新 iPad Pro 不僅厚度比 iPad Air 薄，重量還更輕，那 iPad Air 的「Air」到底代表什麼意思？\n",
            "新聞連結： https://www.inside.com.tw/article/35016-ipad-air-nuance\n",
            "發布日期： 2024-06-02\n",
            "=====================================================\n",
            "新聞標題： 奧地利首都維也納被評為全球 10 大宜居城市第一名，但您知道，奧地利也是創業能量十分豐富的國家嗎？\n",
            "新聞連結： https://www.inside.com.tw/article/35199-austrian-startup-environment\n",
            "發布日期： 2024-06-02\n",
            "=====================================================\n",
            "新聞標題： APMIC 推出的「CaiGunn 開講」在地化大型語言模型，結合 HPE ProLiant DL320 Gen11 和 DL380a Gen11 伺服器，提供高效生成式 AI 應用，助企業加速 AI 專案部署。\n",
            "透過強大的硬體支持，該模型在智能客服和知識管理上顯著提升效率，解決應答率低和內部文件管理問題，強化企業競爭力。\n",
            "新聞連結： https://www.inside.com.tw/article/35146-APMIC\n",
            "發布日期： 2024-05-29\n",
            "=====================================================\n",
            "新聞標題： Android TV 14 也稍微融入了 Gemini 模型。Gemini 將為 Android TV 主畫面上的影集和電影生成「客製化描述」。\n",
            "新聞連結： https://www.inside.com.tw/article/35045-android-tv-14\n",
            "發布日期： 2024-06-02\n",
            "=====================================================\n",
            "新聞標題： Google 首次回應這次爆炸性的洩密事件。\n",
            "新聞連結： https://www.inside.com.tw/article/35172-google-search-doc-leaked\n",
            "發布日期： 2024-06-02\n",
            "=====================================================\n",
            "新聞標題： 在全球擁有數十萬用戶的雲端服務領導業者 AWS 推出之生成式 AI 平台「Amazon Bedrock」推出滿一周年之際，耳熟能詳的 AI 模型如 Stable Diffusion 、 Claude 、 Mistral 、 Llama 陸續登上 Bedrock 。另一方面， AWS 近期完成對 Anthropic 的 40 億美元投資案，這些佈局背後用意，如何讓 AWS 在長期的 AI 軍備競賽當中，保持領先地位？\n",
            "新聞連結： https://www.inside.com.tw/feature/side-chat/35142-AWS\n",
            "發布日期： 2024-05-28\n",
            "=====================================================\n",
            "新聞標題： 最近 Google 資安專家 Matt Linton 呼籲大家不要再故意寄試釣魚信給員工了！\n",
            "新聞連結： https://www.inside.com.tw/article/35109-google-stop-trying-to-trick-employees-with-fake-phishing-emails\n",
            "發布日期： 2024-06-02\n",
            "=====================================================\n",
            "新聞標題： 根據外媒推測，本次 IPO Webtoon 可能尋求籌集 5 億美元，目前市值推估 30 億美元至 40 億美元之間。\n",
            "新聞連結： https://www.inside.com.tw/article/35198-navers-webtoon-entertainment-files-us-ipo-disclosing-losses\n",
            "發布日期： 2024-06-01\n",
            "=====================================================\n",
            "新聞標題： 在高階市場深受肯定的 IronYun（鐵雲科技）Vaidio AI 視覺平台，結合 HPE ProLiant 伺服器，提供強大的即時分析能力，適用於智慧城市和智慧製造等複雜場域，成功案例已遍及全球 40 多個國家。\n",
            "新聞連結： https://www.inside.com.tw/article/35111-HPE\n",
            "發布日期： 2024-05-28\n",
            "=====================================================\n",
            "新聞標題： PicCollage 最初只是個 Demo App，但適逢 Instagram 興起，大家都在尋找好用的拼貼相片 APP，幫助它在上線首月就創下 14 萬驚人下載量。儘管當時下載量和活躍用戶數亮眼，創辦人 John 坦言公司曾經陷入募資瓶頸，還有差點發不出員工薪資的危機時刻⋯⋯。\n",
            "新聞連結： https://www.inside.com.tw/feature/side-chat/35196-side-chat-e245\n",
            "發布日期： 2024-06-01\n",
            "=====================================================\n",
            "新聞標題： 想要用一個人就做出產品、行銷用短影音嗎？用 AI 吧！\n",
            "新聞連結： https://www.inside.com.tw/article/35197-use-ai-to-create-short-videos\n",
            "發布日期： 2024-06-01\n",
            "=====================================================\n",
            "新聞標題： STARBIT 思偉達攜手日本金澤工業大學，推動產學技術合作交流，將於 2024 年 5 月起展開深度合作規劃，將台灣區塊鏈以及 AI 技術量能導入日本大學教育體系，共同研發「遠距離戀愛機器人系統」以及「數位集章」在文化觀光場域，深化台日之間新創技術的合作。\n",
            "新聞連結： https://www.inside.com.tw/article/35126-STARBIT\n",
            "發布日期： 2024-05-27\n",
            "=====================================================\n",
            "新聞標題： 報導指出黃仁勳性格反覆無常、說話嚴厲，雖然他承認自己語氣有時無心地粗暴，但這是腦子裡想的和嘴裡說的話不一致。儘管如此，NVIDIA 留任率依然很高。\n",
            "新聞連結： https://www.inside.com.tw/article/35195-nvidia-jensen-huang-email-style-concise-key-points-insiders\n",
            "發布日期： 2024-06-01\n",
            "=====================================================\n",
            "新聞標題： OpenA 阻止了 5 起秘密影響力行動，這些行動試圖利用 OpenAI 的技術操縱世界各地輿論和影響地緣政治。\n",
            "新聞連結： https://www.inside.com.tw/article/35194-openai-influence-operations-china-russia\n",
            "發布日期： 2024-06-01\n",
            "=====================================================\n",
            "新聞標題： 安葆電能採用 MetaGuru 逐鹿數位「企業流程管理系統」（BPM），促進成功經驗傳承，更大幅提升企業營運效率。導入逐鹿數位 BPM 後，安葆電能稽核效率躍升 90%，同時減少 70% 的填單時間，後續更計畫透過逐鹿數位實現 BPM 與 ERP 的串接，並滿足各部門的BI報表需求。\n",
            "新聞連結： https://www.inside.com.tw/article/35073-MetaGuru\n",
            "發布日期： 2024-05-23\n",
            "=====================================================\n",
            "新聞標題： 台大機械系教授郭重顯指出機器狗發展在國際上相當熱絡，但台灣遲遲無法導入，背後原因除成本高昂之外，客製化服務、AI 技術支援也相對不足。\n",
            "新聞連結： https://www.inside.com.tw/article/35193-ntu-releases-taiwanese-made-ai-robot-dog\n",
            "發布日期： 2024-06-01\n",
            "=====================================================\n",
            "新聞標題： 強打不綁約、不限速4G吃到飽的新加坡無框行動 （Circles.Life）7月15日下台一鞠躬。\n",
            "新聞連結： https://www.inside.com.tw/article/35192-circle-life-termination-of-operations\n",
            "發布日期： 2024-05-31\n",
            "=====================================================\n",
            "新聞標題： 台北國際電腦展（COMPUTEX 2024）將於 6 月 4 日至 6 月 7 日在南港展覽館 1 館及 2 館登場，今年以「AI串聯、共創未來（Connecting AI）」為主軸，匯集全球 1,500 家國內外科技業者、新創企業、創投、加速器等夥伴共襄盛舉。\n",
            "新聞連結： https://www.inside.com.tw/article/35036-COMPUTEX2024\n",
            "發布日期： 2024-05-16\n",
            "=====================================================\n",
            "新聞標題： 這 8 家企業為 AI 數據中心的網路制定了新的互聯技術 UALink，可望打破市場領導者 Nvidia 的壟斷。\n",
            "新聞連結： https://www.inside.com.tw/article/35191-intel-amd-microsoft-and-other-industries-collaborate-to-propose-network-interconnection-standards-to-make-it-easier-for-artificial-intelligence-servers-to-connect-in-series\n",
            "發布日期： 2024-05-31\n",
            "=====================================================\n",
            "新聞標題： OpenAI 說明 ChatGPT Edu 的限制會比免費版更少，並且能用於建構 GPTs 客製化服務，更支援超過 50 種語言！\n",
            "新聞連結： https://www.inside.com.tw/article/35190-openai-chatgpt-edu\n",
            "發布日期： 2024-05-31\n",
            "=====================================================\n",
            "新聞標題： 行銷科技領導品牌阿物科技舉辦 MarTech Asia 2024 暨成長駭客年會，主題為《預見．AI 行銷超未來》。大會聚焦 MarTech x AI 創新應用，邀請 12 位企業領袖及產業專家，探討人機協作、數據變現、品牌創新、媒體佈局等議題。本屆年會採全程線上直播，6 月 26 日（三）10:00 - 17:00 舉行，早鳥票 52 折即日啟售！\n",
            "新聞連結： https://www.inside.com.tw/article/35018-MarTechAsia2024\n",
            "發布日期： 2024-05-15\n",
            "=====================================================\n",
            "新聞標題： 這些維修店需要簽署此協議才能從三星獲得維修零件。\n",
            "新聞連結： https://www.inside.com.tw/article/35189-samsung-requires-independent-repair-shops-to-share-customer-data-snitch-on-people-who-use-aftermarket-parts\n",
            "發布日期： 2024-05-31\n",
            "=====================================================\n",
            "新聞標題： 該說這次 Meta 至少有知會了嗎？\n",
            "新聞連結： https://www.inside.com.tw/article/35188-meta-use-your-data-train-ai\n",
            "發布日期： 2024-05-31\n",
            "=====================================================\n",
            "新聞標題： 5 月 23 日下午，AWS 即將舉辦的基礎雲端技術培訓課程（AWSomeDay），是為新手量身打造全程免費、半天養成的入門雲端線上課程，歡迎大小企業揪團報名，從企業內部成員開始培養更多具備數位轉型思維與基礎數位能力的核心員工！\n",
            "新聞連結： https://www.inside.com.tw/article/35009-\n",
            "發布日期： 2024-05-14\n",
            "=====================================================\n",
            "新聞標題： TikTok 即將一分為二？\n",
            "新聞連結： https://www.inside.com.tw/article/35187-tiktok-preparing-us-copy-apps-core-algorithm\n",
            "發布日期： 2024-05-31\n",
            "=====================================================\n",
            "新聞標題： 2025 年，環球影城「史詩宇宙樂園」即將開幕，與 15 公里外的華特迪士尼世界度假區正面交鋒。分析師預估，新樂園可能導致迪士尼樂園入園人數減少 100 萬，造成數億美元損失。迪士尼樂園業務利潤近年超越電視部門，成為最穩定的收入來源。但環球影城憑藉《哈利波特》和任天堂等熱門 IP，以及不斷創新的基礎設施，正對迪士尼構成巨大威脅。\n",
            "新聞連結： https://www.inside.com.tw/article/35181-universal-vs-disney\n",
            "發布日期： 2024-05-31\n",
            "=====================================================\n",
            "新聞標題： 翻開 Pinkoi 名片背後，一句簡潔的「Design the way you are」映入眼簾，這正是 Pinkoi 共同創辦人暨執行長顏君庭創立公司的初衷：希望每個人都能用好的設計，實踐獨特的自我風格與生活樣貌。近年來， Pinkoi 不僅成功將設計生態圈拓展至國際，也串接  AI 引擎服務，成功以科技力搶攻消費者心佔率，讓跨境銷售零距離。\n",
            "新聞連結： https://www.inside.com.tw/article/34974-pinkoi\n",
            "發布日期： 2024-05-13\n",
            "=====================================================\n",
            "新聞標題： 在 AI 晶片競賽中，高頻寬記憶體 HBM 無疑成為各方爭相追逐的關鍵武器。\n",
            "新聞連結： https://www.inside.com.tw/feature/ai-new-chip-war/35182-hbm-ai\n",
            "發布日期： 2024-05-30\n",
            "=====================================================\n",
            "新聞標題： 經營品牌 LINE 官方帳號，可以試想：面對你的目標族群，有沒有他們想完成事，但卻因為「惰性」容易半途而廢？這便是可以延伸出有價值內容的好主題。\n",
            "新聞連結： https://www.inside.com.tw/article/35174-get-a-hold-of-human-relationship\n",
            "發布日期： 2024-05-30\n",
            "=====================================================\n",
            "新聞標題： 今年五月，由台杉投資與 AWS 共同策畫，NVIDIA 協辦「生成式 AI 未來新創選拔」，本次選拔優勝團隊不只能獲得創投面對面的提案機會，還能獲得最高 25,000 美元 AWS 積分，並且有機會進入 NVIDIA 的INCEPTION PROGRAM！\n",
            "新聞連結： https://www.inside.com.tw/article/34957-AWS\n",
            "發布日期： 2024-05-08\n",
            "=====================================================\n",
            "新聞標題： 目前國家正在全力邁向綠色轉型，預估市場將提供超過 1,200 個研究員的工作機會。\n",
            "新聞連結： https://www.inside.com.tw/article/35180-seg-research\n",
            "發布日期： 2024-05-30\n",
            "=====================================================\n",
            "新聞標題： 蘇姿丰在近日談話中指出，將運用 3 奈米 GAA 製程量產次世代晶片。而三星是目前唯一一家商業化 3 奈米 GAA 製程技術的晶片製造商。\n",
            "新聞連結： https://www.inside.com.tw/article/35179-amd-samsung-3nm-gaa\n",
            "發布日期： 2024-05-30\n",
            "=====================================================\n",
            "新聞標題： SurveyCake 全新團隊版登場！多元團隊協作功能，提升資安與協作效率。若需更多進階功能如巢狀選擇題、個資加密題等，或客製化彈性最高的方案，則適合選擇企業版。立即點擊連結了解更多，並填寫表單由顧問評估最適合的方案！\n",
            "新聞連結： https://www.inside.com.tw/article/34837-surveycake-plan\n",
            "發布日期： 2024-05-02\n",
            "=====================================================\n",
            "新聞標題： 兩間出版商也能運用 OpenAI 技術驅動新聞產品，《大西洋》將開發新的 AI 產品和功能，並向 OpenAI 回饋他們實驗的結果。\n",
            "新聞連結： https://www.inside.com.tw/article/35175-openai-signs-deal-with-vox-atlantic\n",
            "發布日期： 2024-05-30\n",
            "=====================================================\n",
            "新聞標題： 外媒爆料兩人這幾個月正在密切接洽秘密合作，如果川普獲勝，馬斯克可能會在川普第二任政府擔任顧問。但，川普不是傳統化石燃料的堅定支持者嗎？\n",
            "新聞連結： https://www.inside.com.tw/article/35178-what-elon-musk-should-tell-donald-trump\n",
            "發布日期： 2024-05-30\n",
            "=====================================================\n",
            "新聞標題： 112年度及112年1月1日起實施的「營利事業及個人受控外國企業（CFC）制度」即將於113年5月首次申報。受控外國企業（CFC）是什麼？CFC制度實施前後的稅負效果為何？本文將帶大家一次看懂CFC制度！\n",
            "新聞連結： https://www.inside.com.tw/article/34878-CFC\n",
            "發布日期： 2024-05-01\n",
            "=====================================================\n",
            "新聞標題： ChatGPT 開放免費使用者點選左下角迴紋針圖示後，連接 OneDrive 和 Google Drive 資料至 ChatGPT，不需將文件先下載到再上傳。\n",
            "新聞連結： https://www.inside.com.tw/article/35173-chatgpt-da-features-for-free-users\n",
            "發布日期： 2024-05-30\n",
            "=====================================================\n",
            "新聞標題： 一位匿名專家指出，酷澎在台灣的事業尚未穩定發展到韓國的規模，因此公司先嘗試透過營運獨立子公司，來加強火箭速配服務。\n",
            "新聞連結： https://www.inside.com.tw/article/35170-coupang-ups-tw-investment\n",
            "發布日期： 2024-05-30\n",
            "=====================================================\n",
            "新聞標題： KDAN PDF Reader 透過結合 AI 科技與文件應用服務，為用戶帶來更安全、更有效率的文件處理流程。\n",
            "新聞連結： https://www.inside.com.tw/article/34840-KDAN\n",
            "發布日期： 2024-04-30\n",
            "=====================================================\n"
          ]
        }
      ]
    },
    {
      "cell_type": "code",
      "source": [],
      "metadata": {
        "id": "ISMZUhzf8O72"
      },
      "execution_count": null,
      "outputs": []
    }
  ]
}